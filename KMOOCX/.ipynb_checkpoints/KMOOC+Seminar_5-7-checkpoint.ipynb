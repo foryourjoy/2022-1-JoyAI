{
 "cells": [
  {
   "cell_type": "markdown",
   "id": "6e927810",
   "metadata": {},
   "source": [
    "하나님이 자기 형상 곧 하나님의 형상대로 사람을 창조하시되 남자와 여자를 창조하시고 하나님이 그들에게 복을 주시며 하나님이 그들에게 이르시되 생육하고 번성하여 땅에 충만하라, 땅을 정복하라, 바다의 물고기와 하늘의 새와 땅에 움직이는 모든 생물을 다스리라 하시니라\t(창1:27-28)\n",
    "\n",
    "<center><img src=\"https://github.com/idebtor/KMOOC-ML/blob/master/ipynb/images/MLwithPython.png?raw=true\" width=1000></center>\n",
    "\n",
    "__NOTE:__ 해당 내용은 1주차~7주차까지의 내용으로 구성되어 있습니다. 해당 파일에 대한 저작권은 박준혁(`walter1023@daum.net`)과 이경준(`kjune18@naver.com`)에게 있습니다."
   ]
  },
  {
   "cell_type": "markdown",
   "id": "8869c4a9-230f-443c-8c8e-e87f2b76011f",
   "metadata": {},
   "source": [
    "# KMOOC+ 온오프라인 세미나 자료"
   ]
  },
  {
   "cell_type": "markdown",
   "id": "a108bdcd-f386-4b5a-aeab-ce6fa5d4d7ad",
   "metadata": {},
   "source": [
    "# 제 5 주차\n",
    "\n",
    "# 1) 기계학습 작업 흐름도$^{ML \\ Workflow}$\n",
    "\n",
    "- 학습 목표\n",
    "    - 기계학습의 전체 과정을 이해하여 단계별 작업에 필요한 흐름을 이해한다.  \n",
    "\n",
    "- 학습 내용\n",
    "    - 기계학습 작업 과정에 대한 이해 \n",
    "    - 학습 자료 준비\n",
    "    - 학습 자료 읽기\n",
    "    - 학습 자료에서 노이즈\n",
    "    - 학습 자료 전처리\n",
    "    - 오차/정확도 측정\n",
    "\n",
    "# 2) 객체 지향 프로그래밍(OOP)\n",
    "\n",
    "- 학습 목표\n",
    "    - 객체의 특성을 이해한다.\n",
    "    - 객체와 클래스가 무엇인지 이해한다.\n",
    "    - 생성자가 무엇인지 이해한다.\n",
    "    - 매개변수 self의 역할이 무엇인지 이해한다.  \n",
    "    \n",
    "- 학습 내용\n",
    "    - 객체\n",
    "    - 클래스와 객체\n",
    "    - 생성자\n",
    "    - 매개변수 self\n"
   ]
  },
  {
   "cell_type": "markdown",
   "id": "9f1d80ef-f745-43a6-8e44-1dd3ba05bc62",
   "metadata": {},
   "source": [
    "## 기계학습 작업 흐름도\n",
    "\n",
    "1) 자료 준비 단계: 자료 수집과 전처리  \n",
    "2) 학습 단계: 모델 훈련과 완성  \n",
    "3) 검증 단계: 하이퍼 파라미터 조정  \n",
    "4) 평가 단계: 최종 실전 배치 여부 결정  \n",
    "5) 예측 단계: 실전 배치  \n",
    "\n",
    "\n",
    "<center><img src=\"https://github.com/idebtor/KMOOC-ML/blob/master/ipynb/images/ch5/MachineLearningWorkflow.PNG?raw=true\" width=\"600\">\n",
    "<center>그림 1: 기계 학습 작업 흐름도 1</center>"
   ]
  },
  {
   "cell_type": "markdown",
   "id": "6c5c810e-2fb9-48b0-8aa1-c11033b6e7e9",
   "metadata": {},
   "source": [
    "### 자료 준비 단계\n",
    "\n",
    "1. 데이터의 Shape\n",
    "    * 축(axis)의 의미 - axis=0, axis=1\n",
    "    * Slicing technique - data[start : end : step]\n",
    "    * 3차원 데이터 - (3000, 100, 10)\n",
    "    \n",
    "    \n",
    "2. 데이터 전처리\n",
    "    * 셔플링 - 적용 시점\n",
    "    * 피쳐 스케일링 - 정규화, 표준화\n",
    "    * 자료 분리 - training set, validation set, test set\n"
   ]
  },
  {
   "cell_type": "markdown",
   "id": "19bdfb43",
   "metadata": {},
   "source": [
    "## 객체 지향 프로그래밍 (Object-Oriented Programming, OOP)\n",
    "\n",
    "1. 객체, 클래스\n",
    "    * 예시 - 자동차/공장, 붕어빵/틀  \n",
    "    \n",
    "\n",
    "2. 생성자, 매개변수, 메서드 등  \n",
    "    => 강의 자료 참고하여 프로그래밍 실습이 베스트!\n"
   ]
  },
  {
   "cell_type": "markdown",
   "id": "77866d60",
   "metadata": {},
   "source": [
    "# 제 6 주차\n",
    "\n",
    "# 1) 객체지향 퍼셉트론\n",
    "\n",
    "- 학습 목표\n",
    "    - 객체지향 퍼셉트론을 구현한다.\n",
    "    - 객체지향 퍼셉트론 모델을 사용 및 검증한다.\n",
    "\n",
    "- 학습 내용\n",
    "    - 퍼셉트론 클래스 설계\n",
    "    - 객체지향 퍼셉트론 구현\n",
    "    - 객체지향 퍼셉트론의 장점 활용\n",
    "    - Joy DataSet으로 객체지향 퍼셉트론 검증\n",
    "    \n",
    "\n",
    "\n",
    "# 2) 다층 퍼셉트론\n",
    "\n",
    "- 학습 목표\n",
    "    - 다층 퍼셉트론의 구조와 학습방법을 이해한다.\n",
    "    - 생물학적 뉴런의 구조와 인공신경망을 비교한다.  \n",
    "    \n",
    "- 학습 내용\n",
    "    - 퍼셉트론 다시보기\n",
    "    - 다층 퍼셉트론\n",
    "    - 생물학적 뉴런\n",
    "    "
   ]
  },
  {
   "cell_type": "markdown",
   "id": "c2a077da",
   "metadata": {},
   "source": [
    "## 객체지향 퍼셉트론\n",
    "\n",
    "1. 학습 과정과 수식\n",
    "    - 수식에 겁먹지 말자! 직접 숫자 넣어보고 풀어보면 금방 이해가 된다!"
   ]
  },
  {
   "cell_type": "markdown",
   "id": "1a42b5e8",
   "metadata": {},
   "source": [
    "## 기계학습 흐름도 2\n",
    "\n",
    "<center><img src=\"http://www.kmooc.kr/asset-v1:HGUk+HGU05+2021_T2+type@asset+block@midterm_4.png\" width=\"600\">\n",
    "<center>그림 2: 기계 학습 흐름도 2</center>"
   ]
  },
  {
   "cell_type": "markdown",
   "id": "03325ece",
   "metadata": {},
   "source": [
    "## 다층 퍼셉트론\n",
    "\n",
    "1. 다층 퍼셉트론을 사용하는 이유와 원리\n",
    "    - XOR Problem\n",
    "    - 논리 회로 예시\n",
    "    \n",
    "    \n",
    "2. 뉴론과 인공신경망"
   ]
  },
  {
   "cell_type": "markdown",
   "id": "0e2ded86",
   "metadata": {},
   "source": [
    "### 다층 퍼셉트론을 사용하는 이유와 원리\n",
    "\n",
    "<center><img src=\"https://github.com/idebtor/KMOOC-ML/blob/master/ipynb/images/ch4/XORClassifier3.PNG?raw=true\" width=\"600\">\n",
    "<center>그림 3: XOR(배타적 논리합)연산</center>"
   ]
  },
  {
   "cell_type": "markdown",
   "id": "f0523f78",
   "metadata": {},
   "source": [
    "<center><img src=\"https://github.com/idebtor/KMOOC-ML/blob/master/ipynb/images/ch6/gates.PNG?raw=true\" width=\"400\">\n",
    "<center>그림 4: 간단한 논리(AND, NAND, OR)회로 기호</center>\n",
    "<center><img src=\"https://github.com/idebtor/KMOOC-ML/blob/master/ipynb/images/ch6/gatesXOR2.PNG?raw=true\" width=\"400\">\n",
    "<center>그림 5: AND, NAND, OR로 구성된 XOR</center>"
   ]
  },
  {
   "cell_type": "markdown",
   "id": "53485509",
   "metadata": {},
   "source": [
    "### 뉴론과 인공신경망\n",
    "\n",
    "<center><img src=\"https://github.com/idebtor/KMOOC-ML/blob/master/ipynb/images/ch6/two_neurons.png?raw=true\" width=\"400\">\n",
    "<center>그림 6: 두 개의 뉴론과 기본 구조</center>\n",
    "    \n",
    "|  생물학적 신경망     |\t인공 신경망\n",
    "|:----------------------:|:--------------------:|\n",
    "| 뉴런(neuron)         |\t노드(Node)\n",
    "| 수상돌기(dendrite)  | \t입력(Input)\n",
    "| 축색돌기(axon)\t  |   출력(Output)\n",
    "| 시냅스(synapse)\t   |가중치(Weight)"
   ]
  },
  {
   "cell_type": "markdown",
   "id": "d951b6b1",
   "metadata": {},
   "source": [
    "# 제 7 주차\n",
    "\n",
    "# 1) 순방향 신경망\n",
    "\n",
    "- 학습 목표\n",
    "    - 순방향 신경망의 신호를 처리한다.\n",
    "    - MNIST 예제를 통해 순방향 신경망을 이해한다.\n",
    "\n",
    "- 학습 내용\n",
    "    - 순방향 신경망 신호표기\n",
    "    - 순방향 신경망 신호처리\n",
    "    - 가중치 표기법\n",
    "    - 순방향 신경망 계산\n",
    "    - MNIST 자료 이해\n",
    "    - 다층 신경망 설계\n",
    "    \n",
    "\n",
    "\n",
    "# 2) 아달라인과 경사하강법\n",
    "\n",
    "- 학습 목표\n",
    "    - 아달라인과 퍼셉트론 알고리즘의 차이점을 이해한다.\n",
    "    - 비용함수를 통해 오차가 최소되는 방법을 이해한다.\n",
    "    - 경사하강법을 통해 최저점을 찾는 방법을 이해한다.\n",
    "    \n",
    "- 학습 내용\n",
    "    - 아달라인 알고리즘\n",
    "    - 비용 함수\n",
    "    - 경사하강법\n",
    "    "
   ]
  },
  {
   "cell_type": "markdown",
   "id": "7f4cfddd",
   "metadata": {},
   "source": [
    "## 순방향 신경망\n",
    "\n",
    "1. 순방향 신경망 표기법\n",
    "    - 기호와 수식\n",
    "    - 가중치 표기법 ($W_{ij}$, $W_{ij}^{T}$)\n"
   ]
  },
  {
   "cell_type": "markdown",
   "id": "f71bbff2",
   "metadata": {},
   "source": [
    "### 순방향 신경망 표기법\n",
    "\n",
    "$\\mathbf{Z}:$ 뉴론의 입력  \n",
    "$\\mathbf{A}:$ 뉴론의 출력  \n",
    "$\\mathbf{L}:$ 전체 층의 수  \n",
    "$\\mathbf{I}:$ 각 층 번호  \n",
    "$\\mathbf{W}:$ 가중치  \n",
    "$\\mathbf{y}^{hat}:$ 최종 출력  \n",
    "\n",
    "\n",
    "<center><img src=\"https://github.com/idebtor/KMOOC-ML/blob/master/ipynb/images/ch7/2-3-2NN-Weights.PNG?raw=true\" width=\"600\">\n",
    "<center>그림 7: 신경망의 입력과 출력 및 가중치 $W_{ij}$ 표기법</center>"
   ]
  },
  {
   "cell_type": "markdown",
   "id": "bfdff60b",
   "metadata": {},
   "source": [
    "$W_{ij}$, $W_{ij}^{T}$  표기법\n",
    "\n",
    "\\begin{align}\n",
    "  \\mathbf{W}_{ij} &= \n",
    "  \\begin{pmatrix}\n",
    "    w_{11} & w_{12} & w_{13}  \\\\\n",
    "    w_{21} & w_{22} & w_{23} \\\\\n",
    "  \\end{pmatrix}\n",
    "\\end{align}\n",
    "\n",
    "\\begin{align}\n",
    "  \\mathbf{Z} &= \\mathbf{W}_{ij} A   \\\\  \\\\\n",
    "                   &= \n",
    "  \\begin{pmatrix}\n",
    "    w_{11} & w_{12} & w_{13}  \\\\\n",
    "    w_{21} & w_{22} & w_{23} \\\\\n",
    "  \\end{pmatrix}\n",
    "  \\begin{pmatrix}     x_1  \\\\     x_2  \\\\   \\end{pmatrix} \\tag{(2x3)*(2x1)} \\\\ \\\\ \n",
    "  \\\\\n",
    "  \\mathbf{Z} &= \\mathbf{W}_{ij}^{T} A   \\\\  \\\\\n",
    "  &= \n",
    "  \\begin{pmatrix}  \\tag{(3x2)*(2x1)}\n",
    "    w_{11}  & w_{21} \\\\\n",
    "    w_{12} & w_{22}  \\\\\n",
    "    w_{13} & w_{23} \\\\\n",
    "  \\end{pmatrix}\n",
    "  \\begin{pmatrix}    x_1  \\\\     x_2  \\\\   \\end{pmatrix} \\\\ &=\n",
    "  \\begin{pmatrix}\n",
    "    w_{11} x_1 + w_{21}x_2 \\\\\n",
    "    w_{12}x_1  + w_{22}x_2  \\\\\n",
    "    w_{13}x_1  + w_{23}x_2 \\\\\n",
    "  \\end{pmatrix} =\n",
    "  \\begin{pmatrix}  z_1  \\\\  z_2  \\\\  z_3 \\end{pmatrix} \\\\\n",
    "\\end{align}\n",
    "\n",
    "\n",
    "[$W_{ij}$ 표기법] $\\mathbf{W}=W_{ij}$  ==>  $\\mathbf{Z}=\\mathbf{W}^{T} A$\n",
    "\n",
    "[$W_{ij}^{T}$ 표기법] $\\mathbf{W}=W_{ij}^{T}$ ==> $\\mathbf{Z}=\\mathbf{W} A$\n"
   ]
  },
  {
   "cell_type": "markdown",
   "id": "e24d1de3",
   "metadata": {},
   "source": [
    "### MNIST 데이터\n",
    "\n",
    "1. MNIST 데이터란?\n",
    "    - 손 글씨(숫자) 데이터 - (60000, 28, 28) -> 인공신경망의 Input layer 노드 수는?\n",
    "    - 숫자 예측 모델 예시 - [0~9] -> 인공신경망의 Output layer 노드 수는?  \n",
    "    \n",
    "    \n",
    "2. MNIST 인공신경망 코드\n"
   ]
  },
  {
   "cell_type": "code",
   "execution_count": null,
   "id": "19d3226b",
   "metadata": {},
   "outputs": [],
   "source": [
    "# MNIST 인공신경망 코드\n",
    "\n",
    "(X, y) = joy.load_mnist_num(1)\n",
    "W1 = joy.load_mnist_weight('data/w_xh.weights')\n",
    "Z1 = np.dot(W1, X)\n",
    "A1 = g(Z1)\n",
    "\n",
    "W2 = joy.load_mnist_weight('data/w_hy.weights')\n",
    "Z2 = np.dot(W2, A1)\n",
    "yhat = g(Z2)\n",
    "\n",
    "print('image:', y)\n",
    "print('predict:', np.round_(yhat, 3))\n",
    "print('predicted label:', np.argmax(yhat))"
   ]
  },
  {
   "cell_type": "markdown",
   "id": "46a02f11",
   "metadata": {},
   "source": [
    "image: ?\n",
    "predict: ?\n",
    "predicted label: ?"
   ]
  },
  {
   "cell_type": "markdown",
   "id": "2ef823d8",
   "metadata": {},
   "source": [
    "## 아달라인과 경사하강법\n",
    "\n",
    "1. 아달라인과 퍼셉트론 비교\n",
    "    - 활성화 함수 - Step Function vs Identity Function\n",
    "    - 가중치 조절 - 각 Sample 마다 vs 모든 Sample 한번에\n",
    "    - 오차 - 단편적 정보 vs 오차 값 제공\n",
    "    \n",
    "    \n",
    "2. 비용함수\n",
    "    - 최소 제곱법(SSE)\n",
    "    \n",
    "    \n",
    "3. 경사하강법"
   ]
  },
  {
   "cell_type": "markdown",
   "id": "74f7ef94",
   "metadata": {},
   "source": [
    "### 아달라인과 퍼셉트론 비교\n",
    "\n",
    "<center><img src=\"https://github.com/idebtor/KMOOC-ML/blob/master/ipynb/images/ch4/PerceptronAlgorithm.PNG?raw=true\" width=\"500\">\n",
    "<center>그림 8: 퍼셉트론 알고리즘 개념도</center>\n",
    "    \n",
    "<center><img src=\"https://github.com/idebtor/KMOOC-ML/blob/master/ipynb/images/ch7/adalineAlgorithm.PNG?raw=true\" width=\"500\">\n",
    "<center>그림 9: 아달라인 알고리즘 개념도</center>"
   ]
  },
  {
   "cell_type": "markdown",
   "id": "5c59f7ea",
   "metadata": {},
   "source": [
    "### 비용함수 (SSE)\n",
    "최소 제곱법(Sum of Squares of Error, SSE)\n",
    "\\begin{align}\n",
    " SSE &= \\frac{1}{2} \\sum_{i=1}^{m}(target^{(i)} - output^{(i)})^2 \\\\\n",
    "\\end{align}"
   ]
  },
  {
   "cell_type": "markdown",
   "id": "d72b3ea2",
   "metadata": {},
   "source": [
    "### 경사하강법\n",
    "\n",
    "<center><img src=\"https://github.com/idebtor/KMOOC-ML/blob/master/ipynb/images/ch7/gradientDescentPlot.png?raw=true\" width=\"650\">\n",
    "<center>그림 10: 4차 함수의 최소값과 4차 함수의 미분값</center>\n",
    "    \n",
    "<center><img src=\"https://github.com/idebtor/KMOOC-ML/blob/master/ipynb/images/ch7/InkedInkedInkedGradientDescent2D_1_LI.jpg?raw=true\" width=\"400\">\n",
    "<center>그림 11: 경사(기울기) 하강법 (큰 학습률)</center>"
   ]
  },
  {
   "cell_type": "markdown",
   "id": "603ca0b8",
   "metadata": {},
   "source": [
    "# 5-7주차 예제"
   ]
  },
  {
   "cell_type": "markdown",
   "id": "98f23e98",
   "metadata": {},
   "source": [
    "## 1. 데이터 Shape 맞추기\n",
    "\n",
    "한 과목의 TA인 한동이는 해당 과목의 수강생의 정보를 하나의 데이터셋으로 저장하려고 한다. 이때, 이 과목의 특징은 다음과 같다.  \n",
    "\n",
    "1. 이 과목은 총 5개의 분반으로 나누어져있다.\n",
    "2. 각 분반당 30명의 학생이 수강하고 있다.\n",
    "3. 이 과목에서 발생하는 이벤트(사건)로는 중간고사, 기말고사, 과제 3개가 있다.\n",
    "\n",
    "한동이는 수강생들이 각 이벤트(사건)의 결과 값과 최종적으로 합산된 점수까지 저장하고자 한다면, 해당 데이터셋은 어떠한 형태로 저장하는 것이 가장 효과적인가?"
   ]
  },
  {
   "cell_type": "markdown",
   "id": "2e360339",
   "metadata": {},
   "source": [
    "## 2. 순방향 신경망 계산\n",
    "\n",
    "활성화 함수: ReLU\n"
   ]
  }
 ],
 "metadata": {
  "kernelspec": {
   "display_name": "Python 3 (ipykernel)",
   "language": "python",
   "name": "python3"
  },
  "language_info": {
   "codemirror_mode": {
    "name": "ipython",
    "version": 3
   },
   "file_extension": ".py",
   "mimetype": "text/x-python",
   "name": "python",
   "nbconvert_exporter": "python",
   "pygments_lexer": "ipython3",
   "version": "3.9.7"
  },
  "toc-autonumbering": false
 },
 "nbformat": 4,
 "nbformat_minor": 5
}
