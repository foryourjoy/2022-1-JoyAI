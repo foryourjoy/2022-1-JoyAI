{
 "cells": [
  {
   "cell_type": "markdown",
   "metadata": {},
   "source": [
    "이 율법책을 네 입에서 떠나지 말게 하며 주야로 그것을 묵상하여 그 안에 기록된 대로 다 지켜 행하라 그리하면 네 길이 평탄하게 될 것이며 네가 형통하리라 (수1:8)\n",
    "\n",
    "-------\n",
    "\n",
    "<center><img src=\"https://github.com/idebtor/KMOOC-ML/blob/master/ipynb/images/joyai/LectureNotes_ML.png?raw=true\" width=1000></center>\n",
    "\n",
    "__NOTE:__ The following materials have been compiled and adapted from the numerous sources including my own. Please help me to keep this tutorial up-to-date by reporting any issues or questions. Send any comments or criticisms to `idebtor@gmail.com` Your assistances and comments will be appreciated."
   ]
  },
  {
   "cell_type": "markdown",
   "metadata": {},
   "source": [
    "<b style=\"font-size:30px\"> Chapter 1-6. NumPy Problem Set </b>\n",
    "    \n",
    "__학습 목표__\n",
    "\n",
    "- 넘파이 전반적인 이해도를 점검한다\n",
    "- 넘파이의 중요한 주제를 복습한다\n",
    "- 넘파이로 문제 해결 능력을 강화한다."
   ]
  },
  {
   "cell_type": "markdown",
   "metadata": {},
   "source": [
    "# 넘파이 사용하기 \n",
    "\n",
    "numpy를 np로 import하고, version 넘버를 출력하십시오. "
   ]
  },
  {
   "cell_type": "code",
   "execution_count": 118,
   "metadata": {},
   "outputs": [
    {
     "name": "stdout",
     "output_type": "stream",
     "text": [
      "1.20.3\n"
     ]
    }
   ],
   "source": [
    "import numpy as np\n",
    "print(np.__version__)"
   ]
  },
  {
   "cell_type": "markdown",
   "metadata": {},
   "source": [
    "# 배열 함수 익히기 \n",
    "\n",
    "## 1차원 배열 생성하기 \n",
    "\n",
    "0부터 9까지의 1d array를 생성하십시오. \n",
    "\n",
    "__Expected_Output:__\n",
    "```\n",
    "array([0, 1, 2, 3, 4, 5, 6, 7, 8, 9])\n",
    "```"
   ]
  },
  {
   "cell_type": "code",
   "execution_count": 2,
   "metadata": {},
   "outputs": [
    {
     "data": {
      "text/plain": [
       "array([0, 1, 2, 3, 4, 5, 6, 7, 8, 9])"
      ]
     },
     "execution_count": 2,
     "metadata": {},
     "output_type": "execute_result"
    }
   ],
   "source": [
    "np.None"
   ]
  },
  {
   "cell_type": "markdown",
   "metadata": {},
   "source": [
    "## 2차원 배열 생성하기 \n",
    "\n",
    "3x3 boolean array를 생성하십시오. \n",
    "\n",
    "__Expected_Output:__\n",
    "```\n",
    "array([[ True,  True,  True],\n",
    "       [ True,  True,  True],\n",
    "       [ True,  True,  True]])\n",
    "```"
   ]
  },
  {
   "cell_type": "markdown",
   "metadata": {},
   "source": [
    "### Using np.full()"
   ]
  },
  {
   "cell_type": "code",
   "execution_count": 5,
   "metadata": {},
   "outputs": [
    {
     "data": {
      "text/plain": [
       "array([[ True,  True,  True],\n",
       "       [ True,  True,  True],\n",
       "       [ True,  True,  True]])"
      ]
     },
     "execution_count": 5,
     "metadata": {},
     "output_type": "execute_result"
    }
   ],
   "source": [
    "np.None"
   ]
  },
  {
   "cell_type": "markdown",
   "metadata": {},
   "source": [
    "### Using np.ones()"
   ]
  },
  {
   "cell_type": "code",
   "execution_count": 6,
   "metadata": {},
   "outputs": [
    {
     "data": {
      "text/plain": [
       "array([[ True,  True,  True],\n",
       "       [ True,  True,  True],\n",
       "       [ True,  True,  True]])"
      ]
     },
     "execution_count": 6,
     "metadata": {},
     "output_type": "execute_result"
    }
   ],
   "source": [
    "np.None"
   ]
  },
  {
   "cell_type": "markdown",
   "metadata": {},
   "source": [
    "### 가장자리와 내부 원소 값 설정하기\n",
    "\n",
    "다음과 같이 모두 1로 채운 (10, 10) 배열을 생성하여 출력한 후, 배열의 가장 자리를 제외하고 내부를 모두 0로 설정하십시오. Fancy indexing을 사용하십시오. \n",
    "\n",
    "__Expected Output:__\n",
    "```\n",
    "[[1. 1. 1. ... 1. 1. 1.]\n",
    " [1. 1. 1. ... 1. 1. 1.]\n",
    " [1. 1. 1. ... 1. 1. 1.]\n",
    " ...\n",
    " [1. 1. 1. ... 1. 1. 1.]\n",
    " [1. 1. 1. ... 1. 1. 1.]\n",
    " [1. 1. 1. ... 1. 1. 1.]]\n",
    " \n",
    " \n",
    "[[1. 1. 1. ... 1. 1. 1.]\n",
    " [1. 0. 0. ... 0. 0. 1.]\n",
    " [1. 0. 0. ... 0. 0. 1.]\n",
    " ...\n",
    " [1. 0. 0. ... 0. 0. 1.]\n",
    " [1. 0. 0. ... 0. 0. 1.]\n",
    " [1. 1. 1. ... 1. 1. 1.]]\n",
    " ```"
   ]
  },
  {
   "cell_type": "code",
   "execution_count": 52,
   "metadata": {},
   "outputs": [
    {
     "name": "stdout",
     "output_type": "stream",
     "text": [
      "[[1. 1. 1. ... 1. 1. 1.]\n",
      " [1. 1. 1. ... 1. 1. 1.]\n",
      " [1. 1. 1. ... 1. 1. 1.]\n",
      " ...\n",
      " [1. 1. 1. ... 1. 1. 1.]\n",
      " [1. 1. 1. ... 1. 1. 1.]\n",
      " [1. 1. 1. ... 1. 1. 1.]]\n",
      "[[1. 1. 1. ... 1. 1. 1.]\n",
      " [1. 0. 0. ... 0. 0. 1.]\n",
      " [1. 0. 0. ... 0. 0. 1.]\n",
      " ...\n",
      " [1. 0. 0. ... 0. 0. 1.]\n",
      " [1. 0. 0. ... 0. 0. 1.]\n",
      " [1. 1. 1. ... 1. 1. 1.]]\n"
     ]
    }
   ],
   "source": [
    "None"
   ]
  },
  {
   "cell_type": "markdown",
   "metadata": {},
   "source": [
    "### 임의의 정수 배열 채우기 \n",
    "임의의 정수 0부터 9까지의 값으로 채운 배열(10, 10)을 만들어 출력한 후, 배열의 가장자리를 제외하고, 내부를 모두 9으로 설정하고 출력하십시오. Fancy indexing을 사용하십시오. \n",
    "\n",
    "__Expected Output:__\n",
    "```\n",
    "[[9 4 0 ... 8 9 0]\n",
    " [8 6 4 ... 8 1 8]\n",
    " [4 1 3 ... 6 9 1]\n",
    " ...\n",
    " [1 2 8 ... 2 7 3]\n",
    " [0 4 2 ... 2 5 9]\n",
    " [0 1 0 ... 2 1 1]]\n",
    " \n",
    " \n",
    "[[9 4 0 ... 8 9 0]\n",
    " [8 9 9 ... 9 9 8]\n",
    " [4 9 9 ... 9 9 1]\n",
    " ...\n",
    " [1 9 9 ... 9 9 3]\n",
    " [0 9 9 ... 9 9 9]\n",
    " [0 1 0 ... 2 1 1]]\n",
    " ```"
   ]
  },
  {
   "cell_type": "code",
   "execution_count": 61,
   "metadata": {},
   "outputs": [
    {
     "name": "stdout",
     "output_type": "stream",
     "text": [
      "[[9 4 0 ... 8 9 0]\n",
      " [8 6 4 ... 8 1 8]\n",
      " [4 1 3 ... 6 9 1]\n",
      " ...\n",
      " [1 2 8 ... 2 7 3]\n",
      " [0 4 2 ... 2 5 9]\n",
      " [0 1 0 ... 2 1 1]]\n",
      "[[9 4 0 ... 8 9 0]\n",
      " [8 9 9 ... 9 9 8]\n",
      " [4 9 9 ... 9 9 1]\n",
      " ...\n",
      " [1 9 9 ... 9 9 3]\n",
      " [0 9 9 ... 9 9 9]\n",
      " [0 1 0 ... 2 1 1]]\n"
     ]
    }
   ],
   "source": [
    "np.random.seed(10)\n",
    "None"
   ]
  },
  {
   "cell_type": "markdown",
   "metadata": {},
   "source": [
    "### 임의의 불리안 배열 만들기\n",
    "\n",
    "임의의 불리안 배열(10, 10)을 만들어 출력하고 그 다음 가장자리만 모두 True로 설정하여 출력하십시오. Fancy indexing을 사용하십시오. \n",
    "\n",
    "__Expected Output:__\n",
    "```\n",
    "\n",
    "[[ True  True  True ...  True  True  True]\n",
    " [False False  True ...  True  True  True]\n",
    " [ True  True False ...  True False  True]\n",
    " ...\n",
    " [False  True  True ...  True False  True]\n",
    " [False False  True ... False False  True]\n",
    " [ True  True  True ... False False  True]]\n",
    "\n",
    "[[ True  True  True ...  True  True  True]\n",
    " [ True False  True ...  True  True  True]\n",
    " [ True  True False ...  True False  True]\n",
    " ...\n",
    " [ True  True  True ...  True False  True]\n",
    " [ True False  True ... False False  True]\n",
    " [ True  True  True ...  True  True  True]]\n",
    " ```"
   ]
  },
  {
   "cell_type": "code",
   "execution_count": 60,
   "metadata": {
    "tags": []
   },
   "outputs": [
    {
     "name": "stdout",
     "output_type": "stream",
     "text": [
      "[[ True  True  True ...  True  True  True]\n",
      " [False False  True ...  True  True  True]\n",
      " [ True  True False ...  True False  True]\n",
      " ...\n",
      " [False  True  True ...  True False  True]\n",
      " [False False  True ... False False  True]\n",
      " [ True  True  True ... False False  True]]\n",
      "\n",
      "[[ True  True  True ...  True  True  True]\n",
      " [ True False  True ...  True  True  True]\n",
      " [ True  True False ...  True False  True]\n",
      " ...\n",
      " [ True  True  True ...  True False  True]\n",
      " [ True False  True ... False False  True]\n",
      " [ True  True  True ...  True  True  True]]\n"
     ]
    }
   ],
   "source": [
    "None"
   ]
  },
  {
   "cell_type": "markdown",
   "metadata": {},
   "source": [
    "### 1/0 반복 패턴 만들기 \n",
    "\n",
    "2차원 배열(8, 8)에 1과 0가 반복적으로 나타나도록 설정하여 출력하십시오. Fancy indexing을 사용하십시오. Fancy indexing을 사용하십시오. \n",
    "\n",
    "__Expected Output:__\n",
    "```\n",
    "[[0 0 0 ... 0 0 0]\n",
    " [0 0 0 ... 0 0 0]\n",
    " [0 0 0 ... 0 0 0]\n",
    " ...\n",
    " [0 0 0 ... 0 0 0]\n",
    " [0 0 0 ... 0 0 0]\n",
    " [0 0 0 ... 0 0 0]]\n",
    "[[0 1 0 ... 1 0 1]\n",
    " [1 0 1 ... 0 1 0]\n",
    " [0 1 0 ... 1 0 1]\n",
    " ...\n",
    " [1 0 1 ... 0 1 0]\n",
    " [0 1 0 ... 1 0 1]\n",
    " [1 0 1 ... 0 1 0]]\n",
    " ```"
   ]
  },
  {
   "cell_type": "code",
   "execution_count": 66,
   "metadata": {},
   "outputs": [
    {
     "name": "stdout",
     "output_type": "stream",
     "text": [
      "[[0 0 0 ... 0 0 0]\n",
      " [0 0 0 ... 0 0 0]\n",
      " [0 0 0 ... 0 0 0]\n",
      " ...\n",
      " [0 0 0 ... 0 0 0]\n",
      " [0 0 0 ... 0 0 0]\n",
      " [0 0 0 ... 0 0 0]]\n",
      "[[0 1 0 ... 1 0 1]\n",
      " [1 0 1 ... 0 1 0]\n",
      " [0 1 0 ... 1 0 1]\n",
      " ...\n",
      " [1 0 1 ... 0 1 0]\n",
      " [0 1 0 ... 1 0 1]\n",
      " [1 0 1 ... 0 1 0]]\n"
     ]
    }
   ],
   "source": [
    "None"
   ]
  },
  {
   "cell_type": "markdown",
   "metadata": {},
   "source": [
    "### 1/0 반복 패턴 만들기 - np.tile()\n",
    "\n",
    "2차원 배열(8, 8)에 1과 0가 반복적으로 나타나도록 설정하여 출력하십시오. np.tile()함수를 사용하십시오. \n",
    "\n",
    "__Expected Output:__\n",
    "```\n",
    "[[0 1 0 ... 1 0 1]\n",
    " [1 0 1 ... 0 1 0]\n",
    " [0 1 0 ... 1 0 1]\n",
    " ...\n",
    " [1 0 1 ... 0 1 0]\n",
    " [0 1 0 ... 1 0 1]\n",
    " [1 0 1 ... 0 1 0]]\n",
    " ```"
   ]
  },
  {
   "cell_type": "code",
   "execution_count": 68,
   "metadata": {},
   "outputs": [
    {
     "name": "stdout",
     "output_type": "stream",
     "text": [
      "[[0 1 0 ... 1 0 1]\n",
      " [1 0 1 ... 0 1 0]\n",
      " [0 1 0 ... 1 0 1]\n",
      " ...\n",
      " [1 0 1 ... 0 1 0]\n",
      " [0 1 0 ... 1 0 1]\n",
      " [1 0 1 ... 0 1 0]]\n"
     ]
    },
    {
     "data": {
      "text/plain": [
       "(8, 8)"
      ]
     },
     "execution_count": 68,
     "metadata": {},
     "output_type": "execute_result"
    }
   ],
   "source": [
    "None"
   ]
  },
  {
   "cell_type": "markdown",
   "metadata": {},
   "source": [
    "## 조건에 맞는 원소 찾기\n",
    "\n",
    "주어진 1차원 배열에서 홀수 원소를 찾아 내십시오. \n",
    "\n",
    "__Sample Run:__\n",
    "```\n",
    "np.random.seed(0)\n",
    "a = np.None\n",
    "print(a)\n",
    "print(None)\n",
    "```"
   ]
  },
  {
   "cell_type": "markdown",
   "metadata": {},
   "source": [
    "__Expected_Output:__\n",
    "```\n",
    "[6 1 4 4 8 4 6 3 5 8]\n",
    "[1 3 5]\n",
    "```"
   ]
  },
  {
   "cell_type": "code",
   "execution_count": 124,
   "metadata": {},
   "outputs": [
    {
     "name": "stdout",
     "output_type": "stream",
     "text": [
      "[6 1 4 4 8 4 6 3 5 8]\n",
      "[1 3 5]\n"
     ]
    }
   ],
   "source": [
    "np.random.seed(0)\n",
    "a = np.None\n",
    "print(a)\n",
    "print(a[a % 2 == 1])"
   ]
  },
  {
   "cell_type": "markdown",
   "metadata": {},
   "source": [
    "## 조건에 맞는 원소를 찾아 수정하기\n",
    "\n",
    "주어진 1차원 배열에서 홀수 원소를 찾아 -1로 변경하십시오. \n",
    "\n",
    "__Sample Run:__\n",
    "```\n",
    "np.random.seed(0)\n",
    "a = np.None\n",
    "print(a)\n",
    "print(None)\n",
    "```"
   ]
  },
  {
   "cell_type": "markdown",
   "metadata": {},
   "source": [
    "__Expected_Output:__\n",
    "```\n",
    "[6 1 4 4 8 4 6 3 5 8]\n",
    "[ 6 -1  4  4  8  4  6 -1 -1  8]\n",
    "```"
   ]
  },
  {
   "cell_type": "code",
   "execution_count": 125,
   "metadata": {},
   "outputs": [
    {
     "name": "stdout",
     "output_type": "stream",
     "text": [
      "[6 1 4 4 8 4 6 3 5 8]\n",
      "[ 6 -1  4  4  8  4  6 -1 -1  8]\n"
     ]
    }
   ],
   "source": [
    "np.random.seed(0)\n",
    "a = np.random.randint(1, 10, 10)\n",
    "print(a)\n",
    "print(np.where(a % 2 == 1, -1, a))"
   ]
  },
  {
   "cell_type": "markdown",
   "metadata": {},
   "source": [
    "## 배열의 형상을 변형하기 \n",
    "\n",
    "주어진 1차원 배열을 2차원 배열(4,3)로 바꾸십시오. \n",
    "\n",
    "__Sample Run:__\n",
    "```\n",
    "a = np.arange(12)\n",
    "```\n",
    "\n",
    "__Expected Output:__\n",
    "```\n",
    "array([[ 0,  1,  2],\n",
    "       [ 3,  4,  5],\n",
    "       [ 6,  7,  8],\n",
    "       [ 9, 10, 11]])\n",
    "```"
   ]
  },
  {
   "cell_type": "code",
   "execution_count": 131,
   "metadata": {},
   "outputs": [
    {
     "data": {
      "text/plain": [
       "array([[ 0,  1,  2],\n",
       "       [ 3,  4,  5],\n",
       "       [ 6,  7,  8],\n",
       "       [ 9, 10, 11]])"
      ]
     },
     "execution_count": 131,
     "metadata": {},
     "output_type": "execute_result"
    }
   ],
   "source": [
    "a = np.arange(12).None"
   ]
  },
  {
   "cell_type": "markdown",
   "metadata": {},
   "source": [
    "## 두 개의 배열을 위/아래로 붙이기 \n",
    "\n",
    "주어진 두 개의 배열을 수직적으로 합치십시오.   \n",
    "\n",
    "__Sample Run:__\n",
    "```\n",
    "[[0 1 2 3 4]\n",
    " [5 6 7 8 9]]\n",
    "[[1 1 1 1 1]\n",
    " [1 1 1 1 1]]\n",
    "```"
   ]
  },
  {
   "cell_type": "markdown",
   "metadata": {},
   "source": [
    "__Expected Output:__\n",
    "```\n",
    "[[0 1 2 3 4]\n",
    " [5 6 7 8 9]\n",
    " [1 1 1 1 1]\n",
    " [1 1 1 1 1]]\n",
    " ```"
   ]
  },
  {
   "cell_type": "code",
   "execution_count": 132,
   "metadata": {},
   "outputs": [
    {
     "name": "stdout",
     "output_type": "stream",
     "text": [
      "[[0 1 2 3 4]\n",
      " [5 6 7 8 9]]\n",
      "[[1 1 1 1 1]\n",
      " [1 1 1 1 1]]\n"
     ]
    }
   ],
   "source": [
    "a = np.arange(10).reshape(2,-1)\n",
    "b = np.repeat(1, 10).reshape(2,-1)\n",
    "print(a)\n",
    "print(b)"
   ]
  },
  {
   "cell_type": "markdown",
   "metadata": {},
   "source": [
    "### Using concatenate()"
   ]
  },
  {
   "cell_type": "code",
   "execution_count": 133,
   "metadata": {},
   "outputs": [
    {
     "name": "stdout",
     "output_type": "stream",
     "text": [
      "[[0 1 2 3 4]\n",
      " [5 6 7 8 9]\n",
      " [1 1 1 1 1]\n",
      " [1 1 1 1 1]]\n"
     ]
    }
   ],
   "source": [
    "c = np.None\n",
    "print(c)"
   ]
  },
  {
   "cell_type": "markdown",
   "metadata": {},
   "source": [
    "### Using vstack()"
   ]
  },
  {
   "cell_type": "code",
   "execution_count": 134,
   "metadata": {},
   "outputs": [
    {
     "name": "stdout",
     "output_type": "stream",
     "text": [
      "[[0 1 2 3 4]\n",
      " [5 6 7 8 9]\n",
      " [1 1 1 1 1]\n",
      " [1 1 1 1 1]]\n"
     ]
    }
   ],
   "source": [
    "c = np.None\n",
    "print(c)"
   ]
  },
  {
   "cell_type": "markdown",
   "metadata": {},
   "source": [
    "### Using `r_[]`"
   ]
  },
  {
   "cell_type": "code",
   "execution_count": 135,
   "metadata": {},
   "outputs": [
    {
     "name": "stdout",
     "output_type": "stream",
     "text": [
      "[[0 1 2 3 4]\n",
      " [5 6 7 8 9]\n",
      " [1 1 1 1 1]\n",
      " [1 1 1 1 1]]\n"
     ]
    }
   ],
   "source": [
    "c = np.None\n",
    "print(c)"
   ]
  },
  {
   "cell_type": "markdown",
   "metadata": {},
   "source": [
    "## 두 개의 배열을 옆으로 붙이기\n",
    "\n",
    "주어진 두 개의 배열을 수평적으로 합치십시오. \n",
    "\n",
    "__Sample Run:__\n",
    "```\n",
    "[[0 1 2 3 4]\n",
    " [5 6 7 8 9]]\n",
    "[[1 1 1 1 1]\n",
    " [1 1 1 1 1]]\n",
    "```"
   ]
  },
  {
   "cell_type": "markdown",
   "metadata": {},
   "source": [
    "__Expected Output:__\n",
    "```\n",
    "[[0 1 2 3 4 1 1 1 1 1]\n",
    " [5 6 7 8 9 1 1 1 1 1]]\n",
    " ```"
   ]
  },
  {
   "cell_type": "code",
   "execution_count": 136,
   "metadata": {},
   "outputs": [
    {
     "name": "stdout",
     "output_type": "stream",
     "text": [
      "[[0 1 2 3 4]\n",
      " [5 6 7 8 9]]\n",
      "[[1 1 1 1 1]\n",
      " [1 1 1 1 1]]\n"
     ]
    }
   ],
   "source": [
    "a = np.arange(10).reshape(2,-1)\n",
    "b = np.repeat(1, 10).reshape(2,-1)\n",
    "print(a)\n",
    "print(b)"
   ]
  },
  {
   "cell_type": "markdown",
   "metadata": {},
   "source": [
    "### Using concatenate()"
   ]
  },
  {
   "cell_type": "code",
   "execution_count": 137,
   "metadata": {},
   "outputs": [
    {
     "name": "stdout",
     "output_type": "stream",
     "text": [
      "[[0 1 2 3 4 1 1 1 1 1]\n",
      " [5 6 7 8 9 1 1 1 1 1]]\n"
     ]
    }
   ],
   "source": [
    "c = np.None\n",
    "print(c)"
   ]
  },
  {
   "cell_type": "markdown",
   "metadata": {},
   "source": [
    "### Using hstack()"
   ]
  },
  {
   "cell_type": "code",
   "execution_count": 138,
   "metadata": {},
   "outputs": [
    {
     "name": "stdout",
     "output_type": "stream",
     "text": [
      "[[0 1 2 3 4 1 1 1 1 1]\n",
      " [5 6 7 8 9 1 1 1 1 1]]\n"
     ]
    }
   ],
   "source": [
    "c = np.None\n",
    "print(c)"
   ]
  },
  {
   "cell_type": "markdown",
   "metadata": {},
   "source": [
    "### Using `c_[]`"
   ]
  },
  {
   "cell_type": "code",
   "execution_count": 139,
   "metadata": {},
   "outputs": [
    {
     "name": "stdout",
     "output_type": "stream",
     "text": [
      "[[0 1 2 3 4 1 1 1 1 1]\n",
      " [5 6 7 8 9 1 1 1 1 1]]\n"
     ]
    }
   ],
   "source": [
    "c = np.None\n",
    "print(c)"
   ]
  },
  {
   "cell_type": "markdown",
   "metadata": {},
   "source": [
    "## 배열을 변형하기\n",
    "\n",
    "주어진 배열 a를 넘파이 함수 혹은 기능들을 사용하여 배열 b를 생성하십시오. \n",
    "힌트: 한 방법은 repeat(), tile(), np.r_ 같은 것을 사용하는 것입니다. \n",
    "\n",
    "__Sample Run:__\n",
    "```\n",
    "a = np.array([1, 2, 3])\n",
    "```\n",
    "__Expected Output:__\n",
    "```\n",
    "b = np.array([1, 1, 1, 2, 2, 2, 3, 3, 3, 1, 2, 3, 1, 2, 3, 1, 2, 3])\n",
    "```"
   ]
  },
  {
   "cell_type": "code",
   "execution_count": 140,
   "metadata": {},
   "outputs": [
    {
     "data": {
      "text/plain": [
       "array([1, 1, 1, 2, 2, 2, 3, 3, 3, 1, 2, 3, 1, 2, 3, 1, 2, 3])"
      ]
     },
     "execution_count": 140,
     "metadata": {},
     "output_type": "execute_result"
    }
   ],
   "source": [
    "a = np.array([1, 2, 3])\n",
    "np.None"
   ]
  },
  {
   "cell_type": "markdown",
   "metadata": {},
   "source": [
    "## 배열의 인덱스 구하기\n",
    "\n",
    "주어진 두 배열 a, b에서 원소가 일치하는 위치(인덱스)들을 구하십시오. \n",
    "\n",
    "__Sample Run:__\n",
    "```\n",
    "a = np.array([10, 13, 10, 12, 11, 10, 13, 10, 10, 14])\n",
    "b = np.array([10, 13, 14, 11, 10, 11, 13, 14, 14, 14])\n",
    "```\n",
    "\n",
    "__Expected Output:__\n",
    "```\n",
    "(array([1, 3, 5, 7], dtype=int64),)\n",
    "```"
   ]
  },
  {
   "cell_type": "code",
   "execution_count": 141,
   "metadata": {},
   "outputs": [
    {
     "data": {
      "text/plain": [
       "(array([0, 1, 6, 9], dtype=int64),)"
      ]
     },
     "execution_count": 141,
     "metadata": {},
     "output_type": "execute_result"
    }
   ],
   "source": [
    "a = np.array([10, 13, 10, 12, 11, 10, 13, 10, 10, 14])\n",
    "b = np.array([10, 13, 14, 11, 10, 11, 13, 14, 14, 14])\n",
    "np.None"
   ]
  },
  {
   "cell_type": "markdown",
   "metadata": {},
   "source": [
    "## 배열의 인덱스 구하기\n",
    "\n",
    "주어진 배열에서 5와 10사이(inclusively)에 있는 모든 원소들을 구하십시오. \n",
    "\n",
    "\n",
    "__Sample Run:__\n",
    "```\n",
    "np.random.seed(10)\n",
    "a = np.random.randint(0, 20, 10)\n",
    "print(a)\n",
    "index = None\n",
    "print(a[index])\n",
    "```\n",
    "\n",
    "__Expected Output:__\n",
    "```\n",
    "[ 9  4 15  0 17 16 17  8  9  0]\n",
    "[9 8 9]\n",
    "```"
   ]
  },
  {
   "cell_type": "code",
   "execution_count": 142,
   "metadata": {},
   "outputs": [],
   "source": [
    "np.random.seed(10)\n",
    "a = np.random.randint(0, 20, 10)\n",
    "print(a)"
   ]
  },
  {
   "cell_type": "markdown",
   "metadata": {},
   "source": [
    "### Using indexing"
   ]
  },
  {
   "cell_type": "code",
   "execution_count": 142,
   "metadata": {},
   "outputs": [
    {
     "name": "stdout",
     "output_type": "stream",
     "text": [
      "[ 9  4 15  0 17 16 17  8  9  0]\n",
      "[9 8 9]\n"
     ]
    }
   ],
   "source": [
    "print(a[None])"
   ]
  },
  {
   "cell_type": "markdown",
   "metadata": {},
   "source": [
    "### Using where()"
   ]
  },
  {
   "cell_type": "code",
   "execution_count": 143,
   "metadata": {},
   "outputs": [
    {
     "name": "stdout",
     "output_type": "stream",
     "text": [
      "[9 8 9]\n"
     ]
    }
   ],
   "source": [
    "index = None\n",
    "print(a[index])"
   ]
  },
  {
   "cell_type": "markdown",
   "metadata": {},
   "source": [
    "## np.vectorize()\n",
    "\n",
    "아래에 기술된 두 개의 스칼라 인자를 받는 함수 mystery()가 있습니다. 이렇게 사용자가 정의한 함수는 배열로 호출할 수 없습니다. 그러나, numpy.vectorize()를 사용하면, 이 함수의 코드 자체를 수정하지 않고, 배열 인자들로 사용할 수 있습니다. 이 방법은 우리가 앞에서 다루지 않았습니다만, Googling을 해서 학습해볼만 합니다. "
   ]
  },
  {
   "cell_type": "markdown",
   "metadata": {},
   "source": [
    "__Sample Run:__\n",
    "```\n",
    "def mystery(x, y):\n",
    "    if x >= y: return x + 1\n",
    "    return y + 1\n",
    "\n",
    "maxy = None\n",
    "a = np.array([5, 7, 9, 8, 6, 4, 5])\n",
    "b = np.array([6, 3, 4, 8, 9, 7, 1])\n",
    "maxy(a, b)\n",
    "```"
   ]
  },
  {
   "cell_type": "markdown",
   "metadata": {},
   "source": [
    "__Expected Output:__\n",
    "```\n",
    "array([ 7,  8, 10,  9, 10,  8,  6])\n",
    "```\n",
    "__Solution__"
   ]
  },
  {
   "cell_type": "code",
   "execution_count": 144,
   "metadata": {},
   "outputs": [
    {
     "data": {
      "text/plain": [
       "array([ 7,  8, 10,  9, 10,  8,  6])"
      ]
     },
     "execution_count": 144,
     "metadata": {},
     "output_type": "execute_result"
    }
   ],
   "source": [
    "def mystery(x, y):\n",
    "    if x >= y: return x + 1\n",
    "    return y + 1\n",
    "\n",
    "maxy = np.None\n",
    "\n",
    "a = np.array([5, 7, 9, 8, 6, 4, 5])\n",
    "b = np.array([6, 3, 4, 8, 9, 7, 1])\n",
    "\n",
    "maxy(a, b)"
   ]
  },
  {
   "cell_type": "markdown",
   "metadata": {},
   "source": [
    "## 배열의 열을 교환하기\n",
    "\n",
    "주어진 배열의 첫째와 둘째 열을 서로 교환하십시오 \n",
    "\n",
    "__Sample Run:__\n",
    "```\n",
    "[[0 1 2]\n",
    " [3 4 5]\n",
    " [6 7 8]]\n",
    " ```\n",
    "__Expected Output:__\n",
    "```\n",
    "[[1 0 2]\n",
    " [4 3 5]\n",
    " [7 6 8]]\n",
    " ```"
   ]
  },
  {
   "cell_type": "code",
   "execution_count": 3,
   "metadata": {},
   "outputs": [
    {
     "name": "stdout",
     "output_type": "stream",
     "text": [
      "[[0 1 2]\n",
      " [3 4 5]\n",
      " [6 7 8]]\n",
      "[[1 0 2]\n",
      " [4 3 5]\n",
      " [7 6 8]]\n"
     ]
    }
   ],
   "source": [
    "import numpy as np\n",
    "a = np.arange(9).reshape(3,3)\n",
    "print(a)\n",
    "print(a[None])"
   ]
  },
  {
   "cell_type": "markdown",
   "metadata": {},
   "source": [
    "## 배열의 행을 교환하기\n",
    "\n",
    "주어진 배열의 첫째와 둘째 행을 서로 교환하십시오 \n",
    "\n",
    "__Sample Run:__\n",
    "```\n",
    "[[0 1 2]\n",
    " [3 4 5]\n",
    " [6 7 8]]\n",
    " ```\n",
    "__Expected Output:__\n",
    "```\n",
    "[[3 4 5]\n",
    " [0 1 2]\n",
    " [6 7 8]]\n",
    " ```"
   ]
  },
  {
   "cell_type": "code",
   "execution_count": 4,
   "metadata": {},
   "outputs": [
    {
     "name": "stdout",
     "output_type": "stream",
     "text": [
      "[[0 1 2]\n",
      " [3 4 5]\n",
      " [6 7 8]]\n",
      "[[3 4 5]\n",
      " [0 1 2]\n",
      " [6 7 8]]\n"
     ]
    }
   ],
   "source": [
    "a = np.arange(9).reshape(3,3)\n",
    "print(a)\n",
    "print(a[None])"
   ]
  },
  {
   "cell_type": "markdown",
   "metadata": {},
   "source": [
    "## 열의 원소를 순서를 바꾸기\n",
    "\n",
    "주어진 배열의 각 열의 원소들 순서를 거꾸로 바꾸십시오(reverse). \n",
    "\n",
    "__Sample Run:__\n",
    "```\n",
    "[[0 1 2]\n",
    " [3 4 5]\n",
    " [6 7 8]]\n",
    " ```\n",
    "__Expected Output:__\n",
    "```\n",
    "[[6 7 8]\n",
    " [3 4 5]\n",
    " [0 1 2]]\n",
    " ```"
   ]
  },
  {
   "cell_type": "code",
   "execution_count": 218,
   "metadata": {},
   "outputs": [
    {
     "name": "stdout",
     "output_type": "stream",
     "text": [
      "[[0 1 2]\n",
      " [3 4 5]\n",
      " [6 7 8]]\n",
      "[[6 7 8]\n",
      " [3 4 5]\n",
      " [0 1 2]]\n"
     ]
    }
   ],
   "source": [
    "a = np.arange(9).reshape(3,3)\n",
    "print(a)\n",
    "print(a[None])"
   ]
  },
  {
   "cell_type": "markdown",
   "metadata": {},
   "source": [
    "## 행의 원소들 순서 바꾸기\n",
    "\n",
    "주어진 배열의 각 행의 원소들 순서를 거꾸로 바꾸십시오(reverse). \n",
    "\n",
    "__Sample Run:__\n",
    "```\n",
    "[[0 1 2]\n",
    " [3 4 5]\n",
    " [6 7 8]]\n",
    " ```\n",
    "__Expected Output:__\n",
    "```\n",
    "[[2 1 0]\n",
    " [5 4 3]\n",
    " [8 7 6]]\n",
    " ```"
   ]
  },
  {
   "cell_type": "code",
   "execution_count": 219,
   "metadata": {},
   "outputs": [
    {
     "name": "stdout",
     "output_type": "stream",
     "text": [
      "[[0 1 2]\n",
      " [3 4 5]\n",
      " [6 7 8]]\n",
      "[[2 1 0]\n",
      " [5 4 3]\n",
      " [8 7 6]]\n"
     ]
    }
   ],
   "source": [
    "a = np.arange(9).reshape(3,3)\n",
    "print(a)\n",
    "print(a[None])"
   ]
  },
  {
   "cell_type": "markdown",
   "metadata": {},
   "source": [
    "## 특정 범위의 원소들로 배열 만들기 \n",
    "\n",
    "원소들이 5와 10사이(inclusive)의 값을 가진 2차원 5x3 배열을 생성하십시오. \n",
    "\n",
    "seed()를 설정하지 않았으므로, 각자의 답이 다를 수 있습니다. \n",
    "\n",
    "__Expected Output:__\n",
    "```\n",
    "array([[7.761, 7.669, 7.022],\n",
    "       [6.111, 9.931, 6.293],\n",
    "       [7.398, 9.218, 5.679],\n",
    "       [5.128, 6.81 , 7.972],\n",
    "       [8.941, 7.523, 5.772]])\n",
    "```"
   ]
  },
  {
   "cell_type": "markdown",
   "metadata": {},
   "source": [
    "### Using randint() and random()\n",
    "seed()를 설정하지 않았으므로, 각자의 답이 다를 수 있습니다. "
   ]
  },
  {
   "cell_type": "code",
   "execution_count": 236,
   "metadata": {},
   "outputs": [
    {
     "data": {
      "text/plain": [
       "array([[7.761, 7.669, 7.022],\n",
       "       [6.111, 9.931, 6.293],\n",
       "       [7.398, 9.218, 5.679],\n",
       "       [5.128, 6.81 , 7.972],\n",
       "       [8.941, 7.523, 5.772]])"
      ]
     },
     "execution_count": 236,
     "metadata": {},
     "output_type": "execute_result"
    }
   ],
   "source": [
    "a = np.None\n",
    "a"
   ]
  },
  {
   "cell_type": "markdown",
   "metadata": {},
   "source": [
    "### Using uniform()\n",
    "seed()를 설정하지 않았으므로, 각자의 답이 다를 수 있습니다. "
   ]
  },
  {
   "cell_type": "code",
   "execution_count": 237,
   "metadata": {},
   "outputs": [
    {
     "data": {
      "text/plain": [
       "array([[8.139, 7.736, 6.182],\n",
       "       [5.956, 6.803, 8.981],\n",
       "       [8.262, 5.282, 5.628],\n",
       "       [8.362, 7.993, 8.689],\n",
       "       [5.876, 6.943, 5.45 ]])"
      ]
     },
     "execution_count": 237,
     "metadata": {},
     "output_type": "execute_result"
    }
   ],
   "source": [
    "a = np.None\n",
    "a"
   ]
  },
  {
   "cell_type": "markdown",
   "metadata": {},
   "source": [
    "## 소수점 자릿수 제한하여 출력하기\n",
    "\n",
    "주어진 배열의 원소들을 소수점 이하 세자리만 출력하도록 하십시오. \n",
    "\n",
    "__Expected Outptut:__\n",
    "```\n",
    "array([[0.095, 0.828, 0.033],\n",
    "       [0.457, 0.144, 0.465],\n",
    "       [0.201, 0.339, 0.41 ],\n",
    "       [0.363, 0.294, 0.264],\n",
    "       [0.215, 0.132, 0.485]])\n",
    "```"
   ]
  },
  {
   "cell_type": "code",
   "execution_count": 145,
   "metadata": {},
   "outputs": [
    {
     "data": {
      "text/plain": [
       "array([[0.264, 0.15 , 0.684],\n",
       "       [0.817, 0.336, 0.891],\n",
       "       [0.198, 0.031, 0.878],\n",
       "       [0.727, 0.541, 0.131],\n",
       "       [0.414, 0.779, 0.584]])"
      ]
     },
     "execution_count": 145,
     "metadata": {},
     "output_type": "execute_result"
    }
   ],
   "source": [
    "a = np.random.random((5,3))\n",
    "np.set_printoptions(None)\n",
    "a"
   ]
  },
  {
   "cell_type": "markdown",
   "metadata": {},
   "source": [
    "## 배열 원소들의 수를 제한하여 출력하기 \n",
    "\n",
    "주어진 배열의 원소들의 6개로 제한하여 출력하십시오.   \n",
    "__Hint:__  \n",
    "- `threshold = 6`, 모두 출력하려면, `threshold = np.nan`을 사용하십시오. "
   ]
  },
  {
   "cell_type": "code",
   "execution_count": 239,
   "metadata": {},
   "outputs": [
    {
     "data": {
      "text/plain": [
       "array([ 0,  1,  2, ..., 17, 18, 19])"
      ]
     },
     "execution_count": 239,
     "metadata": {},
     "output_type": "execute_result"
    }
   ],
   "source": [
    "np.set_printoptions(None)\n",
    "a = np.arange(20)\n",
    "a"
   ]
  },
  {
   "cell_type": "markdown",
   "metadata": {},
   "source": [
    "# 배열을 다루는 응용 프로그래밍"
   ]
  },
  {
   "cell_type": "markdown",
   "metadata": {},
   "source": [
    "## 벡터화 연산 - vectorization\n",
    "\n",
    "다음과 같은 code snippet가 있다고 가정할 때, 이를 vectorization(벡터화)하면 연산 속도가 빨라집니다. \n",
    "\n",
    "```\n",
    "# a.shape = (3, 4)\n",
    "# b.shape = (4, 1)\n",
    "\n",
    "for i in range(3):\n",
    "    for j in range(4):\n",
    "        c[i][j] = a[i][j] + b[j]\n",
    "```        \n",
    "\n",
    "위의 코드를 vectorization할 수 있는 방법을 아래에서 선택하십시오.\n",
    "```\n",
    "1. c = a.T + b\n",
    "2. c = a.T + b.T\n",
    "3. c = a + b\n",
    "4. c = a + b.T\n",
    "```"
   ]
  },
  {
   "cell_type": "code",
   "execution_count": null,
   "metadata": {},
   "outputs": [],
   "source": []
  },
  {
   "cell_type": "markdown",
   "metadata": {},
   "source": [
    "## 배열 연산 * \n",
    "\n",
    "다음 배열 연산의 결과 c에 대해 바르게 설명한 것은?\n",
    "\n",
    "```\n",
    "a = np.random.randn(3, 3)\n",
    "b = np.random.randn(3, 1)\n",
    "c = a * b\n",
    "```\n",
    "\n",
    "1. 브로드캐스팅으로 b가 세 번 복사되어, 각각 원소별로 곱셈을 실행한다. 그러므로, c.shape은 (3, 3)이다. \n",
    "1. 브로드캐스팅으로 b가 세 번 복사되어, 행렬 곱셈을 실행한다. 그러므로, c.shape은 (3, 3)이다. \n",
    "1. 행렬(3, 3)과 벡터(3, 1)의 곱셈을 실행한다. 그러므로, c.shape은 (3, 1)이다\n",
    "1. 두 형상이 서로 다르기 때문에 곱셈을 할 수 없어 오류가 일어난다. np.dot(a, b)를 사용해야 한다. "
   ]
  },
  {
   "cell_type": "markdown",
   "metadata": {},
   "source": [
    "## 배열 원소들의 값을 카운트하기 \n",
    "주어진 배열의 각 행에 있는 원소의 값들을 카운트하여 배열을 만드십니다. \n",
    "\n",
    "__Hint__: \n",
    "- `np.unique()` 함수를 할 때, `return_counts=True`로 설정하면 도움이 됩니다.   \n",
    "- `np.unique()` 함수가 무엇을 반환하는지 알면 도움이 됩니다. \n",
    "\n",
    "```\n",
    "Find the unique elements of an array.\n",
    "unique(ar, return_index=False, return_inverse=False, return_counts=False, axis=None)\n",
    "```"
   ]
  },
  {
   "cell_type": "markdown",
   "metadata": {},
   "source": [
    "__Sample Run:__\n",
    "```\n",
    "np.random.seed(0)\n",
    "a = np.random.randint(1,11,size=(6, 10))\n",
    "a\n",
    "\n",
    "array([[ 6,  1,  4,  4,  8, 10,  4,  6,  3,  5],\n",
    "       [ 8,  7,  9,  9,  2,  7,  8,  8,  9,  2],\n",
    "       [ 6, 10,  9, 10,  5,  4,  1,  4,  6,  1],\n",
    "       [ 3,  4,  9,  2,  4,  4,  4,  8,  1,  2],\n",
    "       [10, 10,  1,  5,  8,  4,  3,  8,  3,  1],\n",
    "       [ 1,  5,  6,  6,  7,  9,  5,  2,  5, 10]])\n",
    "```"
   ]
  },
  {
   "cell_type": "markdown",
   "metadata": {},
   "source": [
    "__Expected Output:__\n",
    "```\n",
    "[ 1  2  3  4  5  6  7  8  9 10]\n",
    "[[1, 0, 1, 3, 1, 2, 0, 1, 0, 1],\n",
    " [0, 2, 0, 0, 0, 0, 2, 3, 3, 0],\n",
    " [2, 0, 0, 2, 1, 2, 0, 0, 1, 2],\n",
    " [1, 2, 1, 4, 0, 0, 0, 1, 1, 0],\n",
    " [2, 0, 2, 1, 1, 0, 0, 2, 0, 2],\n",
    " [1, 1, 0, 0, 3, 2, 1, 0, 1, 1]]\n",
    "```"
   ]
  },
  {
   "cell_type": "markdown",
   "metadata": {},
   "source": [
    "주어진 배열의 첫 번째 행(row)을 관찰하면, 1은 1개, 2는 0, 3은 1개, 4는 3개가 있으므로,  __Expected Output:__ 의 첫 번째 행의 앞에 원소 4개와 그 숫자가 일치하는 것을 알 수 있습니다. "
   ]
  },
  {
   "cell_type": "code",
   "execution_count": 157,
   "metadata": {},
   "outputs": [],
   "source": [
    "def count_values_rowwise(arr2d):\n",
    "    # Unique values and its counts row wise\n",
    "    counts = [ None ]\n",
    "    # counts of values rowwise\n",
    "    return([[int(b[a == i]) if i in a else 0 for i in np.unique(arr2d)] for a, b in counts])"
   ]
  },
  {
   "cell_type": "markdown",
   "metadata": {},
   "source": [
    "### Test Case I"
   ]
  },
  {
   "cell_type": "code",
   "execution_count": 158,
   "metadata": {},
   "outputs": [
    {
     "name": "stdout",
     "output_type": "stream",
     "text": [
      "[ 1  2  3  4  5  6  7  8  9 10]\n"
     ]
    },
    {
     "data": {
      "text/plain": [
       "[[1, 0, 1, 3, 1, 2, 0, 1, 0, 1],\n",
       " [0, 2, 0, 0, 0, 0, 2, 3, 3, 0],\n",
       " [2, 0, 0, 2, 1, 2, 0, 0, 1, 2],\n",
       " [1, 2, 1, 4, 0, 0, 0, 1, 1, 0],\n",
       " [2, 0, 2, 1, 1, 0, 0, 2, 0, 2],\n",
       " [1, 1, 0, 0, 3, 2, 1, 0, 1, 1]]"
      ]
     },
     "execution_count": 158,
     "metadata": {},
     "output_type": "execute_result"
    }
   ],
   "source": [
    "np.random.seed(0)\n",
    "a = np.random.randint(1, 11, size=(6, 10))\n",
    "print(None)\n",
    "count_values_rowwise(a)"
   ]
  },
  {
   "cell_type": "markdown",
   "metadata": {},
   "source": [
    "### Test Case II\n",
    "\n",
    "다음 문장은 다양한 용도로 쓰이는 유명한 문장입니다. 하나의 특징은 영어 알파벳을 a부터 z까지 모두 사용한다는 것입니다. 이 문장을 세 부분으로 나누어 리스를 만들어 `count_values_rowwise()` 넣어서 함수를 테스트 해볼 수도 있습니다. \n",
    "\n",
    "\"The quick brown fox jumps over the lazy dog\". "
   ]
  },
  {
   "cell_type": "markdown",
   "metadata": {},
   "source": [
    "__Sample Run:__\n",
    "```\n",
    "arr = np.array([np.array(list('the quick brown')), \n",
    "                np.array(list('fox jumps over ')), \n",
    "                np.array(list('the lazy dog   '))])\n",
    "print(None)\n",
    "x = count_values_rowwise(arr)\n",
    "for i in x:\n",
    "    print(i)\n",
    "```"
   ]
  },
  {
   "cell_type": "markdown",
   "metadata": {},
   "source": [
    "__Expected Output:__\n",
    "```\n",
    "[' ' 'a' 'b' 'c' 'd' 'e' 'f' 'g' 'h' 'i' 'j' 'k' 'l' 'm' 'n' 'o' 'p' 'q' 'r' 's' 't' 'u' 'v' 'w' 'x' 'y' 'z']\n",
    "[2, 0, 1, 1, 0, 1, 0, 0, 1, 1, 0, 1, 0, 0, 1, 1, 0, 1, 1, 0, 1, 1, 0, 1, 0, 0, 0]\n",
    "[3, 0, 0, 0, 0, 1, 1, 0, 0, 0, 1, 0, 0, 1, 0, 2, 1, 0, 1, 1, 0, 1, 1, 0, 1, 0, 0]\n",
    "[5, 1, 0, 0, 1, 1, 0, 1, 1, 0, 0, 0, 1, 0, 0, 1, 0, 0, 0, 0, 1, 0, 0, 0, 0, 1, 1]\n",
    "```\n",
    "__Solution:__"
   ]
  },
  {
   "cell_type": "code",
   "execution_count": 54,
   "metadata": {},
   "outputs": [
    {
     "name": "stdout",
     "output_type": "stream",
     "text": [
      "[' ' 'a' 'b' 'c' 'd' 'e' 'f' 'g' 'h' 'i' 'j' 'k' 'l' 'm' 'n' 'o' 'p' 'q'\n",
      " 'r' 's' 't' 'u' 'v' 'w' 'x' 'y' 'z']\n",
      "[2, 0, 1, 1, 0, 1, 0, 0, 1, 1, 0, 1, 0, 0, 1, 1, 0, 1, 1, 0, 1, 1, 0, 1, 0, 0, 0]\n",
      "[3, 0, 0, 0, 0, 1, 1, 0, 0, 0, 1, 0, 0, 1, 0, 2, 1, 0, 1, 1, 0, 1, 1, 0, 1, 0, 0]\n",
      "[5, 1, 0, 0, 1, 1, 0, 1, 1, 0, 0, 0, 1, 0, 0, 1, 0, 0, 0, 0, 1, 0, 0, 0, 0, 1, 1]\n"
     ]
    }
   ],
   "source": [
    "arr = np.array([np.array(list('the quick brown')), \n",
    "                np.array(list('fox jumps over ')), \n",
    "                np.array(list('the lazy dog   '))])\n",
    "print(None)\n",
    "x = count_values_rowwise(arr)\n",
    "for i in x:\n",
    "    print(i)"
   ]
  },
  {
   "cell_type": "markdown",
   "metadata": {},
   "source": [
    "## 배열들을 합쳐서 하나로 만들기 \n",
    "\n",
    "아래 주어진 1차원 배열들의 배열(an array of arrays) arr을 하나의 1차원 배열로 만들어 보십시오. \n",
    "\n",
    "__Sample Run:__\n",
    "```\n",
    "[array([0, 1, 2]) array([3, 4, 5, 6]) array([7, 8, 9])]\n",
    "```\n",
    "\n",
    "__Expected Output:__\n",
    "```\n",
    "array([0, 1, 2, 3, 4, 5, 6, 7, 8, 9])\n",
    "```"
   ]
  },
  {
   "cell_type": "code",
   "execution_count": 63,
   "metadata": {},
   "outputs": [
    {
     "name": "stdout",
     "output_type": "stream",
     "text": [
      "[array([0, 1, 2]) array([3, 4, 5, 6]) array([7, 8, 9])]\n"
     ]
    }
   ],
   "source": [
    "arr1 = np.arange(3)\n",
    "arr2 = np.arange(3,7)\n",
    "arr3 = np.arange(7,10)\n",
    "arr = np.array(None, dtype=object) \n",
    "print(arr)"
   ]
  },
  {
   "cell_type": "code",
   "execution_count": 64,
   "metadata": {},
   "outputs": [
    {
     "data": {
      "text/plain": [
       "array([0, 1, 2, 3, 4, 5, 6, 7, 8, 9])"
      ]
     },
     "execution_count": 64,
     "metadata": {},
     "output_type": "execute_result"
    }
   ],
   "source": [
    "one = np.array([ a for arr in arr for a in arr ])\n",
    "one"
   ]
  },
  {
   "cell_type": "code",
   "execution_count": 65,
   "metadata": {},
   "outputs": [
    {
     "data": {
      "text/plain": [
       "array([0, 1, 2, 3, 4, 5, 6, 7, 8, 9])"
      ]
     },
     "execution_count": 65,
     "metadata": {},
     "output_type": "execute_result"
    }
   ],
   "source": [
    "one = np.concatenate(arr)\n",
    "one"
   ]
  },
  {
   "cell_type": "markdown",
   "metadata": {},
   "source": [
    "## 배열의 각 행의 최대값 구하기\n",
    "\n",
    "주어진 배열의 각 행의 최대값을 구하십시오. \n",
    "\n",
    "__Sample Run:__\n",
    "```\n",
    "np.random.seed(10)\n",
    "a = np.random.randint(1, 10, [5, 3])\n",
    "\n",
    "array([[5, 1, 2],\n",
    "       [1, 2, 9],\n",
    "       [1, 9, 7],\n",
    "       [5, 4, 1],\n",
    "       [5, 7, 9]])\n",
    "```\n",
    "__Expected Output:__\n",
    "```\n",
    "array([5, 9, 9, 5, 9])\n",
    "```\n"
   ]
  },
  {
   "cell_type": "code",
   "execution_count": 68,
   "metadata": {},
   "outputs": [
    {
     "name": "stdout",
     "output_type": "stream",
     "text": [
      "[[5 1 2]\n",
      " [1 2 9]\n",
      " [1 9 7]\n",
      " [5 4 1]\n",
      " [5 7 9]]\n"
     ]
    }
   ],
   "source": [
    "np.random.seed(10)\n",
    "a = np.random.randint(1, 10, [5, 3])\n",
    "np.None"
   ]
  },
  {
   "cell_type": "markdown",
   "metadata": {},
   "source": [
    "## 배열 원소 값이 중복인가? \n",
    "\n",
    "주어진 배열의 원소값이 중복되었으면 True, 유일하면 False로 설정한 새로운 배열을 구하십시오. \n",
    "\n",
    "__Sample Run:__\n",
    "```\n",
    "[0 0 3 0 2 4 2 2 2 2]\n",
    "```\n",
    "__Expected Output:__\n",
    "```\n",
    "[False  True False  True False False  True  True  True  True]\n",
    "```"
   ]
  },
  {
   "cell_type": "code",
   "execution_count": 7,
   "metadata": {},
   "outputs": [
    {
     "name": "stdout",
     "output_type": "stream",
     "text": [
      "[0 0 3 0 2 4 2 2 2 2]\n",
      "[0 4 2 5]\n",
      "[False  True False  True False False  True  True  True  True]\n"
     ]
    }
   ],
   "source": [
    "np.random.seed(100)\n",
    "a = np.random.randint(0, 5, 10)\n",
    "print(a)\n",
    "\n",
    "out = np.None              # array with all True \n",
    "pos = np.None              # unique elements indices\n",
    "\n",
    "print(pos)\n",
    "out[pos] = False\n",
    "print(out)"
   ]
  },
  {
   "cell_type": "markdown",
   "metadata": {},
   "source": [
    "## 원핫인코딩(One-hot encoding) 이해하기\n",
    "\n",
    "원핫(One-Hot) 인코딩은 데이터를 여러 개의 0과 하나의 1의 값으로 데이터를 구별하는 인코딩입니다. \n",
    "\n",
    "예를 들어, `['tie', 'pants', 'shoes', 'shoes', 'socks', 'shirts', 'tie']` 리스트에 있는 품목들을 컴퓨터에 나타내기 위해 원핫인인코딩으로 변환하고자 가정합시다. 그러면, 7개의 항목이 있지만, unique한 항목은 5개 이므로, 5개의 코드가 있으면 됩니다. 그러면, 아래와 같이 나타낼 수 있습니다. "
   ]
  },
  {
   "cell_type": "markdown",
   "metadata": {},
   "source": [
    "```\n",
    "[1, 0, 0, 0, 0] for tie\n",
    "[0, 1, 0, 0, 0] for pants\n",
    "[0, 0, 1, 0, 0] for shoes\n",
    "[0, 0, 0, 1, 0] for socks\n",
    "[0, 0, 0, 0, 1] for shirts\n",
    "```\n",
    "이와같이 0으로 이루어진 벡터에 단 한개의 1의 값으로 해당 데이터의 값을 구별하도록 하는 것이 원핫 인코딩입니다. 원핫 인코딩은 매우 기초적이면서도 아주 흔히 사용되는 기법으로 딥러닝 뿐만 아니라 데이터 마이닝, 자연어 처리 등 아직도 많은 분야에서 사용되고 있는 기법입니다. "
   ]
  },
  {
   "cell_type": "markdown",
   "metadata": {},
   "source": [
    "또 다른 예를 들어, 글자가 적힌 종이를 0부터 9까지의 숫자값으로 분류를 하는 작업을 한다면 숫자값들은 다음과 같은 값들로 이루어질 수 있을 것입니다.\n",
    "\n",
    "```\n",
    "[1, 0, 0, 0, 0, 0, 0, 0, 0, 0]\n",
    "[0, 1, 0, 0, 0, 0, 0, 0, 0, 0]\n",
    "[0, 0, 1, 0, 0, 0, 0, 0, 0, 0]\n",
    "...\n",
    "[0, 0, 0, 0, 0, 0, 0, 0, 0, 1]\n",
    "```"
   ]
  },
  {
   "cell_type": "markdown",
   "metadata": {},
   "source": [
    "다음은 넘파이를 사용하지 않고 구현한 one_hot_encode()함수 입니다. "
   ]
  },
  {
   "cell_type": "code",
   "execution_count": 114,
   "metadata": {},
   "outputs": [
    {
     "data": {
      "text/plain": [
       "[[0, 1, 0, 0],\n",
       " [1, 0, 0, 0],\n",
       " [1, 0, 0, 0],\n",
       " [0, 1, 0, 0],\n",
       " [0, 0, 0, 1],\n",
       " [0, 0, 1, 0]]"
      ]
     },
     "execution_count": 114,
     "metadata": {},
     "output_type": "execute_result"
    }
   ],
   "source": [
    "import numpy as np\n",
    "\n",
    "def one_hot_encode(items):\n",
    "    results = []\n",
    "    unique_items = list(set(items))      # find the unique items\n",
    "    sorted_items = sorted(unique_items)  # sort the unique items\n",
    "    encode_len = len(unique_items)       # encode length\n",
    "\n",
    "    for item in items:\n",
    "        one_hot_encoded = [0] * encode_len       # create a list of zeros\n",
    "        one_hot_index = sorted_items.index(item) # find the index of the item\n",
    "        one_hot_encoded[one_hot_index] = 1       # change the zero to one\n",
    "        results.append(one_hot_encoded)          # add the result\n",
    "    return results\n",
    "\n",
    "one_hot_encode([2, 1, 1, 2, 5, 3])"
   ]
  },
  {
   "cell_type": "code",
   "execution_count": 96,
   "metadata": {},
   "outputs": [
    {
     "data": {
      "text/plain": [
       "[[0, 0, 0, 0, 1],\n",
       " [1, 0, 0, 0, 0],\n",
       " [0, 0, 1, 0, 0],\n",
       " [0, 0, 1, 0, 0],\n",
       " [0, 0, 0, 1, 0],\n",
       " [0, 1, 0, 0, 0],\n",
       " [0, 0, 0, 0, 1]]"
      ]
     },
     "execution_count": 96,
     "metadata": {},
     "output_type": "execute_result"
    }
   ],
   "source": [
    "one_hot_encode(['tie', 'pants', 'shoes', 'shoes', 'socks', 'shirts', 'tie'])"
   ]
  },
  {
   "cell_type": "markdown",
   "metadata": {},
   "source": [
    "## 넘파이 원핫인코딩(One-hot encoding) 구현하기\n",
    "\n",
    "아래에 제시된 넘파이의 eye 함수를 이용하면, 원핫코딩을 편하게 구현할 수 있습니다. \n",
    "\n",
    "```\n",
    "numpy.eye(N, M=None, k=0, dtype=<class 'float'>, order='C', *, like=None)\n",
    "Return a 2-D array with ones on the diagonal and zeros elsewhere.\n",
    "```\n",
    "\n",
    "`def one_hot_encode(items):` 함수를 정의하십시오. "
   ]
  },
  {
   "cell_type": "markdown",
   "metadata": {},
   "source": [
    "__Sample Run:__\n",
    "```\n",
    "def one_hot_encode(items):\n",
    "    None\n",
    "    return None\n",
    "\n",
    "if __name__ == \"__main__\":\n",
    "    items = np.array([0, 1, 2, 3, 4, 5, 3, 2, 1, 0])\n",
    "    one_hot_list = one_hot_encode(items)\n",
    "    print(one_hot_list)\n",
    "```"
   ]
  },
  {
   "cell_type": "markdown",
   "metadata": {},
   "source": [
    "__Expected Output:__\n",
    "```\n",
    "[[1. 0. 0. 0. 0. 0.]\n",
    " [0. 1. 0. 0. 0. 0.]\n",
    " [0. 0. 1. 0. 0. 0.]\n",
    " [0. 0. 0. 1. 0. 0.]\n",
    " [0. 0. 0. 0. 1. 0.]\n",
    " [0. 0. 0. 0. 0. 1.]\n",
    " [0. 0. 0. 1. 0. 0.]\n",
    " [0. 0. 1. 0. 0. 0.]\n",
    " [0. 1. 0. 0. 0. 0.]\n",
    " [1. 0. 0. 0. 0. 0.]]\n",
    " ```\n",
    " __Solution:__"
   ]
  },
  {
   "cell_type": "code",
   "execution_count": 115,
   "metadata": {},
   "outputs": [
    {
     "name": "stdout",
     "output_type": "stream",
     "text": [
      "[[1. 0. 0. 0. 0. 0.]\n",
      " [0. 1. 0. 0. 0. 0.]\n",
      " [0. 0. 1. 0. 0. 0.]\n",
      " [0. 0. 0. 1. 0. 0.]\n",
      " [0. 0. 0. 0. 1. 0.]\n",
      " [0. 0. 0. 0. 0. 1.]\n",
      " [0. 0. 0. 1. 0. 0.]\n",
      " [0. 0. 1. 0. 0. 0.]\n",
      " [0. 1. 0. 0. 0. 0.]\n",
      " [1. 0. 0. 0. 0. 0.]]\n"
     ]
    }
   ],
   "source": [
    "def one_hot_encode(items):\n",
    "    n_classes = None\n",
    "    return None\n",
    "\n",
    "if __name__ == \"__main__\":\n",
    "    items = np.array([0, 1, 2, 3, 4, 5, 3, 2, 1, 0])\n",
    "    one_hot_list = one_hot_encode(items)\n",
    "    print(one_hot_list)"
   ]
  },
  {
   "cell_type": "markdown",
   "metadata": {},
   "source": [
    "## 몬테카를로 방법으로 원주율 계산하기\n",
    "\n",
    "몬테카를로(Monte Carlo) 방법은 과학과 공학 전 영역에 걸쳐 널리 사용되는 방법입니다. 확률적인 해석을 요구하는 문제를 풀고싶을 때, 이 방법이 주로 쓰입니다. 역사적으로는 물리학에서 자주 사용되었다고 전해집니다. 1940년도에 원자로의 연쇄 반응 제어를 최초로 실현한 물리학자 엔리코 페르미는 중성자 확산(Neutron Diffusion)을 연구하면서, 이 방법을 자주 사용하였고, 로스앨러모스 국립 연구소(Los Alamos National Laboratory)에서 맨하탄 프로젝트가 수행될 때 현대적인 버전의 몬테카를로 방법이 개발되었다고 합니다. [www.wikipedia.com](https://ko.wikipedia.org/wiki/%EB%AA%AC%ED%85%8C%EC%B9%B4%EB%A5%BC%EB%A1%9C_%EB%B0%A9%EB%B2%95)\n",
    "\n",
    "\n",
    "몬테카를로 방법의 가장 간단한 예시로는 원주율($\\pi$)의 값을 추정하는 것입니다.\n",
    "\n",
    "넓이가 1인 정사각형을 생각해봅시다. 정사각형의 한 꼭지점을 중심으로 반지름이 1인 사분원을 정사각형 안에 그립니다. 그러면 사분원이 차지하는 넓이는 $\\frac{\\pi}{4}$가 될 것입니다. 이제, $0 \\leq x \\leq 1$인 $x$를 임의로 가져오고, 독립적으로 $0 \\leq y \\leq 1$인 $y$를 임의로 가져온 후, $x^2 + y^2 \\leq 1$일 확률은 사분원이 차지하는 넓이와 같은 값인 $\\frac{\\pi}{4}$가 됩니다. \n",
    "\n",
    "이 과정을 여러 번 수행하는 알고리즘을 작성하고, 원주율의 값을 추정하십시오. \n"
   ]
  },
  {
   "cell_type": "markdown",
   "metadata": {},
   "source": [
    "<center><img src=\"https://github.com/idebtor/KMOOC-ML/blob/master/ipynb/images/ch2/numpy-montecarlo.gif?raw=true\" width=\"400\"></center>\n",
    "\n",
    "<center>그림 1: 몬테카를로 방법으로 원주율을 계산하는 과정 (출처: https://ko.wikipedia.org/) </center>"
   ]
  },
  {
   "cell_type": "markdown",
   "metadata": {},
   "source": [
    "__Expected Output:__\n",
    "\n",
    "<center><img src=\"https://github.com/idebtor/KMOOC-ML/blob/master/ipynb/images/joyai/montecarlo.png?raw=true\" width=\"800\"></center>\n",
    "\n",
    "<center>그림 2: 몬테카를로 방법으로 원주율을 계산하는 과정 </center>\n",
    "\n",
    "__Solution:__"
   ]
  },
  {
   "cell_type": "code",
   "execution_count": 105,
   "metadata": {},
   "outputs": [
    {
     "name": "stdout",
     "output_type": "stream",
     "text": [
      "3.104\n"
     ]
    }
   ],
   "source": [
    "import numpy as np\n",
    "import matplotlib.pyplot as plt\n",
    "\n",
    "n = 1000                     # n = number of dots\n",
    "r = 10                       # radius or side\n",
    "\n",
    "# your code here\n",
    "\n",
    "pi = None\n",
    "print(pi)"
   ]
  },
  {
   "cell_type": "code",
   "execution_count": 106,
   "metadata": {},
   "outputs": [
    {
     "data": {
      "image/png": "[encoded data removed]",
      "text/plain": [
       "<Figure size 432x288 with 1 Axes>"
      ]
     },
     "metadata": {
      "needs_background": "light"
     },
     "output_type": "display_data"
    }
   ],
   "source": [
    "```\n",
    "fig = plt.figure()\n",
    "ax = fig.add_subplot(111) \n",
    "ax.set_aspect('equal')\n",
    "plt.plot(None, 'r.', markersize=1.0)                       # small marker\n",
    "plt.plot(None, 'b.', markersize=1.0) \n",
    "plt.title(f'Monte Carlo Method: \\n Find $\\pi={pi}, n={n}$')\n",
    "plt.xlabel('X')\n",
    "plt.ylabel('Y')\n",
    "plt.xlim(0, r)\n",
    "plt.ylim(0, r)\n",
    "plt.grid()\n",
    "plt.show()\n",
    "```"
   ]
  },
  {
   "cell_type": "markdown",
   "metadata": {},
   "source": [
    "# 학습 정리\n",
    "\n",
    "- 넘파이 전반적인 이해도를 점검한다\n",
    "- 넘파이의 중요한 주제를 복습한다\n"
   ]
  },
  {
   "cell_type": "markdown",
   "metadata": {},
   "source": [
    "# 참고자료\n",
    "- CS231n Convolutional Neural Networks for Visual Recognition, [Python Numpy Tutorial](http://cs231n.github.io/python-numpy-tutorial/), Stanford University\n",
    "- [데이터 사이언스 스쿨](https://datascienceschool.net/view-notebook/17608f897087478bbeac096438c716f6/)\n",
    "- Python Numpy Tutorial - http://cs231n.github.io/\n",
    "- 김태완 블로그: [파이썬 데이터 사이언스 Cheat Sheet](http://taewan.kim/post/numpy_cheat_sheet/)"
   ]
  }
 ],
 "metadata": {
  "kernelspec": {
   "display_name": "Python 3 (ipykernel)",
   "language": "python",
   "name": "python3"
  },
  "language_info": {
   "codemirror_mode": {
    "name": "ipython",
    "version": 3
   },
   "file_extension": ".py",
   "mimetype": "text/x-python",
   "name": "python",
   "nbconvert_exporter": "python",
   "pygments_lexer": "ipython3",
   "version": "3.8.12"
  },
  "toc-autonumbering": true
 },
 "nbformat": 4,
 "nbformat_minor": 4
}
