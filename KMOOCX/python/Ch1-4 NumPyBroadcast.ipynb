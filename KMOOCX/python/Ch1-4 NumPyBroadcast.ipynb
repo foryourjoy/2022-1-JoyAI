{
 "cells": [
  {
   "cell_type": "markdown",
   "metadata": {
    "tags": []
   },
   "source": [
    "이 율법책을 네 입에서 떠나지 말게 하며 주야로 그것을 묵상하여 그 안에 기록된 대로 다 지켜 행하라 그리하면 네 길이 평탄하게 될 것이며 네가 형통하리라 (수1:8)\n",
    "\n",
    "-------\n",
    "\n",
    "<center><img src=\"https://github.com/idebtor/KMOOC-ML/blob/master/ipynb/images/joyai/LectureNotes_ML.png?raw=true\" width=1000></center>\n",
    "\n",
    "__NOTE:__ The following materials have been compiled and adapted from the numerous sources including my own. Please help me to keep this tutorial up-to-date by reporting any issues or questions. Send any comments or criticisms to `idebtor@gmail.com` Your assistances and comments will be appreciated."
   ]
  },
  {
   "cell_type": "markdown",
   "metadata": {},
   "source": [
    "<b style=\"font-size:30px\"> Chapter 3. NumPy Broadcasting - 브로드캐스팅 </b>\n",
    "\n",
    "__학습 목표__\n",
    "\n",
    "    - 넘파이 배열의 브로드캐스팅 방법을 배운다.\n",
    "    - 넘파이 배열을 활용한 이미지 생성과 변형을 배운다\n",
    "\n",
    "__학습 내용__\n",
    "\n",
    "1. 다양한 브로드캐스팅 방법\n",
    "1. 배열의 축(Axis) 다루기\n",
    "1. 배열로 생성된 이미지 다루기\n"
   ]
  },
  {
   "cell_type": "markdown",
   "metadata": {},
   "source": [
    "# 브로드캐스팅$^{broadcasting}$\n",
    "브로드캐스팅이라는 말을 들으면 우리는 금방 \"방송\"이란 뜻이 생각이 납니다. 그런데, '방송'외에 '널리 전하다, 퍼뜨리다'의 뜻도 있습니다. 아마도 방송이 발명되기 전에는 이런 의미가 더 강했을 것 같습니다. \n",
    "\n",
    "일반적으로 서로 형상이 다른 배열끼리는 연산이 가능하지 않습니다. 다음 셀을 코드 셀로 변환한 후 실행하면, 다음과 같은 ValueError가 나오면서 broadcast할 수 없다는 에러 메세지가 나옵니다. "
   ]
  },
  {
   "cell_type": "markdown",
   "metadata": {},
   "source": [
    "```\n",
    "import numpy as np\n",
    "\n",
    "a = np.array([1,2,3])\n",
    "b = np.array([1,2])\n",
    "print(a + b)\n",
    "```"
   ]
  },
  {
   "cell_type": "markdown",
   "metadata": {},
   "source": [
    "```\n",
    "---------------------------------------------------------------------------\n",
    "ValueError                                Traceback (most recent call last)\n",
    "~\\AppData\\Local\\Temp/ipykernel_8888/3725896564.py in <module>\n",
    "      3 a = np.array([1,2,3])\n",
    "      4 b = np.array([1,2])\n",
    "----> 5 print(a + b)\n",
    "\n",
    "ValueError: operands could not be broadcast together with shapes (3,) (2,) \n",
    "```"
   ]
  },
  {
   "cell_type": "markdown",
   "metadata": {},
   "source": [
    "그런데, 어떤 조건이 맞을 경우에는 형상이 서로 다른 배열 간에도 산술 연산이 가능하게 하니다. 이를 브로드캐스팅이라고 합니다. 종종 작은 배열과 큰 배열이 있을 때, 큰 배열을 대상으로 작은 배열을 여러 번 연산하고자 할 때 사용합니다. 간단한 예는 배열의 각 행에 상수 벡터를 더하는 경우입니다. \n",
    "\n",
    "예를 들며, A행렬에 B벡터를 A행렬의 모든 행마다 더하기를 원할 때입니다. \n",
    "\n",
    "$ A = \\begin{pmatrix} 1 & 2 & 3\\cr 4 & 5 & 6 \\cr 7 & 8 & 9 \\cr 10 & 11 & 12 \\end{pmatrix}, \\quad\n",
    "B = \\begin{pmatrix} 1 & 0 & 1 \\end{pmatrix} $"
   ]
  },
  {
   "cell_type": "markdown",
   "metadata": {},
   "source": [
    "여기서 \n",
    "\n",
    "$ A + B $\n",
    "\n",
    "하면, 브로드캐스팅으로 인하여 B가 확장이 되어 마치 A의 형상처럼 되어 연산을 합니다. \n",
    "\n",
    "$ A + B = \\begin{pmatrix} 1 & 2 & 3\\cr 4 & 5 & 6 \\cr 7 & 8 & 9 \\cr 10 & 11 & 12 \\end{pmatrix} + \n",
    "\\begin{pmatrix} 1 & 0 & 1 \\cr 1 & 0 & 1 \\cr 1 & 0 & 1 \\cr 1 & 0 & 1 \\end{pmatrix} $\n",
    "\n",
    "## Example 1. \n",
    "\n",
    "위의 배열들을 생성하고 연산을 실행합니다."
   ]
  },
  {
   "cell_type": "code",
   "execution_count": 1,
   "metadata": {},
   "outputs": [
    {
     "name": "stdout",
     "output_type": "stream",
     "text": [
      "[[ 1  2  3]\n",
      " [ 4  5  6]\n",
      " [ 7  8  9]\n",
      " [10 11 12]]\n",
      "[1 0 1]\n",
      "2차원+1차원 브로드캐스팅 결과:\n",
      "[[ 2  2  4]\n",
      " [ 5  5  7]\n",
      " [ 8  8 10]\n",
      " [11 11 13]]\n"
     ]
    }
   ],
   "source": [
    "import numpy as np\n",
    "\n",
    "x = np.arange(1, 13).reshape(4, 3)\n",
    "y = np.array([1, 0, 1])\n",
    "print(x)\n",
    "print(y)\n",
    "print('2차원+1차원 브로드캐스팅 결과:')\n",
    "print(x + y)"
   ]
  },
  {
   "cell_type": "markdown",
   "metadata": {},
   "source": [
    "## 1차원+상수 브로드캐스팅\n",
    "\n",
    "다음 그림과 같이 넘파이의 브로드캐스딩으로 연산을 실행하십시오.  \n",
    "\n",
    "넘파이 배열 `[0, 1, 2]`에 스칼라 5를 합한 결과가 `[5, 6, 7]`이 됩니다. 브로드캐스팅으로 5가 0이외에 1과 2의 원소 부분에도 전파(broadcast)되어 계산되어 간단하게 합산이 이루어집니다.\n",
    "\n",
    "\\begin{align}\n",
    "  A = \\begin{pmatrix} 0 & 1 & 2 \\end{pmatrix} + \\begin{pmatrix} 5 \\end{pmatrix} \n",
    "    = \\begin{pmatrix} 5 & 6 & 7 \\end{pmatrix} \n",
    "\\end{align}\n",
    "\n",
    "<center>shape(3,) + shape(1,) = shape(3,)</center>\n",
    "    \n",
    "<center><img src=\"https://github.com/idebtor/KMOOC-ML/blob/master/ipynb/images/ch2/numpy-broadcast1.png?raw=true\" width=\"500\"> </center>\n",
    "\n",
    "<center>그림 2: 브로드캐스팅 예제 2</center> \n",
    "\n",
    "__Solution:__"
   ]
  },
  {
   "cell_type": "code",
   "execution_count": 2,
   "metadata": {},
   "outputs": [
    {
     "name": "stdout",
     "output_type": "stream",
     "text": [
      "[0 1 2]\n",
      "1차원+상수 브로드캐스팅:\n",
      "[5 6 7]\n"
     ]
    }
   ],
   "source": [
    "x = np.arange(3)\n",
    "print(x)\n",
    "print('1차원+상수 브로드캐스팅:')\n",
    "x = np.arange(3) + 5\n",
    "print(x)"
   ]
  },
  {
   "cell_type": "markdown",
   "metadata": {},
   "source": [
    "## 2차원+1차원 브로드캐스팅\n",
    "\n",
    "배열 간의 계산으로 배열의 차원이 확대된 경우인데, 3x3 배열에 1x3 배열을 합산한 경우입니다. 각 행에 동일한 계산을 전파한 것을 볼 수 있습니다.\n",
    "\n",
    "\\begin{align}\n",
    "A = \\begin{pmatrix} 1 & 1 & 1 \\cr  1 & 1 & 1 \\cr  1 & 1 & 1  \\end{pmatrix} \n",
    "  + \\begin{pmatrix} 0 & 1 & 2 \\end{pmatrix} \n",
    "  = \\begin{pmatrix} 1 & 2 & 3 \\cr 1 & 2 & 3 \\cr 1 & 2 & 3 \\end{pmatrix} \n",
    "\\end{align}\n",
    "<center> shape(3, 3) + shape(3,) = shape(3, 3) </center>"
   ]
  },
  {
   "cell_type": "markdown",
   "metadata": {},
   "source": [
    "<center><img src=\"https://github.com/idebtor/KMOOC-ML/blob/master/ipynb/images/ch2/numpy-broadcast2.png?raw=true\" width=\"500\"></center>\n",
    "<center>그림 3: 브로드캐스팅 예제 3</center>    \n",
    "\n",
    "__Solution:__"
   ]
  },
  {
   "cell_type": "code",
   "execution_count": 3,
   "metadata": {},
   "outputs": [
    {
     "name": "stdout",
     "output_type": "stream",
     "text": [
      "[[1. 1. 1.]\n",
      " [1. 1. 1.]\n",
      " [1. 1. 1.]]\n",
      "[0 1 2]\n",
      "2차원+1차원 브로드캐스팅 결과:\n",
      "[[1. 2. 3.]\n",
      " [1. 2. 3.]\n",
      " [1. 2. 3.]]\n"
     ]
    }
   ],
   "source": [
    "a = np.ones((3, 3))\n",
    "b = np.arange(3) \n",
    "print(a)\n",
    "print(b)\n",
    "print('2차원+1차원 브로드캐스팅 결과:')\n",
    "print(a + b)"
   ]
  },
  {
   "cell_type": "markdown",
   "metadata": {},
   "source": [
    "## 1차원+1차원 브로드캐스팅(양방향):\n",
    "\n",
    "이 예제는 브로드캐스팅의 확장성 측면을 극명하게 보여주는 경우입니다. 3x1 배열과 1x3 배열의 합을 했는데 두 번째에서는 한쪽의 더 낮은 차원의 배열에서만 아래(0번 축) 방향으로 broadcast한 것에 반해 양 쪽 배열에서 broadcast한 것을 확인할 수 있습니다.\n",
    "\n",
    "\\begin{align}\n",
    "A = \\begin{pmatrix} 0 \\cr 1 \\cr 2 \\end{pmatrix} + \\begin{pmatrix} 0 & 1 & 2 \\end{pmatrix} \n",
    "    = \\begin{pmatrix} 0 & 1 & 2 \\cr 1 & 2 & 3 \\cr 2 & 3 & 4 \\end{pmatrix} \n",
    "\\end{align}\n",
    "<center>shape(3, 1) + shape(1, 3) = shape(3, 3)</center>\n",
    "    "
   ]
  },
  {
   "cell_type": "markdown",
   "metadata": {},
   "source": [
    "<center><img src=\"https://github.com/idebtor/KMOOC-ML/blob/master/ipynb/images/ch2/numpy-broadcast3.png?raw=true\" width=\"500\"></center>\n",
    "<center>그림 4: 브로드캐스팅 예제 4</center>\n",
    "\n",
    "__Solution:__"
   ]
  },
  {
   "cell_type": "code",
   "execution_count": 4,
   "metadata": {},
   "outputs": [
    {
     "name": "stdout",
     "output_type": "stream",
     "text": [
      "[[0]\n",
      " [1]\n",
      " [2]]\n",
      "[0 1 2]\n",
      "1차원+1차원 브로드캐스팅(양방향) 결과:\n",
      "[[0 1 2]\n",
      " [1 2 3]\n",
      " [2 3 4]]\n"
     ]
    }
   ],
   "source": [
    "a = np.arange(3).reshape(3, 1)\n",
    "b = np.arange(3)\n",
    "print(a)\n",
    "print(b)\n",
    "print('1차원+1차원 브로드캐스팅(양방향) 결과:')\n",
    "print(a + b)"
   ]
  },
  {
   "cell_type": "markdown",
   "metadata": {},
   "source": [
    "지금까지 예제를 통해 보로드캐스팅을 할 수 있는 있었던 조건을 살펴보면, \n",
    "- 배열 연산에서 항상 1차원 배열이 포함되어 있어야 합니다. \n",
    "- 행/열의 어떤 축이든(0축이든지 혹은 1축이든지) 차원의 길이가 같아야 합니다. 예제의 경우(3x3 + 1x3,  3x1 + 1x3)와 같이 말입니다. "
   ]
  },
  {
   "cell_type": "markdown",
   "metadata": {},
   "source": [
    "## 3차원+2차원 브로드캐스팅\n",
    "\n",
    "3차원 배열의 0번 축으로 브로드캐스팅 된 예시입니다. (3,4,2)형상의 3차원 배열과 (4,2)형상의 2차원 배열이 있습니다. 위에서 말한 조건처럼 차원의 짝이 맞아야 브로드캐스팅이 수행될 수 있습니다. \n",
    "\n",
    "3차원 배열의 형상(4, 2, 3)은 (2, 3)배열이 4개가 있다는 의미입니다. 그리고, 2차원 배열(2, 3)배열의 차원이 확장(broadcasting)이 되고 합산이 일어납니다. 깊이(0번) 축으로 브로드캐스팅이 된 것입니다.\n",
    "\n",
    "브로드캐스팅은 저차원(0 축)의 배열을 연산을 위해서 고차원 배열로 확장시키는 것과 같습니다."
   ]
  },
  {
   "cell_type": "markdown",
   "metadata": {},
   "source": [
    "<center><img src=\"https://github.com/idebtor/KMOOC-ML/blob/master/ipynb/images/ch2/numpy-broadcast4.png?raw=true\" width=\"600\"></center>\n",
    "<center>그림 5: 3차원+2차원 브로드캐스팅 </center>\n",
    "\n",
    "__Solution:__"
   ]
  },
  {
   "cell_type": "code",
   "execution_count": 5,
   "metadata": {},
   "outputs": [
    {
     "name": "stdout",
     "output_type": "stream",
     "text": [
      "[[[ 0  1  2]\n",
      "  [ 3  4  5]]\n",
      "\n",
      " [[ 6  7  8]\n",
      "  [ 9 10 11]]\n",
      "\n",
      " [[12 13 14]\n",
      "  [15 16 17]]\n",
      "\n",
      " [[18 19 20]\n",
      "  [21 22 23]]]\n",
      "[[0 1 2]\n",
      " [3 4 5]]\n",
      "3차원+2차원 브로드캐스팅 결과:\n",
      "[[[ 0  2  4]\n",
      "  [ 6  8 10]]\n",
      "\n",
      " [[ 6  8 10]\n",
      "  [12 14 16]]\n",
      "\n",
      " [[12 14 16]\n",
      "  [18 20 22]]\n",
      "\n",
      " [[18 20 22]\n",
      "  [24 26 28]]]\n"
     ]
    }
   ],
   "source": [
    "import numpy as np\n",
    "\n",
    "a = np.arange(24).reshape(4, 2, 3) \n",
    "b = np.arange(6).reshape(2, 3)\n",
    "print(a)\n",
    "print(b)\n",
    "print('3차원+2차원 브로드캐스팅 결과:')\n",
    "print(a + b)"
   ]
  },
  {
   "cell_type": "markdown",
   "metadata": {},
   "source": [
    "## 3차원+3차원 브로드캐스팅\n",
    "\n",
    "3차원 배열의 1번 축으로 브로드캐스팅 된 예시입니다. \n",
    "\n",
    "3차원의 배열이 각각 (2, 2, 3)과 (2, 1, 3)형상을 가지고 있습니다. 이 3차원의 배열들은 1번 축이 다르므로, 두 (2, 1, 3)형상의 배열에서 그림과 같이 확장되면서 브로드캐스팅이 이루어저야 합니다. \n",
    "\n",
    "참고로, 3차원 배열의 형상(2, 2, 3)은 (2, 3)배열이 2개가 있다는 의미이고, 3차원 배열(2, 1, 3)은 (1, 3)배열이 두 개 있다는 것입니다. \n",
    "\n",
    "브로드캐스팅은 저차원(1 축)의 배열을 연산을 위해서 고차원 배열로 확장시키는 것과 같습니다.\n",
    "\n",
    "<center><img src=\"https://github.com/idebtor/KMOOC-ML/blob/master/ipynb/images/ch2/numpy-broadcast5.png?raw=true\" width=\"600\"></center>\n",
    "\n",
    "<center>그림 6: 3차원+3차원 브로드캐스팅 </center>\n"
   ]
  },
  {
   "cell_type": "code",
   "execution_count": 6,
   "metadata": {},
   "outputs": [
    {
     "name": "stdout",
     "output_type": "stream",
     "text": [
      "[[[ 0  1  2]\n",
      "  [ 3  4  5]]\n",
      "\n",
      " [[ 6  7  8]\n",
      "  [ 9 10 11]]]\n",
      "[[[ 0 10 20]]\n",
      "\n",
      " [[30 40 50]]]\n",
      "3차원+2차원 브로드캐스팅 결과:\n",
      "[[[ 0 11 22]\n",
      "  [ 3 14 25]]\n",
      "\n",
      " [[36 47 58]\n",
      "  [39 50 61]]]\n"
     ]
    }
   ],
   "source": [
    "a = np.arange(12).reshape(2, 2, 3) \n",
    "b = 10 * np.arange(6).reshape(2, 1, 3)\n",
    "print(a)\n",
    "print(b)\n",
    "print('3차원+2차원 브로드캐스팅 결과:')\n",
    "print(a + b)"
   ]
  },
  {
   "cell_type": "markdown",
   "metadata": {},
   "source": [
    "# 배열의 축(Axis) 다루기\n",
    "\n",
    "기계학습에서 자료를 다루다보면, Numpy 배열의 축(Axis)를 필수적으로 이해해야 할 필요가 종종 생깁니다. \n",
    "\n",
    "예를 들면, 다음 그림과 같은 3차원 배열은 어떻게 만들수 있을까요? 또한 axis = 0에 대한 np.sum()는 어떤 값을 반환할까 하는 문제입니다. 배열의 axis를 확실히 이해하지 않으면, 참 까다로운 문제입니다. \n",
    "\n",
    "<center><img src=\"https://github.com/idebtor/KMOOC-ML/blob/master/ipynb/images/ch2/ndarray.png?raw=true\" width=\"600\">\n",
    "<center>그림 6: 넘파이 1차원, 2차원 및 3차원 배열과 Axis</center>"
   ]
  },
  {
   "cell_type": "markdown",
   "metadata": {},
   "source": [
    "## 2차원 배열의 경우\n",
    "\n",
    "자, 그러면 이 문제를 정확하게 이해하기 위하여 np.sum() 함수를 이용하여 2차원의 예제부터 살펴보도록 하겠습니다. "
   ]
  },
  {
   "cell_type": "code",
   "execution_count": 7,
   "metadata": {},
   "outputs": [
    {
     "name": "stdout",
     "output_type": "stream",
     "text": [
      "[[0 1 2]\n",
      " [3 4 5]]\n"
     ]
    }
   ],
   "source": [
    "a = np.arange(6).reshape(2,3)\n",
    "print(a)"
   ]
  },
  {
   "cell_type": "markdown",
   "metadata": {},
   "source": [
    "### Example 1. \n",
    "\n",
    "배열 a의 모든 원소의 합을 구하십시오. "
   ]
  },
  {
   "cell_type": "code",
   "execution_count": 8,
   "metadata": {},
   "outputs": [
    {
     "name": "stdout",
     "output_type": "stream",
     "text": [
      "15\n"
     ]
    }
   ],
   "source": [
    "x = np.sum(a) \n",
    "print(x)"
   ]
  },
  {
   "cell_type": "markdown",
   "metadata": {},
   "source": [
    "### Example 2. \n",
    "\n",
    "배열 a에서 각 축의 합을 구하십시오. \n",
    "\n",
    "배열의 두 축 즉 axis=0 혹은 axis=1을 지정하면 각 축에 대한 합을 구할 수 있습니다. 그런데, 그 축의 합은 어느 값들의 합일까하는 문제입니다. 다음과 같이 실행했을 때, 출력은 무엇인가요? \n",
    "\n",
    "```\n",
    "[[0 1 2]\n",
    " [3 4 5]]\n",
    "```\n",
    "\n",
    "`np.sum(a, axis=0)`   \n",
    "`np.sum(a, axis=1)`\n",
    "\n",
    "제가 답을 말하기 전에 여러분이 먼저 답을 생각해보면 좋겠습니다. 먼저 형상은 무엇인지, 원소의 값은 무엇인지 생각해보십시오. "
   ]
  },
  {
   "cell_type": "code",
   "execution_count": 9,
   "metadata": {},
   "outputs": [
    {
     "name": "stdout",
     "output_type": "stream",
     "text": [
      "[[0 1 2]\n",
      " [3 4 5]]\n",
      "sum(axis = 0): [3 5 7]\n"
     ]
    }
   ],
   "source": [
    "print(a)\n",
    "print('sum(axis = 0):', np.sum(a, axis=0))"
   ]
  },
  {
   "cell_type": "markdown",
   "metadata": {},
   "source": [
    "여러분이 생각한 것과 같은가요?\n",
    "- aixs = 0 즉 행을 기준으로 각 행의 동일 인덱스의 원소를 그룹으로 합니다\n",
    "- aixs = 1 즉 열을 기준으로 각 열의 동일 인덱스의 원소를 그룹으로 합니다\n",
    "axis = 0를 기준으로 각 행의 인덱스가 각각 0, 1, 2 원소들끼리 합한 것이 정답입니다. 그러므로, 배열의 형상은 (3,)입니다. "
   ]
  },
  {
   "cell_type": "markdown",
   "metadata": {},
   "source": [
    "### Example 3 \n",
    "\n",
    "한 번 연습을 해볼까요? 다음과 같이 실행했을 때, 형상과 원소의 값을 무엇인가요?\n",
    "\n",
    "```\n",
    "[[0 1 2]\n",
    " [3 4 5]]\n",
    "```\n",
    "`np.max(a, axis=1)`\n",
    "\n",
    "제가 답을 말하기 전에 여러분이 먼저 답을 생각해보면 좋겠습니다."
   ]
  },
  {
   "cell_type": "code",
   "execution_count": 10,
   "metadata": {},
   "outputs": [
    {
     "name": "stdout",
     "output_type": "stream",
     "text": [
      "[[0 1 2]\n",
      " [3 4 5]]\n",
      "max(axis = 1): [2 5]\n"
     ]
    }
   ],
   "source": [
    "print(a)\n",
    "print('max(axis = 1):', np.max(a, axis=1))"
   ]
  },
  {
   "cell_type": "markdown",
   "metadata": {},
   "source": [
    "배열에서 axis=1 즉 3개의 열들 중에서 인덱스가 같은 원소들끼리 비교하여 최대값을 구한 것입니다. 3개 중에 하나를 선택하는 것을 두 번해야 합니다. "
   ]
  },
  {
   "cell_type": "markdown",
   "metadata": {},
   "source": [
    "## 3차원 배열의 경우\n",
    "\n",
    "### Example 1. 다음 그림과 같은 3차원 배열을 생성하십시오. \n",
    "\n",
    "2차원 배열은 1차원 배열(벡터)를 두 개 이상을 모아 둔 것이며, 3차원 배열은 2차원 배열을 두 개 이상 모아둔 것\n",
    "3차원 배열은 2차원의 배열을 두 개 이상 존재하는 것입니다.  다음과 같은 (4 x 2)배열을 넘파이로 어떻게 생성할 수 있을까요?"
   ]
  },
  {
   "cell_type": "markdown",
   "metadata": {},
   "source": [
    "<center><img src=\"https://github.com/idebtor/KMOOC-ML/blob/master/ipynb/images/ch2/numpy3d.png?raw=true\" width=\"300\"></center>\n",
    "<center>그림 6: 넘파이 2차원, 3차원 배열</center>\n",
    "\n",
    "__Solution:__\n",
    "\n",
    "3차원은 배열은 그림에 보는 바와 같이 2차원의 배열을 세 번 반복하는 것을 관찰할 수 있습니다. 3차원 배열은 (4, 2) 2차원 배열을 3개를 모은 것입니다."
   ]
  },
  {
   "cell_type": "code",
   "execution_count": 11,
   "metadata": {},
   "outputs": [
    {
     "ename": "AttributeError",
     "evalue": "'NoneType' object has no attribute 'shape'",
     "output_type": "error",
     "traceback": [
      "\u001b[1;31m---------------------------------------------------------------------------\u001b[0m",
      "\u001b[1;31mAttributeError\u001b[0m                            Traceback (most recent call last)",
      "\u001b[1;32m~\\AppData\\Local\\Temp/ipykernel_22168/1796675659.py\u001b[0m in \u001b[0;36m<module>\u001b[1;34m\u001b[0m\n\u001b[0;32m      1\u001b[0m \u001b[0ma\u001b[0m \u001b[1;33m=\u001b[0m \u001b[1;32mNone\u001b[0m\u001b[1;33m\u001b[0m\u001b[1;33m\u001b[0m\u001b[0m\n\u001b[1;32m----> 2\u001b[1;33m \u001b[0mprint\u001b[0m\u001b[1;33m(\u001b[0m\u001b[0ma\u001b[0m\u001b[1;33m.\u001b[0m\u001b[0mshape\u001b[0m\u001b[1;33m)\u001b[0m\u001b[1;33m\u001b[0m\u001b[1;33m\u001b[0m\u001b[0m\n\u001b[0m",
      "\u001b[1;31mAttributeError\u001b[0m: 'NoneType' object has no attribute 'shape'"
     ]
    }
   ],
   "source": [
    "a = None\n",
    "print(a.shape)"
   ]
  },
  {
   "cell_type": "markdown",
   "metadata": {},
   "source": [
    "### Example 2. \n",
    "\n",
    "np.sum(a, axis = 0)은 어떤 형상이며, 값은 무엇일까요?\n",
    "Hint: 결과값의 첫번째 원소의 값은 24, 마지막 원소의 값은 45입니다. "
   ]
  },
  {
   "cell_type": "code",
   "execution_count": null,
   "metadata": {},
   "outputs": [],
   "source": [
    "x = np.sum(a, axis=0)\n",
    "print(x.shape)\n",
    "print(x)"
   ]
  },
  {
   "cell_type": "markdown",
   "metadata": {},
   "source": [
    "축 axis = 0과 같은 방향으로 시선을 향하면 됩니다. 그러면, 형상은 당연히 (4, 2)가 보일 것입니다. 그리고 같은 위치에 있는 원소들을 합하면 됩니다. 예를 들면, (0, 4, 1), (1, 4, 1), (2, 4, 1) 위치의 원소를 다 합하면 45가 되는 것을 알 수 있습니다. \n",
    "\n",
    "<center><img src=\"https://github.com/idebtor/KMOOC-ML/blob/master/ipynb/images/ch2/numpy3d-axis0.png?raw=true\" width=\"200\">\n",
    "<center>그림 6: 3차원 배열의 축(axis = 0)</center>"
   ]
  },
  {
   "cell_type": "markdown",
   "metadata": {},
   "source": [
    "### Example 3. \n",
    "\n",
    "np.min(a, axis = 1)은 어떤 형상이며, 값은 무엇일까요?   \n",
    "\n",
    "Hint: 결과값의 첫번째 원소의 값은 0, 마지막 원소의 값은 17입니다.\n",
    "<center>\n",
    "<img src=\"https://github.com/idebtor/KMOOC-ML/blob/master/ipynb/images/ch2/numpy3d-axis1.png?raw=true\" width=\"200\"></center>\n",
    "<center>그림 6: 3차원 배열의 축(axis = 1)</center>\n",
    "\n",
    "축 axis = 1과 같은 방향으로 시선을 향하면 됩니다. 그러면, 형상은 당연히 (3, 2)가 보일 것입니다. 그 위치에 있는 원소들 중에 작은 값을 택하면 됩니다. 이런 경우, 모두 가장 위에 있는 값들이 가장 작은 것을 알 수 있습니다.  \n"
   ]
  },
  {
   "cell_type": "code",
   "execution_count": null,
   "metadata": {},
   "outputs": [],
   "source": [
    "x = np.min(a, axis = 1)\n",
    "print(x.shape)\n",
    "print(x)"
   ]
  },
  {
   "cell_type": "markdown",
   "metadata": {},
   "source": [
    "### Example 4. \n",
    "\n",
    "np.max(a, axis = 2)은 어떤 형상이며, 값은 무엇일까요?\n",
    "\n",
    "<center><img src=\"https://github.com/idebtor/KMOOC-ML/blob/master/ipynb/images/ch2/numpy3d-axis2.png?raw=true\" width=\"200\">\n",
    "<center>그림 6: 3차원 배열의 축(axis = 2)</center>\n"
   ]
  },
  {
   "cell_type": "markdown",
   "metadata": {},
   "source": [
    "축 axis = 2의 방향으로 시선을 향하면 됩니다. 그러면, 형상은 (3, 4)가 보일 것입니다. 그 위치에 있는 원소들 중에 큰 값을 택하면 됩니다. 이런 경우, 시선에 가장 멀리 있는 원소들 (앞에서 볼 때, 가장 오른쪽) 가장 큰 값인 것을 알 수 있습니다. "
   ]
  },
  {
   "cell_type": "code",
   "execution_count": null,
   "metadata": {},
   "outputs": [],
   "source": [
    "x = np.max(a, axis = 2)\n",
    "print(x.shape)\n",
    "print(x)"
   ]
  },
  {
   "cell_type": "markdown",
   "metadata": {},
   "source": [
    "2차원 배열을 건물의 `[floor][room]`이라고 생각해보십시오. (참고로, 이미지(영상,화면)에서 x, y좌표는 좌측상단 코너가 원점(0,0)이며, x는 오른쪽으로, y는 아래쪽으로 양의 방향입니다) 이런 이미지 좌표 체계를 이해하면, 2차원일 경우는 서로 일치가 되니까 쉽게 이해할 수 있습니다.\n",
    "\n",
    "그런데, 3차원일 경우는 직접 비유하기가 좀 어렵네요. \n",
    "\n",
    "한 방법은 axis=2에서 바라보는 것처럼, axis=2를 배열 형상(3, 4, 2)에서 제외하면 배열 형상은 (3, 4)가 남게된다고 생각할 수 있습니다. 이런 것을 다차원으로 일반화 할 수는 없겠지만, 3차원에서는 가능할 것입니다. "
   ]
  },
  {
   "cell_type": "markdown",
   "metadata": {
    "tags": []
   },
   "source": [
    "## 2차원 배열을 이미지로 다루기\n",
    "\n",
    "다음과 같은 간단한 코드로 256개의 원소(0 ~ 255)를 가진 2차원 배열(16, 16)을 만들어 시각화한 것입니다. \n",
    "\n",
    "```\n",
    "import matplotlib.pyplot as plt\n",
    "image = np.arange(256).reshape(16, 16)\n",
    "plt.imshow(image, cmap=\"gray\")\n",
    "```\n",
    "\n",
    "<center><img src=\"https://github.com/idebtor/KMOOC-ML/blob/master/ipynb/images/extra/16x16%20image.png?raw=true\" width=\"256\">\n",
    "\n",
    "<center>그림 7: 2차원 배열의 시각화</center>"
   ]
  },
  {
   "cell_type": "code",
   "execution_count": null,
   "metadata": {
    "scrolled": true
   },
   "outputs": [],
   "source": [
    "import matplotlib.pyplot as plt\n",
    "image = None\n",
    "plt.imshow(image, cmap=\"gray\")"
   ]
  },
  {
   "cell_type": "markdown",
   "metadata": {},
   "source": [
    "### Example 1. \n",
    "1. 주어진 이미지(16, 16)에서 위쪽 두 행과 아래쪽 두 행(row)를 출력하십시오. \n",
    "1. 주어진 이미지(16, 16)에서 왼쪽 두 열과 오른쪽 두 열(col)을 출력하십시오. \n",
    "\n",
    "\n",
    "__Sample Run:__ For example, two rows at top and bottom of the image\n",
    "\n",
    "```\n",
    "[[ 0  1  2  3  4  5  6  7  8  9 10 11 12 13 14 15]\n",
    " [16 17 18 19 20 21 22 23 24 25 26 27 28 29 30 31]]\n",
    "[[224 225 226 227 228 229 230 231 232 233 234 235 236 237 238 239]\n",
    " [240 241 242 243 244 245 246 247 248 249 250 251 252 253 254 255]]\n",
    "```\n",
    "\n",
    "#### Two rows at the top and the bottom of the image"
   ]
  },
  {
   "cell_type": "code",
   "execution_count": null,
   "metadata": {
    "scrolled": true
   },
   "outputs": [],
   "source": [
    "print(image[:2])\n",
    "print(image[-2:])"
   ]
  },
  {
   "cell_type": "markdown",
   "metadata": {},
   "source": [
    "#### Two columns at the left and the right of the image"
   ]
  },
  {
   "cell_type": "code",
   "execution_count": null,
   "metadata": {},
   "outputs": [],
   "source": [
    "print(image[None])\n",
    "print(image[None])"
   ]
  },
  {
   "cell_type": "markdown",
   "metadata": {},
   "source": [
    "### Example 2. \n",
    "\n",
    "주어진 이미지(16, 16)에서 왼쪽 위의 (4, 4)와 오른쪽 아래의 (4, 4) 부분 이미지를 추출하고 이미지로 출력하십시오.  \n",
    "```\n",
    "[[ 0  1  2  3]           [[204 205 206 207]\n",
    "[16 17 18 19]            [220 221 222 223]\n",
    "[32 33 34 35]            [236 237 238 239]\n",
    "[48 49 50 51]]           [252 253 254 255]]\n",
    "```\n",
    "\n",
    "<center><img src=\"https://github.com/idebtor/KMOOC-ML/blob/master/ipynb/images/extra/numpy-image1.png?raw=true\" width=\"400\"></center>\n",
    "\n",
    "<center>그림 8: 2차원 배열의 추출과 시각화 </center>\n",
    "\n",
    "__Solution:__"
   ]
  },
  {
   "cell_type": "code",
   "execution_count": null,
   "metadata": {},
   "outputs": [],
   "source": [
    "a = None\n",
    "b = None\n",
    "print(a)\n",
    "print(b)\n",
    "# display images\n",
    "fig, ax = plt.subplots(1,2)\n",
    "ax[0].imshow(a, cmap=\"gray\");\n",
    "ax[1].imshow(b, cmap=\"gray\");\n",
    "plt.show()"
   ]
  },
  {
   "cell_type": "markdown",
   "metadata": {},
   "source": [
    "__Your data looks OK, but not the image display?__\n",
    "- To show a better image, `imshow()` uses the automatic scaling of the colormap, or vmin=min(arr) and vmax=max(arr). \n",
    "- Turn off this automatic scaling of the colormap, set `vmin = 0` and `vmax = 255`."
   ]
  },
  {
   "cell_type": "code",
   "execution_count": null,
   "metadata": {},
   "outputs": [],
   "source": [
    "# display images\n",
    "fig, ax = plt.subplots(1,2)\n",
    "ax[0].imshow(a, cmap=\"gray\", None, None);\n",
    "ax[1].imshow(b, cmap=\"gray\", None, None);\n",
    "plt.show()"
   ]
  },
  {
   "cell_type": "markdown",
   "metadata": {},
   "source": [
    "# Exercises "
   ]
  },
  {
   "cell_type": "markdown",
   "metadata": {},
   "source": [
    "## 3차원+2차원 브로드 캐스팅\n",
    "\n",
    "다음과 같은 3차원 배열 a와 2차원 b를 만들어 둘을 더하십시오. 코딩으로 결과를 얻기 전에 한번 미리 계산해보는 것도 좋은 연습이 될 것입니다. __Expected Output:__ 에 기대하는 배열을 채워 넣으십시오. "
   ]
  },
  {
   "cell_type": "markdown",
   "metadata": {},
   "source": [
    "__Sample Run:__\n",
    "\n",
    "```\n",
    "[[[ 0  1  2]\n",
    "  [ 3  4  5]]\n",
    "\n",
    " [[ 6  7  8]\n",
    "  [ 9 10 11]]]\n",
    "  \n",
    "  \n",
    "[[ 0 10 20]\n",
    " [30 40 50]]\n",
    "```"
   ]
  },
  {
   "cell_type": "markdown",
   "metadata": {},
   "source": [
    "__Expected Output:__\n",
    "```\n",
    "\n",
    "your answer here\n",
    "\n",
    "```\n",
    "\n",
    "__Solution:__"
   ]
  },
  {
   "cell_type": "code",
   "execution_count": null,
   "metadata": {},
   "outputs": [],
   "source": [
    "a = None\n",
    "b = None\n",
    "print(a)\n",
    "print(b)\n",
    "print('3차원+2차원 브로드캐스팅')\n",
    "print(a + b)"
   ]
  },
  {
   "cell_type": "markdown",
   "metadata": {},
   "source": [
    "## 3차원+3차원 브로드 캐스팅\n",
    "\n",
    "다음과 같은 3차원 배열 a와 3차원 b를 만들어 둘을 더하십시오. 코딩으로 결과를 얻기 전에 한번 미리 계산해보는 것도 좋은 연습이 될 것입니다. 여기서는 두 배열 모두 3차원입니다. 브로드캐스팅의 결과는 위와 같습니다. \n",
    "\n",
    "__Expected Output:__ 에 기대하는 배열을 채워 넣으십시오. "
   ]
  },
  {
   "cell_type": "markdown",
   "metadata": {},
   "source": [
    "__Sample Run:__\n",
    "\n",
    "```\n",
    "[[[ 0  1  2]\n",
    "  [ 3  4  5]\n",
    "  [ 6  7  8]]\n",
    "\n",
    " [[ 9 10 11]\n",
    "  [12 13 14]\n",
    "  [15 16 17]]]\n",
    "  \n",
    "  \n",
    "[[[ 0]\n",
    "  [10]\n",
    "  [20]]\n",
    "\n",
    " [[30]\n",
    "  [40]\n",
    "  [50]]]\n",
    "```"
   ]
  },
  {
   "cell_type": "markdown",
   "metadata": {},
   "source": [
    "__Expected Output:__\n",
    "```\n",
    "your answer here\n",
    "\n",
    "```\n",
    "\n",
    "__Solution:__"
   ]
  },
  {
   "cell_type": "code",
   "execution_count": null,
   "metadata": {},
   "outputs": [],
   "source": [
    "a = None\n",
    "b = None\n",
    "print(a)\n",
    "print(b)\n",
    "print('3차원+3차원 브로드캐스팅')\n",
    "print(a + b)"
   ]
  },
  {
   "cell_type": "markdown",
   "metadata": {},
   "source": [
    "## 배열 생성과 axis를 이용한 연산 \n",
    "\n",
    "다음 그림과 같은 3차원 배열 `a`를 생성하고, axis = 0 및 axis = 1 의 sum을 각각 손으로 계산하고, 또한 코드로 확인하십시오.  \n",
    "\n",
    "<center><img src=\"https://github.com/idebtor/KMOOC-ML/blob/master/ipynb/images/ch2/ndarray2.png?raw=true\" width=\"600\">\n",
    "\n",
    "<center>그림 1: 넘파이 1차원, 2차원 및 3차원 배열과 Axis 0 의미의 변화</center>"
   ]
  },
  {
   "cell_type": "markdown",
   "metadata": {},
   "source": [
    "1차원 배열에 있는 유일한 축 즉 첫 번째 축이 axix 0 입니다. 2차원 배열에서 axis 0는 행(row)의 갯수입니다.  2차원 배열이 여러 개 모여 3차원의 배열을 이루는데, 그 첫 번째 axis는 2차원 배열의 갯수입니다. 배열 shape의 첫 번째 요소가 항상 axis 0에 해당합니다. \n",
    "\n",
    "여기서 생성한 3차원 배열 `a`는 (2, 3) 2차원 배열이 4개 모인 것이며, shape은 (4, 2, 3)이 될 것입니다.  크기가 (2, 3)인 4개의 배열들의 원소들을 각각 더하면 될 것입니다. 우선 그러한 배열을 생성하여 출력하고, 우리가 머리로 먼저 계산하고, 이것을 코딩하여 확인합니다.  이제 크기가 (2, 3)인 4개의 배열들의 원소들을 각각 더하면, 결과를 내면 그 형상은 당연히 (2, 3)가 될 것입니다.  \n",
    "\n",
    "```\n",
    "[[36 40 44]\n",
    " [48 52 56]]]\n",
    "\n",
    "[[ 3  5  7]\n",
    " [15 17 19]\n",
    " [27 29 31]\n",
    " [39 41 43]]\n",
    "```\n",
    "__Solution:__"
   ]
  },
  {
   "cell_type": "code",
   "execution_count": null,
   "metadata": {},
   "outputs": [],
   "source": [
    "a = None\n",
    "axis0sum = None\n",
    "axis1sum = None\n",
    "print(axis0sum)\n",
    "print(axis1sum)"
   ]
  },
  {
   "cell_type": "markdown",
   "metadata": {},
   "source": [
    "예를 들면, 어떤 배열의 크기(shape)가 (60000, 28, 28)이라고 한다면, 배열의 크기가 (28, 28)인 2차원 배열이 6만개 있다는 것입니다. 2차원 배열은 흔히 이미지를 나타내는 많이 사용됩니다. 좀 더 구체적으로 말하면, 채널이 하나인 흑백 이미지가 6만 장이라는 말입니다. "
   ]
  },
  {
   "cell_type": "markdown",
   "metadata": {
    "tags": []
   },
   "source": [
    "## axis를 이용한 max() 연산 \n",
    "\n",
    "아래와 같은 `table` 배열이 주어졌다고 가정합니다. \n",
    "\n",
    "```\n",
    "table = np.array([\n",
    "    [5, 3, 7, 1],\n",
    "    [2, 6, 7 ,9],\n",
    "    [1, 1, 1, 1],\n",
    "    [4, 3, 2, 0],\n",
    "    ])\n",
    "```\n",
    "\n",
    "위에 주어진 `table`로부터 max()메소드를 사용하여 다음과 같은 세 종류의 최대값을 찾도록 코드를 완성하십시오. "
   ]
  },
  {
   "cell_type": "markdown",
   "metadata": {
    "tags": []
   },
   "source": [
    "__Expected Output:__    \n",
    "```\n",
    "9\n",
    "[5, 6, 7, 9]\n",
    "[7, 9, 1, 4]\n",
    "```\n",
    "__Solution:__"
   ]
  },
  {
   "cell_type": "code",
   "execution_count": null,
   "metadata": {
    "tags": []
   },
   "outputs": [],
   "source": []
  },
  {
   "cell_type": "markdown",
   "metadata": {
    "tags": []
   },
   "source": [
    "## 이미지 추출하기 - Center\n",
    "\n",
    "기계학습을 진행하다 보면, 이미지를 일부분을 추출(Slicing)해야 할 때가 종종 있습니다. 주어진 이미지(16, 16)에서 처음과 마지막 각각 네(4) 행과 열을 제외한 부분 이미지(8x8)를 추출하십시오\n",
    "- 추출한 이미지의 four corners의 값을 출력하여, 각각 `68, 75, 180, 187`인 것을 확인하십시오.  "
   ]
  },
  {
   "cell_type": "markdown",
   "metadata": {},
   "source": [
    "<center><img src=\"https://github.com/idebtor/KMOOC-ML/blob/master/ipynb/images/extra/numpy-image2.png?raw=true\" width=\"400\">\n",
    "\n",
    "<center>그림 2: 이미지의 가운데 부분 추출하기</center>\n",
    "\n",
    "#### Solution:"
   ]
  },
  {
   "cell_type": "code",
   "execution_count": null,
   "metadata": {},
   "outputs": [],
   "source": [
    "image = np.arange(256).reshape(16, 16)\n",
    "center = None\n",
    "print(None, None)\n",
    "plt.imshow(center, cmap=\"gray\", vmin=0, vmax=255)"
   ]
  },
  {
   "cell_type": "markdown",
   "metadata": {},
   "source": [
    "## 이미지 추출하여 결합하기 - Four corners\n",
    "\n",
    "기계학습을 진행하다 보면, 이미지를 일부분을 추출(Slicing)해야 할 때가 종종 있습니다. 주어진 이미지(16, 16)에서 네 코너들(upper lower 를 4x4로 추출한 후, 이들을 결합한 새로운 이미지(8x8)를 만드십시오. \n",
    "- 결합한 이미지의 four corners의 값을 출력하여, 각각 `0, 15, 240, 255`인 것을 확인하십시오.  "
   ]
  },
  {
   "cell_type": "markdown",
   "metadata": {},
   "source": [
    "<center><img src=\"https://github.com/idebtor/KMOOC-ML/blob/master/ipynb/images/extra/numpy-image3.png?raw=true\" width=\"200\"></center>\n",
    "\n",
    "<center>그림 3: 이미지의 네 코너들을 4x4로 추출하여 결합하기</center>   \n",
    "\n",
    "__Solution:__"
   ]
  },
  {
   "cell_type": "code",
   "execution_count": null,
   "metadata": {},
   "outputs": [],
   "source": [
    "image = np.arange(256).reshape(16, 16)\n",
    "upperleft = None\n",
    "lowerleft = None\n",
    "upper = None      # combine two upper corners\n",
    "upperright = None\n",
    "lowerright = None\n",
    "lower = None      # combine two lower corners\n",
    "corners = np.hstack([upper, lower])            # combine upper and lower \n",
    "print(None)\n",
    "plt.imshow(corners, cmap=\"gray\")"
   ]
  },
  {
   "cell_type": "markdown",
   "metadata": {},
   "source": [
    "## 이미지 이동하기 (Shift)\n",
    "\n",
    "기계학습을 진행하다 보면, 이미지를 아래로, 오른쪽으로 혹은 위로, 왼쪽 이동해야 할 때가 있습니다. 이를 위해 ndarray처럼 ndimage 라이브러리가 제공됩니다. 수많은 함수 중에 이미지를 이동할 수 있는 shift함수가 있으며, 이동한 빈 자리에 어떤 값으로 채울지에 여러 옵션도 있습니다. \n",
    "\n",
    "shfit함수의 두 번째 인자가 __shift__인데, 이것을 정확히 설정하는 것이 중요합니다. 이 함수는 축에 따라 이미지를 shift하는데, 2D텐서(2차원 배열, 이미지)에서 axis 0는 위에 아래 방향이고, axis 1은 왼쪽에서 오른쪽 방향입니다. 넘파이 2차원 배열과 일치합니다.\n",
    "\n",
    "[scipy.ndimage.interpolation.shift](https://docs.scipy.org/doc/scipy/reference/generated/scipy.ndimage.shift.html) 를 검색해서 살펴 보십시오. \n",
    "\n",
    "```\n",
    "scipy.ndimage.interpolation.shift(input, shift, output=None, order=3, mode='constant', cval=0.0, prefilter=True)\n",
    "```\n",
    "- input : ndarray - The input array.\n",
    "- shift : float or sequence, optional, \n",
    "\n",
    "<p style=\"color:blue\">The shift along the axes. If a float, shift is the same for each axis. If a sequence, shift should contain one value for each axis. </p>\n",
    "\n",
    "위와 같은 설명에 따라 두 번째 shift 매개변수를 axis에 따라 어떻게 이동할지 설정해야 합니다. 이를 참고로 하여 아래 이미지(original)를 상/하, 좌우로 3 픽셀을 옮기고, 그 빈 자리에는 100으로 채우도록 코딩하십시오. "
   ]
  },
  {
   "cell_type": "markdown",
   "metadata": {},
   "source": [
    "<center><img src=\"https://github.com/idebtor/KMOOC-ML/blob/master/ipynb/images/midterm/midterm14.png?raw=true\" width=\"800\"> </center>\n",
    "\n",
    "<center>그림 4: 이미지 이동하기</center>\n",
    "\n",
    "__Solution:__"
   ]
  },
  {
   "cell_type": "code",
   "execution_count": null,
   "metadata": {},
   "outputs": [],
   "source": [
    "from scipy.ndimage.interpolation import shift\n",
    "\n",
    "shifted_down = shift(image, [3, 0], cval=100)  \n",
    "shifted_right = None\n",
    "shifted_up = None\n",
    "shifted_left = None\n",
    "\n",
    "fig, ax = plt.subplots(1, 5, figsize=(10,10))  \n",
    "ax[0].imshow(image, cmap = \"gray\")\n",
    "ax[1].imshow(shifted_down, cmap=\"gray\")\n",
    "ax[2].imshow(shifted_right, cmap=\"gray\")\n",
    "ax[3].imshow(shifted_up, cmap=\"gray\")\n",
    "ax[4].imshow(shifted_left, cmap=\"gray\")\n",
    "\n",
    "ax[0].set_title(\"original\")\n",
    "ax[1].set_title(\"shifted down\")\n",
    "ax[2].set_title(\"shifted right\")\n",
    "ax[3].set_title(\"shifted up\")\n",
    "ax[4].set_title(\"shifted left\")\n",
    "\n",
    "plt.setp(plt.gcf().get_axes(), xticks=[], yticks=[]);\n",
    "plt.show()"
   ]
  },
  {
   "cell_type": "markdown",
   "metadata": {
    "tags": []
   },
   "source": [
    "## 2차원 난수 배열 생성\n",
    "0부터 99까지 사이의 수로 채워진 2차원 배열을 생성하십시오. random 모듈의 함수들을 사용하여 최소한 두 가지 방법으로 구현하십시오.  \n",
    "\n",
    "__Sample Output:__\n",
    "```\n",
    "[[23 40 17 28 60 80 35 11 81 85]\n",
    " [ 2 33 69 79 67 52 14 17 12 55]\n",
    " [81 40 50 27 62 25 50 71 83 45]\n",
    " [36  1 34 97 94 77 14 47 31 20]\n",
    " [91 25 34 11 85 51 98 20 92 36]\n",
    " [96 10 58 32 15 57 37 37 44 72]\n",
    " [66 77  7 42 48  7 51 10 89 11]\n",
    " [59 45 80 53 72 45 93 74 52 78]\n",
    " [94 61 60 10 91 43 90 70  7 17]\n",
    " [17 24 10  0 63 10 89 62 19 43]]\n",
    " ```\n",
    " __Solution:__"
   ]
  },
  {
   "cell_type": "code",
   "execution_count": null,
   "metadata": {},
   "outputs": [],
   "source": [
    "a = np.random.None\n",
    "print(a)"
   ]
  },
  {
   "cell_type": "markdown",
   "metadata": {},
   "source": [
    "## 학습 정리\n",
    "\n",
    "1. 다양한 브로드캐스팅 방법\n",
    "1. 배열의 축(Axis) 다루기\n",
    "1. 배열로 생성된 이미지 다루기\n"
   ]
  },
  {
   "cell_type": "markdown",
   "metadata": {},
   "source": [
    "# 참고자료\n",
    "- CS231n Convolutional Neural Networks for Visual Recognition, [Python Numpy Tutorial](http://cs231n.github.io/python-numpy-tutorial/), Stanford University\n",
    "- [데이터 사이언스 스쿨](https://datascienceschool.net/view-notebook/17608f897087478bbeac096438c716f6/)\n",
    "- Python Numpy Tutorial - http://cs231n.github.io/\n",
    "- 김태완 블로그: [파이썬 데이터 사이언스 Cheat Sheet](http://taewan.kim/post/numpy_cheat_sheet/)"
   ]
  }
 ],
 "metadata": {
  "kernelspec": {
   "display_name": "Python 3 (ipykernel)",
   "language": "python",
   "name": "python3"
  },
  "language_info": {
   "codemirror_mode": {
    "name": "ipython",
    "version": 3
   },
   "file_extension": ".py",
   "mimetype": "text/x-python",
   "name": "python",
   "nbconvert_exporter": "python",
   "pygments_lexer": "ipython3",
   "version": "3.8.12"
  }
 },
 "nbformat": 4,
 "nbformat_minor": 4
}
