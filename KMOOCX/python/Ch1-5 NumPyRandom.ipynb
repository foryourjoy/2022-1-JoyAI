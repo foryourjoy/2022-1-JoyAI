{
 "cells": [
  {
   "cell_type": "markdown",
   "metadata": {},
   "source": [
    "이 율법책을 네 입에서 떠나지 말게 하며 주야로 그것을 묵상하여 그 안에 기록된 대로 다 지켜 행하라 그리하면 네 길이 평탄하게 될 것이며 네가 형통하리라 (수1:8)\n",
    "\n",
    "-------\n",
    "\n",
    "<center><img src=\"https://github.com/idebtor/KMOOC-ML/blob/master/ipynb/images/joyai/LectureNotes_ML.png?raw=true\" width=1000></center>\n",
    "\n",
    "__NOTE:__ The following materials have been compiled and adapted from the numerous sources including my own. Please help me to keep this tutorial up-to-date by reporting any issues or questions. Send any comments or criticisms to `idebtor@gmail.com` Your assistances and comments will be appreciated."
   ]
  },
  {
   "cell_type": "markdown",
   "metadata": {},
   "source": [
    "<b style=\"font-size:30px\"> Chapter 3. NumPy Random:난수 발생과 배열</b>\n",
    "\n",
    "__학습 목표__\n",
    "\n",
    "1. 난수와 난수 배열 생성을 익힌다.\n",
    "1. 난수 배열을 다루는 방법을 익힌다.\n",
    "\n",
    "__학습 내용__\n",
    "\n",
    "1. 난수 시드(Seed)사용과 이유\n",
    "1. 난수 생성과 배열 생성하기\n",
    "1. 난수 배열 다루기 \n"
   ]
  },
  {
   "cell_type": "markdown",
   "metadata": {},
   "source": [
    "난수(random number)를 발생하여 배열을 생성하는 방법과 이러한 데이터를 섞는 방법에 대해 알아 봅니다. 이 기능은 주로 넘파이의 random 패키지에서 제공합니다."
   ]
  },
  {
   "cell_type": "markdown",
   "metadata": {},
   "source": [
    "# 시드 설정하기\n",
    "\n",
    "기계학습에서 난수를 자주 사용합니다. 그런데, 주의할 점이 하나 있습니다. 컴퓨터 프로그램에서 발생하는 무작위 수(난수, random number)는 사실 엄격한 의미의 무작위 수가 아닙니다. 어떤 특정한 시작 숫자를 정해 주면 컴퓨터가 정해진 알고리즘에 의해 마치 난수처럼 보이는 수열을 생성합니다. 이런 시작 숫자를 시드(seed)라고 합니다. 일단 생성된 난수는 다음번 난수 생성을 위한 시드값이 됩니다. 따라서 시드를 한 번만 정해주면 됩니다. 시드는 보통 현재 시각등을 이용하여 자동으로 정해지지만 사람이 수동으로 설정할 수도 있습니다. 특정한 시드값이 사용되면 그 다음에 만들어지는 난수들은 모두 예측할 수 있습니다. \n",
    "\n",
    "파이썬에서 시드를 설정하는 함수는 `seed()`입니다. 인수로는 임의 한 정수를 사용하거나 혹은 현재 시각 등을 이용하여 자동으로 정하기도 합니다. "
   ]
  },
  {
   "cell_type": "code",
   "execution_count": 20,
   "metadata": {},
   "outputs": [],
   "source": [
    "import numpy as np\n",
    "np.random.seed(0)"
   ]
  },
  {
   "cell_type": "markdown",
   "metadata": {},
   "source": [
    "이렇게 시드를 설정한 후 넘파이 random 패키지에 있는 random()과 randint() 함수로 난수 배열을 생성해 보도록 합니다"
   ]
  },
  {
   "cell_type": "code",
   "execution_count": 21,
   "metadata": {},
   "outputs": [
    {
     "name": "stdout",
     "output_type": "stream",
     "text": [
      "[[0.5488135  0.71518937]\n",
      " [0.60276338 0.54488318]\n",
      " [0.4236548  0.64589411]]\n",
      "[[4 7]\n",
      " [6 8]\n",
      " [8 1]]\n"
     ]
    }
   ],
   "source": [
    "print(np.random.random((3, 2)))\n",
    "print(np.random.randint(0, 10, (3, 2)))"
   ]
  },
  {
   "cell_type": "markdown",
   "metadata": {},
   "source": [
    "이제 seed(0)를 다시 설정하고, 아래와 같이 다시 난수를 발생하면, 위와 같은 난수를 발생하는 것을 관찰할 수 있습니다. "
   ]
  },
  {
   "cell_type": "code",
   "execution_count": 22,
   "metadata": {},
   "outputs": [
    {
     "name": "stdout",
     "output_type": "stream",
     "text": [
      "[[0.5488135  0.71518937]\n",
      " [0.60276338 0.54488318]\n",
      " [0.4236548  0.64589411]]\n",
      "[[4 7]\n",
      " [6 8]\n",
      " [8 1]]\n"
     ]
    }
   ],
   "source": [
    "np.random.seed(0)\n",
    "print(np.random.random((3, 2)))\n",
    "print(np.random.randint(0, 10, (3, 2)))"
   ]
  },
  {
   "cell_type": "markdown",
   "metadata": {},
   "source": [
    "기계학습에 특별히 개발할 때는 임의의 seed값을 정하여 난수를 발생할 것을 권장합니다. 왜냐하면, 만약에 디버깅할 경우에 버그가 발생한 상황을 재연할 수 있어야 하기 때문입니다.  여기서도, 역시 코드의 결과를 재현할 수 있도록 항상 시드를 설정하여 난수를 발생합니다."
   ]
  },
  {
   "cell_type": "markdown",
   "metadata": {},
   "source": [
    "# 데이터 섞기\n",
    "\n",
    "데이터를 무작위로 순서를 바꾸려면 shuffle 함수를 사용합니다. shuffle 함수도 자체 변환(in-place) 함수로 한 번 사용하면 변수의 값이 바뀌므로 사용에 주의해야 합니다. "
   ]
  },
  {
   "cell_type": "code",
   "execution_count": 26,
   "metadata": {},
   "outputs": [
    {
     "name": "stdout",
     "output_type": "stream",
     "text": [
      "[0 1 2 3 4 5 6 7 8 9]\n",
      "[1 8 9 5 2 6 3 7 4 0]\n"
     ]
    }
   ],
   "source": [
    "x = np.arange(10)\n",
    "print(x)\n",
    "np.random.shuffle(x)\n",
    "print(x)"
   ]
  },
  {
   "cell_type": "markdown",
   "metadata": {},
   "source": [
    "# 데이터 샘플링 \n",
    "\n",
    "이미 있는 데이터 집합에서 일부를 무작위로 선택하는 것을 표본선택 혹은 샘플링(sampling)이라고 합니다. 샘플링에는 `choice` 함수를 사용합니다. `choice` 함수는 다음과 같은 인수를 가질 수 있습니다.\n",
    "\n",
    "```\n",
    "numpy.random.choice(a, size=None, replace=True, p=None)\n",
    "```\n",
    "\n",
    "> `a          `   배열이면 원래의 데이터, 정수이면 arange(a) 명령으로 데이터 생성   \n",
    "> `size       `   정수. 샘플 숫자   \n",
    "> `replace    `   불리언. True이면 한번 선택한 데이터를 다시 선택 가능  \n",
    "> `p          `   배열. 각 데이터가 선택될 수 있는 확률\n"
   ]
  },
  {
   "cell_type": "markdown",
   "metadata": {},
   "source": [
    "다음 a는 np.arange(5)에서 3 개의 샘플을 택한 1차원 배열입니다. "
   ]
  },
  {
   "cell_type": "code",
   "execution_count": 137,
   "metadata": {},
   "outputs": [
    {
     "name": "stdout",
     "output_type": "stream",
     "text": [
      "[0 3 1]\n"
     ]
    }
   ],
   "source": [
    "a = np.random.choice(5, 3)\n",
    "print(a)"
   ]
  },
  {
   "cell_type": "markdown",
   "metadata": {},
   "source": [
    "다음 a는 np.arange(10)에서 샘플을 택한 (2, 3) 2차원 배열입니다. "
   ]
  },
  {
   "cell_type": "code",
   "execution_count": 139,
   "metadata": {},
   "outputs": [
    {
     "name": "stdout",
     "output_type": "stream",
     "text": [
      "[[3 1 0]\n",
      " [5 5 1]\n",
      " [6 3 8]\n",
      " [0 1 0]]\n"
     ]
    }
   ],
   "source": [
    "a = np.random.choice(10, (4, 3))\n",
    "print(a)"
   ]
  },
  {
   "cell_type": "markdown",
   "metadata": {},
   "source": [
    "다음 a는 np.arange(5)에서 5개의 샘플을 택한 1차원 배열입니다. replace를 False로 설정하면, 같은 샘플은 반복될 수 없습니다. 그러므로, `choice(5, 6, replace=False)` 같은 경우는 오류가 발생합니다. "
   ]
  },
  {
   "cell_type": "code",
   "execution_count": 142,
   "metadata": {},
   "outputs": [
    {
     "data": {
      "text/plain": [
       "array([1, 0, 3, 2, 4])"
      ]
     },
     "execution_count": 142,
     "metadata": {},
     "output_type": "execute_result"
    }
   ],
   "source": [
    "a = np.random.choice(5, 5, replace=False)  # shuffle 명령과 같음\n",
    "print(a)"
   ]
  },
  {
   "cell_type": "code",
   "execution_count": 31,
   "metadata": {},
   "outputs": [
    {
     "data": {
      "text/plain": [
       "array([3, 0, 2])"
      ]
     },
     "execution_count": 31,
     "metadata": {},
     "output_type": "execute_result"
    }
   ],
   "source": [
    "np.random.choice(5, 3, replace=False)  # 3개만 선택"
   ]
  },
  {
   "cell_type": "code",
   "execution_count": 33,
   "metadata": {},
   "outputs": [
    {
     "data": {
      "text/plain": [
       "array([0, 3, 3, 2, 2, 2, 2, 3, 3, 3])"
      ]
     },
     "execution_count": 33,
     "metadata": {},
     "output_type": "execute_result"
    }
   ],
   "source": [
    "np.random.choice(5, 10, p=[0.1, 0, 0.3, 0.6, 0])  # 선택 확률을 다르게 해서 10개 선택"
   ]
  },
  {
   "cell_type": "markdown",
   "metadata": {},
   "source": [
    "# 난수의 배열 생성"
   ]
  },
  {
   "cell_type": "markdown",
   "metadata": {},
   "source": [
    "파이썬의 `numpy.random` 모듈에는 난수를 기반으로 난수를 발생하여 배열을 만드는 여러 함수를 제공합니다. 그 중에서 기계학습에서 종종 사용하는 몇 개만 소개합니다. \n",
    "\n",
    "\n",
    "\n",
    "> `rand()    `   `[0., 1.)` 범위의 균등분포로 난수를 난수를 반환. 따라서 음수의 값이 나올 수 없음.   \n",
    "> `randn()   `   `[0., 1.)` 범위의 정규분포를 이루는 난수를 반환, 평균 0, 표준편차 1임. 따라서 음수의 값이 나올 수 있음.   \n",
    "> `randint() `   `low` 부터 `high` 미만의 범위에서 균일분포의 정수 난수를 반환  \n",
    "> `random()  `   균등분포를 이루는 `[0., 1.)` 범위의 난수를 반환   \n",
    "> `normal()  `   정규분포를 이루는 난수를 발생하며, 평균(loc), 표준편차(scale)을 지정할 수 있음.   \n"
   ]
  },
  {
   "cell_type": "markdown",
   "metadata": {},
   "source": [
    "## Example 1: rand()\n",
    "\n",
    "rand 함수는 0부터 1사이에서 균일한 확률 분포로 실수 난수를 생성합니다. 숫자 인수는 생성할 난수들의 갯수입니다. 여러 개의 인수를 넣으면 해당 크기를 가진 행렬을 생성합니다."
   ]
  },
  {
   "cell_type": "code",
   "execution_count": 68,
   "metadata": {},
   "outputs": [
    {
     "data": {
      "text/plain": [
       "array([0.50474441, 0.05277252, 0.45246728, 0.39152523, 0.85736325,\n",
       "       0.57915969, 0.09777474, 0.09457707, 0.23058009, 0.99838494])"
      ]
     },
     "execution_count": 68,
     "metadata": {},
     "output_type": "execute_result"
    }
   ],
   "source": [
    "np.random.rand(10)"
   ]
  },
  {
   "cell_type": "markdown",
   "metadata": {},
   "source": [
    "샘플의 개수가 100, 1000, 10000개로 증가할수록 더욱 균일한 분포를 보임을 알 수 있습니다."
   ]
  },
  {
   "cell_type": "code",
   "execution_count": 110,
   "metadata": {},
   "outputs": [
    {
     "data": {
      "image/png": "[encoded data removed]",
      "text/plain": [
       "<Figure size 432x288 with 1 Axes>"
      ]
     },
     "metadata": {
      "needs_background": "light"
     },
     "output_type": "display_data"
    }
   ],
   "source": [
    "import matplotlib.pyplot as plt\n",
    "\n",
    "a = np.random.rand(1000)\n",
    "b = np.random.rand(10000)\n",
    "c = np.random.rand(100000)\n",
    "plt.hist(a, bins=100, density=True, histtype='step', label='rand(1000))')\n",
    "plt.hist(b, bins=100, density=True, histtype='step', label='rand(10000)')\n",
    "plt.hist(c, bins=100, density=True, histtype='step', label='rand(100000)')\n",
    "plt.legend()\n",
    "plt.show()"
   ]
  },
  {
   "cell_type": "markdown",
   "metadata": {},
   "source": [
    "##  Example 2: randn()\n",
    "\n",
    "randn() 함수는 기댓값이 0이고 표준편차가 1인 표준 정규 분포(standard normal distribution)를 따르는 난수를 생성합니다. 인수 사용법은 rand 명령과 같습니다. "
   ]
  },
  {
   "cell_type": "code",
   "execution_count": 50,
   "metadata": {},
   "outputs": [
    {
     "name": "stdout",
     "output_type": "stream",
     "text": [
      "[-1.42002593 -0.63584608  0.67643329  0.57659082 -0.20829876  0.39600671\n",
      " -1.09306151 -1.49125759  0.4393917   0.1666735 ]\n",
      "[[ 0.63503144  2.38314477  0.94447949 -0.91282223  1.11701629]\n",
      " [-1.31590741 -0.4615846  -0.06824161  1.71334272 -0.74475482]\n",
      " [-0.82643854 -0.09845252 -0.66347829  1.12663592 -1.07993151]]\n"
     ]
    }
   ],
   "source": [
    "print(np.random.randn(10))\n",
    "print(np.random.randn(3, 5))"
   ]
  },
  {
   "cell_type": "code",
   "execution_count": 109,
   "metadata": {},
   "outputs": [
    {
     "data": {
      "image/png": "[encoded data removed]",
      "text/plain": [
       "<Figure size 432x288 with 1 Axes>"
      ]
     },
     "metadata": {
      "needs_background": "light"
     },
     "output_type": "display_data"
    }
   ],
   "source": [
    "import matplotlib.pyplot as plt\n",
    "\n",
    "a = np.random.randn(10000) \n",
    "b = 2 * np.random.randn(10000) - 1\n",
    "c = 4 * np.random.randn(10000) + 2\n",
    "plt.hist(a, bins=100, density=True, histtype='step', label='rand(mean=0,std=1)')\n",
    "plt.hist(b, bins=100, density=True, histtype='step', label='rand(mean=-1,std=2)')\n",
    "plt.hist(c, bins=100, density=True, histtype='step', label='rand(mean=2,std=4)')\n",
    "plt.legend()\n",
    "plt.show()"
   ]
  },
  {
   "cell_type": "markdown",
   "metadata": {},
   "source": [
    "## Example 3: randint()\n",
    "```\n",
    "numpy.random.randint(low, high=None, size=None)\n",
    "```\n",
    "randint()를 호출할 때, high를 입력하지 않으면 0과 low사이의 숫자를, high를 입력하면 low와 high는 사이의 숫자를 출력합니다. size는 난수의 갯수 혹은 형상(shape)입니다."
   ]
  },
  {
   "cell_type": "code",
   "execution_count": 54,
   "metadata": {},
   "outputs": [
    {
     "data": {
      "text/plain": [
       "array([0, 3, 8, 7, 7, 1, 8])"
      ]
     },
     "execution_count": 54,
     "metadata": {},
     "output_type": "execute_result"
    }
   ],
   "source": [
    "np.random.randint(10, size=7)"
   ]
  },
  {
   "cell_type": "code",
   "execution_count": 55,
   "metadata": {},
   "outputs": [
    {
     "name": "stdout",
     "output_type": "stream",
     "text": [
      "[[-1  2 -5 -1  4]\n",
      " [-5  1 -1 -3 -1]\n",
      " [ 1 -2 -2  2  3]]\n"
     ]
    }
   ],
   "source": [
    "a = np.random.randint(-5, 5, size=(3, 5))\n",
    "print(a)"
   ]
  },
  {
   "cell_type": "markdown",
   "metadata": {},
   "source": [
    "아래 코드와 그림은 a는 `[-50, 50)` 범위의 임의 정수 1000개이며, b는 `[-0, 100)` 범위의 임의 정수 1000개를 발생하여 분포를 확인한 것입니다. "
   ]
  },
  {
   "cell_type": "code",
   "execution_count": 103,
   "metadata": {},
   "outputs": [
    {
     "data": {
      "image/png": "[encoded data removed]",
      "text/plain": [
       "<Figure size 432x288 with 1 Axes>"
      ]
     },
     "metadata": {
      "needs_background": "light"
     },
     "output_type": "display_data"
    }
   ],
   "source": [
    "import matplotlib.pyplot as plt\n",
    "\n",
    "a = np.random.randint(-50, 50, 1000)\n",
    "b = np.random.randint(0, 100, 1000)\n",
    "plt.hist(a, bins=100, alpha=0.5, label='randint(-50, 50)')\n",
    "plt.hist(b, bins=100, alpha=0.75, label='randint(0, 100)')\n",
    "plt.legend()\n",
    "plt.show()"
   ]
  },
  {
   "cell_type": "markdown",
   "metadata": {},
   "source": [
    "## Example 4: normal()\n",
    "\n",
    "`normal(loc=0.0, scale=1.0, size=None)`  \n",
    "\n",
    "`normal()`은 정규 분포를 이루는 난수를 반환하며, 정규 분포의 평균(loc), 표준편차(scale)을 지정할 수 있습니다. "
   ]
  },
  {
   "cell_type": "code",
   "execution_count": 56,
   "metadata": {},
   "outputs": [
    {
     "name": "stdout",
     "output_type": "stream",
     "text": [
      "[[[ 0.83388012  1.31379269 -0.6017086 ]\n",
      "  [-0.5471638   0.60965079  0.75893216]\n",
      "  [-1.18591918  0.92939943  0.54695202]]\n",
      "\n",
      " [[-0.86959234  1.22342791 -0.13243036]\n",
      "  [-0.50489621 -0.4447578   0.3771362 ]\n",
      "  [-0.6371065  -0.10475318 -0.15104201]]]\n"
     ]
    }
   ],
   "source": [
    "mean = 0\n",
    "std = 1\n",
    "a = np.random.normal(mean, std, (2, 3, 3))\n",
    "print(a)"
   ]
  },
  {
   "cell_type": "markdown",
   "metadata": {},
   "source": [
    "a 는 정규 분포를 이루며 평균이 0, 표준편차가 1.0인 난수 10,000개, b는 평균이 1.0이며, 표준편차가 2.0인 난수 10,000개, c는 평균이 2.0이며, 표준편차가 3.0인 배열의 분포를 보여줍니다."
   ]
  },
  {
   "cell_type": "code",
   "execution_count": 121,
   "metadata": {},
   "outputs": [
    {
     "data": {
      "image/png": "[encoded data removed]",
      "text/plain": [
       "<Figure size 432x288 with 1 Axes>"
      ]
     },
     "metadata": {
      "needs_background": "light"
     },
     "output_type": "display_data"
    }
   ],
   "source": [
    "import matplotlib.pyplot as plt\n",
    "\n",
    "a = np.random.normal(0, 1, 10000)\n",
    "b = np.random.normal(1, 2, 10000)\n",
    "c = np.random.normal(2, 3, 10000)\n",
    "plt.hist(a, bins=100, density=True, histtype='step', label='normal(mean=0,std=1)')\n",
    "plt.hist(b, bins=100, density=True, histtype='step', label='normal(mean=1,std=2)')\n",
    "plt.hist(c, bins=100, density=True, histtype='step', label='normal(mean=2,std=3)')\n",
    "plt.legend()\n",
    "plt.show()"
   ]
  },
  {
   "cell_type": "markdown",
   "metadata": {},
   "source": [
    "## Example 5: random()\n",
    "\n",
    "`[0., 1.)` 범위의 난수를 균등 분포를 이루도록 반환합니다. 난수의 수가 증가할수록 균등분포가 이루어지는 것을 관찰할 수 있습니다.   \n",
    "  "
   ]
  },
  {
   "cell_type": "code",
   "execution_count": 136,
   "metadata": {},
   "outputs": [
    {
     "data": {
      "image/png": "[encoded data removed]",
      "text/plain": [
       "<Figure size 432x288 with 1 Axes>"
      ]
     },
     "metadata": {
      "needs_background": "light"
     },
     "output_type": "display_data"
    }
   ],
   "source": [
    "import matplotlib.pyplot as plt\n",
    "\n",
    "a = np.random.random(1000)\n",
    "b = np.random.random(10000)\n",
    "c = np.random.random(100000)\n",
    "plt.hist(a, bins=100, density=True, histtype='step', label='random(1000)')\n",
    "plt.hist(b, bins=100, density=True, histtype='step', label='random(10000)')\n",
    "plt.hist(c, bins=100, density=True, histtype='step', label='random(100000)')\n",
    "plt.legend()\n",
    "plt.show()"
   ]
  },
  {
   "cell_type": "markdown",
   "metadata": {},
   "source": [
    "## 정수 데이터 카운팅\n",
    "\n",
    "이렇게 발생시킨 난수가 실수값이면 히스토그램 등을 사용하여 분석할 수 있습니다. 히스토그램을 시각화 부분에서 자세히 설명합니다.\n",
    "\n",
    "만약 난수가 정수값이면 `unique(), bincount()` 등 함수로 데이터 값을 분석할 수 있다.\n",
    "\n",
    "`unique()` 함수는 데이터에서 중복된 값을 제거하고 중복되지 않는 값의 리스트를 출력합니다. `return_counts` 인수를 True 로 설정하면 각 값을 가진 데이터 갯수도 출력합니다."
   ]
  },
  {
   "cell_type": "code",
   "execution_count": 47,
   "metadata": {},
   "outputs": [
    {
     "data": {
      "text/plain": [
       "array([ 2, 11, 34])"
      ]
     },
     "execution_count": 47,
     "metadata": {},
     "output_type": "execute_result"
    }
   ],
   "source": [
    "np.unique([11, 11, 2, 2, 34, 34])"
   ]
  },
  {
   "cell_type": "code",
   "execution_count": 46,
   "metadata": {},
   "outputs": [
    {
     "name": "stdout",
     "output_type": "stream",
     "text": [
      "['a' 'b' 'c'] [2 2 1]\n"
     ]
    }
   ],
   "source": [
    "a = np.array(['a', 'b', 'b', 'c', 'a'])\n",
    "u, count = np.unique(a, return_counts=True)\n",
    "print(u, count)"
   ]
  },
  {
   "cell_type": "markdown",
   "metadata": {},
   "source": [
    "그러나 `unique` 함수는 데이터에 존재하는 값에 대해서만 갯수를 세므로 데이터 값이 나올 수 있음에도 불구하고 데이터가 하나도 없는 경우에는 정보를 주지 않는다. 예를 들어 주사위를 10번 던졌는데 6이 한 번도 나오지 않으면 이 값을 0으로 세어주지 않습니다.\n",
    "\n",
    "bincount\n",
    "\n",
    "따라서 데이터가 주사위를 던졌을 때 나오는 수처럼 특정 범위안의 수인 경우에는 bincount 함수에 minlength 인수를 설정하여 쓰는 것이 더 편리합니다. bincount 함수는 0 부터 minlength - 1 까지의 숫자에 대해 각각 카운트를 합니다. 데이터가 없을 경우에는 카운트 값이 0이 됩니다."
   ]
  },
  {
   "cell_type": "code",
   "execution_count": 48,
   "metadata": {},
   "outputs": [
    {
     "data": {
      "text/plain": [
       "array([0, 2, 3, 1, 0, 0], dtype=int64)"
      ]
     },
     "execution_count": 48,
     "metadata": {},
     "output_type": "execute_result"
    }
   ],
   "source": [
    "np.bincount([1, 1, 2, 2, 2, 3], minlength=6)"
   ]
  },
  {
   "cell_type": "markdown",
   "metadata": {},
   "source": [
    "# Exercises"
   ]
  },
  {
   "cell_type": "markdown",
   "metadata": {
    "tags": []
   },
   "source": [
    "## 2차원 난수 배열 생성\n",
    "0부터 99까지의 수로 채워진 2차원 배열을 생성하십시오. random 모듈의 함수들을 사용하여 최소한 두 가지 방법으로 구현하십시오.  \n",
    "\n",
    "__Sample Output:__\n",
    "```\n",
    "[[23 40 17 28 60 80 35 11 81 85]\n",
    " [ 2 33 69 79 67 52 14 17 12 55]\n",
    " [81 40 50 27 62 25 50 71 83 45]\n",
    " [36  1 34 97 94 77 14 47 31 20]\n",
    " [91 25 34 11 85 51 98 20 92 36]\n",
    " [96 10 58 32 15 57 37 37 44 72]\n",
    " [66 77  7 42 48  7 51 10 89 11]\n",
    " [59 45 80 53 72 45 93 74 52 78]\n",
    " [94 61 60 10 91 43 90 70  7 17]\n",
    " [17 24 10  0 63 10 89 62 19 43]]\n",
    " ```\n",
    " __Solution:__"
   ]
  },
  {
   "cell_type": "code",
   "execution_count": 2,
   "metadata": {},
   "outputs": [
    {
     "name": "stdout",
     "output_type": "stream",
     "text": [
      "[[22 67 48 49 10 98 61 39  4 18]\n",
      " [27 56 81 15 50 49 66 78 20 40]\n",
      " [23 91 68  5 80 81  7 88 59 70]\n",
      " [64 74 28 97 16 55 13  3 20 75]\n",
      " [59 34 48 31 65 60 79  2 35  4]\n",
      " [61 59 84 51 75 42 84 87 97 29]\n",
      " [97  7 23 10 87 70 89 88 61 58]\n",
      " [59 40 96 89 95 22  4 17 89 68]\n",
      " [27 64 76 19 88 52 82 25 33 50]\n",
      " [28 85 42 44 94 92 68 44 74 15]]\n"
     ]
    }
   ],
   "source": [
    "import numpy as np\n"
   ]
  },
  {
   "cell_type": "code",
   "execution_count": 12,
   "metadata": {},
   "outputs": [
    {
     "name": "stdout",
     "output_type": "stream",
     "text": [
      "[[79 40  5 89  6 79 95 94  8 42]\n",
      " [ 6 61 36 53 84 38 73 43 89 36]\n",
      " [95 85 25 47 88 48 54 11 74 55]\n",
      " [ 0 86 41 29 98 65 28 51  0 13]\n",
      " [42 67 95 63 39 65 55 63 76 88]\n",
      " [91 49 67 24 85 57 75 25 62  8]\n",
      " [14 78 87 57 74  9  5 72 11 80]\n",
      " [59 79 73 77 49  3 39 15 37 32]\n",
      " [17  0 73 80 73 51 56 22 64 87]\n",
      " [50  3 93 24 79 83 38 64 62 45]]\n"
     ]
    }
   ],
   "source": []
  },
  {
   "cell_type": "markdown",
   "metadata": {},
   "source": [
    "## 동전 던지기 게임 만들기 \n",
    "\n",
    "- 동전을 10번(flips = 10) 던져서 앞면(Head) 1과 뒷면(Tail) 0이 나오는 게임(tossCoin)을 작성하십시오. \n",
    "- 이러한 게임을 100회(times = 100) 실행했을 때, 앞면이 나온 횟수(heads)를 구하십시오. \n",
    "- 단, 따른 실행 속도를 위하여 파이썬의 list를 사용하지 않고, 넘파이의 배열을 사용하십시오. \n",
    "\n",
    "__Expected Output:__\n",
    "```\n",
    "[6 7 4 4 5 5 5 5 5 2 5 6 7 5 3 4 3 5 7 4 4 3 4 6 5 5 6 4 4 4 5 2 3 1 8 4 2\n",
    " 6 4 5 6 1 6 7 5 4 5 3 4 6 4 7 6 6 6 5 6 5 5 7 7 4 5 7 5 6 5 6 4 5 5 6 4 6\n",
    " 3 5 5 5 5 3 4 7 5 6 5 5 4 4 6 5 5 6 4 3 7 6 7 5 6 5]\n",
    "```\n",
    "\n",
    "__Solution:__"
   ]
  },
  {
   "cell_type": "code",
   "execution_count": 80,
   "metadata": {},
   "outputs": [
    {
     "name": "stdout",
     "output_type": "stream",
     "text": [
      "None\n"
     ]
    }
   ],
   "source": [
    "import random\n",
    "def tossCoin(flips):\n",
    "    pass\n",
    "    \n",
    "if __name__ == '__main__':\n",
    "    times = 100\n",
    "    flips = 10\n",
    "    heads = None # initialize as a numpy array, and its size is 'times'\n",
    "\n",
    "    for x in np.arange(times):\n",
    "        pass\n",
    "    \n",
    "    print(heads)"
   ]
  },
  {
   "cell_type": "markdown",
   "metadata": {},
   "source": [
    "## 동전 던지기 결과의 시각화\n",
    "\n",
    "동전을 1000번(flips = 1000) 던져서 앞면(Head) 1과 뒷면(Tail) 0이 나오는 게임을 실행한다고 가정하십시오. 그리고 이 게임을 10_000회(times=10_000) 실행하였을 동전의 앞면(혹은 뒷면)이 나온 결과(heads)를 히스토그램으로 시각화 하십시오. 그 결과는 50회가 최고치를 나타내는 표준 정규분포를 보이는 것을 관찰할 수 있을 것입니다.   \n",
    "\n",
    "주의: 실행 속도를 위하여, 파이썬의 list를 사용하지 않고, 넘파이 배열의 사용하십시오. \n",
    "\n",
    "__Expected Output:__\n",
    "\n",
    "<center><img src=\"https://github.com/idebtor/KMOOC-ML/blob/71cfcb275ac3222e3d279eea36afcf0b63b7f1b6/ipynb/images/joyai/numpy-tosscoin.png?raw=true\" width=\"500\"></center>\n",
    "\n",
    "<center>그림 5: 동전 던지기 결과 시각화 </center>\n",
    "\n",
    "__Solution:__"
   ]
  },
  {
   "cell_type": "code",
   "execution_count": null,
   "metadata": {},
   "outputs": [],
   "source": [
    "import matplotlib.pyplot as plt\n",
    "\n",
    "if __name__ == '__main__':\n",
    "    times = 10000\n",
    "    flips = 1000\n",
    "    heads = None # initialize as a numpy array, and its size is 'times'    \n",
    "    \n",
    "    plt.hist(None)\n",
    "    plt.legend()\n",
    "    plt.show()"
   ]
  },
  {
   "cell_type": "markdown",
   "metadata": {},
   "source": [
    "## 주가 생성\n",
    "\n",
    "1. 가격이 5,000원인 주식이 있다고 가정합니다. 이 주식의 일간 수익률(%)은 기댓값이 0%이고 표준편차가 1%인 표준 정규 분포를 따른다고 할 때, 251일 동안의 주가를 무작위로 생성하십시오. 무작위로 \n",
    "\n",
    "2. 251일간 생성한 가격의 평균 값과 표준편차를 구하십시오. \n",
    "\n",
    "__Expected Output:__\n",
    "\n",
    "\n",
    "<center><img src=\"https://github.com/idebtor/KMOOC-ML/blob/0f41b7b022500e20653282c56d9f7b6569834b55/ipynb/images/joyai/numpy_stockprice.png?raw=true\" width=\"500\"></center>\n",
    "\n",
    "<center>그림 6: 주식 가격 시각화 </center>\n",
    "\n",
    "__Solution:__"
   ]
  },
  {
   "cell_type": "code",
   "execution_count": 125,
   "metadata": {},
   "outputs": [
    {
     "data": {
      "image/png": "[encoded data removed]",
      "text/plain": [
       "<Figure size 432x288 with 1 Axes>"
      ]
     },
     "metadata": {
      "needs_background": "light"
     },
     "output_type": "display_data"
    },
    {
     "name": "stdout",
     "output_type": "stream",
     "text": [
      "평균값: 4999.680741659982\n",
      "표준편차: 52.35176464010827\n"
     ]
    }
   ],
   "source": []
  },
  {
   "cell_type": "markdown",
   "metadata": {},
   "source": [
    "## 학습 정리\n",
    "\n",
    "1. 난수 시드(Seed)\n",
    "1. 난수 생성과 배열 생성하기\n",
    "1. 난수 배열 다루기 "
   ]
  },
  {
   "cell_type": "markdown",
   "metadata": {},
   "source": [
    "# 참고자료\n",
    "- CS231n Convolutional Neural Networks for Visual Recognition, [Python Numpy Tutorial](http://cs231n.github.io/python-numpy-tutorial/), Stanford University\n",
    "- [데이터 사이언스 스쿨](https://datascienceschool.net/view-notebook/17608f897087478bbeac096438c716f6/)\n",
    "- Python Numpy Tutorial - http://cs231n.github.io/\n",
    "- 김태완 블로그: [파이썬 데이터 사이언스 Cheat Sheet](http://taewan.kim/post/numpy_cheat_sheet/)"
   ]
  }
 ],
 "metadata": {
  "kernelspec": {
   "display_name": "Python 3 (ipykernel)",
   "language": "python",
   "name": "python3"
  },
  "language_info": {
   "codemirror_mode": {
    "name": "ipython",
    "version": 3
   },
   "file_extension": ".py",
   "mimetype": "text/x-python",
   "name": "python",
   "nbconvert_exporter": "python",
   "pygments_lexer": "ipython3",
   "version": "3.8.12"
  },
  "toc-autonumbering": true
 },
 "nbformat": 4,
 "nbformat_minor": 4
}
