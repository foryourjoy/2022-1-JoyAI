{
 "cells": [
  {
   "cell_type": "markdown",
   "metadata": {},
   "source": [
    "너희가 내 안에 거하고 내 말이 너희 안에 거하면 무엇이든지 원하는 대로 구하라 그리하면 이루리라 (요15:7)\n",
    "<center><img src=\"https://github.com/idebtor/KMOOC-ML/blob/master/ipynb/images/MLwithPython.png?raw=true\" width=1000></center>"
   ]
  },
  {
   "cell_type": "markdown",
   "metadata": {},
   "source": [
    "# Week 4-3 퍼셉트론 코딩"
   ]
  },
  {
   "cell_type": "markdown",
   "metadata": {},
   "source": [
    "## 2. 학습자료 준비: 입력자료"
   ]
  },
  {
   "cell_type": "code",
   "execution_count": 1,
   "metadata": {},
   "outputs": [
    {
     "name": "stdout",
     "output_type": "stream",
     "text": [
      "[[ 1.   1. ]\n",
      " [ 2.  -2. ]\n",
      " [-1.  -1.5]\n",
      " [-2.  -1. ]\n",
      " [-2.   1. ]\n",
      " [ 1.5 -0.5]]\n"
     ]
    }
   ],
   "source": [
    "import numpy as np\n",
    "x = np.array([[1.0, 1.0], [2.0, -2.0],\n",
    "              [-1.0, -1.5], [-2.0, -1.0,],\n",
    "              [-2.0, 1.0], [1.5, -0.5]])\n",
    "print(x)"
   ]
  },
  {
   "cell_type": "code",
   "execution_count": 2,
   "metadata": {},
   "outputs": [
    {
     "name": "stdout",
     "output_type": "stream",
     "text": [
      "[[ 1.   1.   1. ]\n",
      " [ 1.   2.  -2. ]\n",
      " [ 1.  -1.  -1.5]\n",
      " [ 1.  -2.  -1. ]\n",
      " [ 1.  -2.   1. ]\n",
      " [ 1.   1.5 -0.5]]\n"
     ]
    }
   ],
   "source": [
    "X = np.c_[np.ones(len(x)), x]\n",
    "print(X)"
   ]
  },
  {
   "cell_type": "markdown",
   "metadata": {},
   "source": [
    "## 2.1 학습자료 준비: 클레스 레이블"
   ]
  },
  {
   "cell_type": "code",
   "execution_count": 3,
   "metadata": {},
   "outputs": [
    {
     "name": "stdout",
     "output_type": "stream",
     "text": [
      "[ 1 -1 -1 -1  1  1]\n"
     ]
    }
   ],
   "source": [
    "y = np.array([1, -1, -1, -1, 1, 1])\n",
    "print(y)"
   ]
  },
  {
   "cell_type": "markdown",
   "metadata": {},
   "source": [
    "## 2.2 학습자료 준비: 초기 가중치 설정"
   ]
  },
  {
   "cell_type": "code",
   "execution_count": 4,
   "metadata": {},
   "outputs": [],
   "source": [
    "w = np.array([0.0, 1.0, 0.5])"
   ]
  },
  {
   "cell_type": "code",
   "execution_count": 5,
   "metadata": {},
   "outputs": [],
   "source": [
    "w = np.random.random((X.shape[1], 1))"
   ]
  },
  {
   "cell_type": "markdown",
   "metadata": {},
   "source": [
    "## 3. 퍼셉트론 알고리즘 코딩: 자료 연산"
   ]
  },
  {
   "cell_type": "code",
   "execution_count": 6,
   "metadata": {},
   "outputs": [
    {
     "name": "stdout",
     "output_type": "stream",
     "text": [
      "[[0.41]\n",
      " [0.28]\n",
      " [0.94]]\n"
     ]
    }
   ],
   "source": [
    "eta = 0.1\n",
    "for xi, yi in zip(X, y):\n",
    "    xi = xi.reshape(w.shape)\n",
    "    z = np.dot(w.T, xi)\n",
    "    yhat = np.where(z > 0.0, 1, -1)\n",
    "    delta = eta * (yi - yhat) * xi\n",
    "    w += delta\n",
    "print(np.round(w, 2))"
   ]
  },
  {
   "cell_type": "markdown",
   "metadata": {},
   "source": [
    "## 4. 퍼셉트론 전체 코드"
   ]
  },
  {
   "cell_type": "code",
   "execution_count": 7,
   "metadata": {},
   "outputs": [
    {
     "name": "stdout",
     "output_type": "stream",
     "text": [
      "Overwriting code/plot_xyw.py\n"
     ]
    }
   ],
   "source": [
    "%%writefile code/plot_xyw.py\n",
    "\n",
    "%load code/plot_xyw.py\n",
    "# Author: Youngsup Kim, idebtor@gmail.com\n",
    "# 2018.03.01 - creation\n",
    "# 2018.04.08 - handles an array of weights W, X0 options\n",
    "# 2018.04.18 - works with plot_decision_region\n",
    "\n",
    "import matplotlib.pyplot as plt\n",
    "import numpy as np\n",
    "\n",
    "def plot_xyw(x, y, W=None, X0=False, title='Perceptron',\n",
    "             classes=['class1', 'class2'], annotate=False, savefig=None):\n",
    "    \"\"\" plots data x and its class label y as well as the the linear decision\n",
    "        boundary and and the value W[-1] or w. \n",
    "\n",
    "        x(m, 2): m training samples with two features, x1 and x2 only.\n",
    "                 Its shape is (m, 2); X0 must be set to False.\n",
    "        x(m, 3): m training samples with two features x0=1, x1, x2\n",
    "                  its shape is (m, 3); X0 must be set to True.\n",
    "        y(m): m number of class labels, each value may be either 1 or -1,\n",
    "              also it may be either 1 or 0\n",
    "\n",
    "        w(3,): only one boundary to display\n",
    "               If you have an array of w's, but want to plot the last one, pass W[-1].\n",
    "        W(epochs, 3): epochs number of decision boundaries or weights\n",
    "              If there is one set of weights, its shape can be either (3, ) or (1, 3)\n",
    "\n",
    "        X0: X has x_0 = 1 term in all samples or not; if True, removed before plotting\n",
    "        annotate: add a sequence number at each sample if True\n",
    "        savefig: save the plot in a file if a filename is given\n",
    "    \"\"\"\n",
    "    if X0 == True:      # remove the first column; change shape(6x3) into shape(6x2)\n",
    "        x = x[ : , 1:]     # check a column?: np.all(X == X[0,:], axis = 0)[0] == True and X[0,0] == 1.0\n",
    "\n",
    "    # setting min max range of data - 10% of margin allowed in four sides\n",
    "    rmin, rmax = np.array(np.min(x)), np.array(np.max(x))\n",
    "    rmin -= (rmax - rmin) * 0.1\n",
    "    rmax += (rmax - rmin) * 0.1\n",
    "\n",
    "    nums = ['  {}'.format(i+1) for i in range(len(y))]    # numbering dots\n",
    "\n",
    "    for num, ix, iy in zip(nums, x, y):\n",
    "        if annotate == True:\n",
    "            plt.annotate(num, xy=ix)\n",
    "\n",
    "    # This handles class 1 and -1, class 1 and 0 as well.\n",
    "    plt.scatter(x[y==1, 0], x[y==1, 1], label=classes[0], marker='s', s=9)\n",
    "    plt.scatter(x[y!=1, 0], x[y!=1, 1], label=classes[1], marker='o', s=9)\n",
    "\n",
    "    if W is not None:\n",
    "        if W.ndim == 1:                             # one boundary in1-d array shape(3,)\n",
    "            x1 = np.arange(rmin, rmax, .1)\n",
    "            x2 = -W[0]/W[2] - W[1]/W[2]*x1\n",
    "            plt.plot(x1, x2)\n",
    "            title += ':w{}'.format(np.round(W, 2))          #display the weights at title\n",
    "        else:\n",
    "            for w in W:                                     # for every decision boundary\n",
    "                x1 = np.arange(rmin, rmax, .1)\n",
    "                x2 = -w[0]/w[2] - w[1]/w[2]*x1\n",
    "                #display all decision boundaries and legend-weights\n",
    "                plt.plot(x1, x2, label='w:{}'.format(np.round(w, 2)))\n",
    "            title += ':w{}'.format(np.round(W[-1], 2))     #display the last weights at title\n",
    "\n",
    "    plt.axhline(0, linewidth=1, linestyle='dotted')\n",
    "    plt.axvline(0, linewidth=1, linestyle='dotted')\n",
    "    plt.xlim([rmin, rmax])\n",
    "    plt.ylim([rmin, rmax])\n",
    "    plt.gca().set_aspect('equal')\n",
    "    plt.title(title)\n",
    "    plt.xlabel('$x_1$', fontsize=16)\n",
    "    plt.ylabel('$x_2$', fontsize=16)\n",
    "    if W is not None and W.ndim != 1:\n",
    "        plt.legend(loc='center left', bbox_to_anchor=(1, 0.5))\n",
    "    else:\n",
    "        plt.legend(loc='best')\n",
    "    plt.tight_layout()\n",
    "    if savefig is not None:\n",
    "        plt.savefig(savefig, bbox_inches='tight', dpi=150)\n",
    "\n"
   ]
  },
  {
   "cell_type": "code",
   "execution_count": 17,
   "metadata": {},
   "outputs": [],
   "source": [
    "def perceptronV2(X,y,w=None,eta=0.1,epochs=10,random_seed=1):\n",
    "    if w is None:\n",
    "        randnum=np.random.RandomState(random_seed)\n",
    "        w=randnum.normal(loc=0.0,scale=0.01,size=X.shape[1])\n",
    "    maxy,miny=y.max(),y.min()\n",
    "    for _ in np.arange(epochs):\n",
    "        for xi,yi in zip(X,y):\n",
    "            z=np.dot(xi,w)\n",
    "            yhat=np.where(z>0.0,maxy,miny)\n",
    "            if yhat!=yi:\n",
    "                delta=eta*(yhat-yi)*xi\n",
    "                w+=delta\n",
    "    return w"
   ]
  },
  {
   "cell_type": "code",
   "execution_count": 20,
   "metadata": {},
   "outputs": [
    {
     "name": "stdout",
     "output_type": "stream",
     "text": [
      "[ 0.   3.4 -1.3]\n"
     ]
    },
    {
     "data": {
      "image/png": "[encoded data removed]",
      "text/plain": [
       "<Figure size 432x288 with 1 Axes>"
      ]
     },
     "metadata": {
      "needs_background": "light"
     },
     "output_type": "display_data"
    }
   ],
   "source": [
    "import joy\n",
    "x = np.array([[1.0, 1.0], [2.0, -2.0], [-1.0, -1.5], [-2.0, -1.0], [-2.0, 1.0], [1.5, -0.5]])\n",
    "X = np.c_[np.ones(len(x)), x]\n",
    "y = np.array([1, -1, -1, -1, 1, 1])\n",
    "w = np.array([0, 1.0, 0.5])\n",
    "w=perceptronV2(X,y,w,eta=0.1,epochs=3)\n",
    "print(np.round(w,2))\n",
    "joy.plot_xyw(X,y,w,X0=True,annotate=True)"
   ]
  },
  {
   "cell_type": "code",
   "execution_count": 23,
   "metadata": {},
   "outputs": [
    {
     "name": "stdout",
     "output_type": "stream",
     "text": [
      "[[0.2]\n",
      " [0.4]\n",
      " [1.3]]\n"
     ]
    }
   ],
   "source": [
    "x = np.array([[1.0, 1.0], [2.0, -2.0], [-1.0, -1.5], [-2.0, -1.0], [-2.0, 1.0], [1.5, -0.5]])\n",
    "X = np.c_[np.ones(len(x)), x]\n",
    "y = np.array([1, -1, -1, -1, 1, 1])\n",
    "w = np.array([0, 0.8, 1.1]).reshape(X.shape[1], 1)\n",
    "#w = np.random.random((X,shape[1], 1))\n",
    "maxlabel, minlabel = y.max(), y.min()\n",
    "\n",
    "epochs = 1\n",
    "eta = 0.1\n",
    "for _ in range(epochs):\n",
    "    for xi, yi in zip(X, y):\n",
    "        xi = xi.reshape(w.shape)\n",
    "        z = np.dot(w.T, xi)\n",
    "        yhat = np.where(z > 0.0, maxlabel, minlabel)\n",
    "        delta = eta * (yi - yhat) * xi\n",
    "        w += delta\n",
    "print(np.round(w, 2))"
   ]
  },
  {
   "cell_type": "markdown",
   "metadata": {},
   "source": [
    "## 5. 퍼셉트론 함수 구현: 코드"
   ]
  },
  {
   "cell_type": "code",
   "execution_count": 24,
   "metadata": {},
   "outputs": [],
   "source": [
    "#%%writefile code/perceptron.py\n",
    "def perceptron(X, y, w = None, eta = 0.1, epochs = 5, random_seed = 1):\n",
    "    if w is None:\n",
    "        np.random.seed(random_seed)\n",
    "        w = np.random.random((X.shape[1], 1))\n",
    "    maxlable, minlabel = y.max(), y.min()\n",
    "    for _ in range(epochs):\n",
    "        for xi, yi in zip(X, y):\n",
    "            xi = xi.reshape(w.shape)\n",
    "            z = np.dot(w.T, xi)\n",
    "            yhat = np.where(z >= 0.0, maxlabel, minlabel)\n",
    "            delta = eta * (yi - yhat) * xi\n",
    "            w += delta\n",
    "    return w"
   ]
  },
  {
   "cell_type": "markdown",
   "metadata": {},
   "source": [
    "## 5.1 퍼셉트론 함수 구현: 테스트와 시각화"
   ]
  },
  {
   "cell_type": "code",
   "execution_count": 25,
   "metadata": {},
   "outputs": [],
   "source": [
    "#%%writefile code/plot_xyw.py\n",
    "\n",
    "#%load code/plot_xyw.py\n",
    "# Author: Youngsup Kim, idebtor@gmail.com\n",
    "# 2018.03.01 - creation\n",
    "# 2018.04.08 - handles an array of weights W, X0 options\n",
    "# 2018.04.18 - works with plot_decision_region\n",
    "\n",
    "import matplotlib.pyplot as plt\n",
    "import numpy as np\n",
    "\n",
    "def plot_xyw(x, y, W=None, X0=False, title='Perceptron',\n",
    "             classes=['class1', 'class2'], annotate=False, savefig=None):\n",
    "    \"\"\" plots data x and its class label y as well as the the linear decision\n",
    "        boundary and and the value W[-1] or w. \n",
    "\n",
    "        x(m, 2): m training samples with two features, x1 and x2 only.\n",
    "                 Its shape is (m, 2); X0 must be set to False.\n",
    "        x(m, 3): m training samples with two features x0=1, x1, x2\n",
    "                  its shape is (m, 3); X0 must be set to True.\n",
    "        y(m): m number of class labels, each value may be either 1 or -1,\n",
    "              also it may be either 1 or 0\n",
    "\n",
    "        w(3,): only one boundary to display\n",
    "               If you have an array of w's, but want to plot the last one, pass W[-1].\n",
    "        W(epochs, 3): epochs number of decision boundaries or weights\n",
    "              If there is one set of weights, its shape can be either (3, ) or (1, 3)\n",
    "\n",
    "        X0: X has x_0 = 1 term in all samples or not; if True, removed before plotting\n",
    "        annotate: add a sequence number at each sample if True\n",
    "        savefig: save the plot in a file if a filename is given\n",
    "    \"\"\"\n",
    "    if X0 == True:      # remove the first column; change shape(6x3) into shape(6x2)\n",
    "        x = x[ : , 1:]     # check a column?: np.all(X == X[0,:], axis = 0)[0] == True and X[0,0] == 1.0\n",
    "\n",
    "    # setting min max range of data - 10% of margin allowed in four sides\n",
    "    rmin, rmax = np.array(np.min(x)), np.array(np.max(x))\n",
    "    rmin -= (rmax - rmin) * 0.1\n",
    "    rmax += (rmax - rmin) * 0.1\n",
    "\n",
    "    nums = ['  {}'.format(i+1) for i in range(len(y))]    # numbering dots\n",
    "\n",
    "    for num, ix, iy in zip(nums, x, y):\n",
    "        if annotate == True:\n",
    "            plt.annotate(num, xy=ix)\n",
    "\n",
    "    # This handles class 1 and -1, class 1 and 0 as well.\n",
    "    plt.scatter(x[y==1, 0], x[y==1, 1], label=classes[0], marker='s', s=9)\n",
    "    plt.scatter(x[y!=1, 0], x[y!=1, 1], label=classes[1], marker='o', s=9)\n",
    "\n",
    "    if W is not None:\n",
    "        if W.ndim == 1:                             # one boundary in1-d array shape(3,)\n",
    "            x1 = np.arange(rmin, rmax, .1)\n",
    "            x2 = -W[0]/W[2] - W[1]/W[2]*x1\n",
    "            plt.plot(x1, x2)\n",
    "            title += ':w{}'.format(np.round(W, 2))          #display the weights at title\n",
    "        else:\n",
    "            for w in W:                                     # for every decision boundary\n",
    "                x1 = np.arange(rmin, rmax, .1)\n",
    "                x2 = -w[0]/w[2] - w[1]/w[2]*x1\n",
    "                #display all decision boundaries and legend-weights\n",
    "                plt.plot(x1, x2, label='w:{}'.format(np.round(w, 2)))\n",
    "            title += ':w{}'.format(np.round(W[-1], 2))     #display the last weights at title\n",
    "\n",
    "    plt.axhline(0, linewidth=1, linestyle='dotted')\n",
    "    plt.axvline(0, linewidth=1, linestyle='dotted')\n",
    "    plt.xlim([rmin, rmax])\n",
    "    plt.ylim([rmin, rmax])\n",
    "    plt.gca().set_aspect('equal')\n",
    "    plt.title(title)\n",
    "    plt.xlabel('$x_1$', fontsize=16)\n",
    "    plt.ylabel('$x_2$', fontsize=16)\n",
    "    if W is not None and W.ndim != 1:\n",
    "        plt.legend(loc='center left', bbox_to_anchor=(1, 0.5))\n",
    "    else:\n",
    "        plt.legend(loc='best')\n",
    "    plt.tight_layout()\n",
    "    if savefig is not None:\n",
    "        plt.savefig(savefig, bbox_inches='tight', dpi=150)\n"
   ]
  },
  {
   "cell_type": "code",
   "execution_count": 27,
   "metadata": {},
   "outputs": [
    {
     "data": {
      "image/png": "[encoded data removed]",
      "text/plain": [
       "<Figure size 432x288 with 1 Axes>"
      ]
     },
     "metadata": {
      "needs_background": "light"
     },
     "output_type": "display_data"
    }
   ],
   "source": [
    "import matplotlib.pyplot as plt\n",
    "import numpy as np\n",
    "%matplotlib inline\n",
    "#%run code/plot_xyw.py\n",
    "\n",
    "x = np.array([[1.0, 1.0], [2.0, -2.0], [-1.0, -1.5], [-2.0, -1.0], [-2.0, 1.0], [1.5, -0.5]])\n",
    "X = np.c_[np.ones(len(x)), x]\n",
    "y = np.array([1, -1, -1, -1, 1, 1])\n",
    "w = np.array([0, 0.8, 1.1])\n",
    "w = perceptron(X, y, w, eta = 0.1, epochs =10)\n",
    "plot_xyw(X, y, w, X0 = True)"
   ]
  },
  {
   "cell_type": "markdown",
   "metadata": {},
   "source": [
    "## 5. 퍼셉트론 함수 구현: 에폭에 따른 판별식 시각화 "
   ]
  },
  {
   "cell_type": "code",
   "execution_count": 28,
   "metadata": {},
   "outputs": [
    {
     "data": {
      "image/png": "[encoded data removed]",
      "text/plain": [
       "<Figure size 432x288 with 1 Axes>"
      ]
     },
     "metadata": {
      "needs_background": "light"
     },
     "output_type": "display_data"
    }
   ],
   "source": [
    "x = np.array([[1.0, 1.0], [2.0, -2.0], [-1.0, -1.5], [-2.0, -1.0], [-2.0, 1.0], [1.5, -0.5]])\n",
    "X = np.c_[np.ones(len(x)), x]\n",
    "y = np.array([1, -1, -1, -1, 1, 1])\n",
    "w = np.array([0, 0.8,1.1])\n",
    "\n",
    "W = np.array([w])\n",
    "epochs = 4\n",
    "for _ in range(epochs):\n",
    "    w = perceptron(X, y, w, eta = 0.1, epochs =10)\n",
    "    W = np.vstack([W, w])\n",
    "    \n",
    "plot_xyw(x, y, W, annotate = True)"
   ]
  },
  {
   "cell_type": "code",
   "execution_count": null,
   "metadata": {},
   "outputs": [],
   "source": []
  }
 ],
 "metadata": {
  "kernelspec": {
   "display_name": "Python 3 (ipykernel)",
   "language": "python",
   "name": "python3"
  },
  "language_info": {
   "codemirror_mode": {
    "name": "ipython",
    "version": 3
   },
   "file_extension": ".py",
   "mimetype": "text/x-python",
   "name": "python",
   "nbconvert_exporter": "python",
   "pygments_lexer": "ipython3",
   "version": "3.9.7"
  }
 },
 "nbformat": 4,
 "nbformat_minor": 4
}
