{
 "cells": [
  {
   "cell_type": "markdown",
   "metadata": {},
   "source": [
    "아무 것도 염려하지 말고 다만 모든 일에 기도와 간구로, 너희 구할 것을 감사함으로 하나님께 아뢰라 그리하면 모든 지각에 뛰어난 하나님의 평강이 그리스도 예수 안에서 너희 마음과 생각을 지키시리라\t(빌4:6-7)\n",
    "<center><img src=\"https://github.com/idebtor/KMOOC-ML/blob/master/ipynb/images/MLwithPython.png?raw=true\" width=1000></center>\n",
    "\n",
    "# Week 5-2 ML Workflow\n",
    "\n",
    "-----------------------------------\n",
    "\n",
    "## 1. 학습자료의 준비 단계: 자료읽기"
   ]
  },
  {
   "cell_type": "markdown",
   "metadata": {},
   "source": [
    "다음 셀에 있는 코멘드(`!cat `)가 Windows환경에서는 작동하지 않을 수 있습니다. \n",
    "- 이를 해결하기 위한 다양한 방법이 있지만, 한 가지 방법은 파이썬 배포판 중에 하나인 아나콘다에 있는 conda코맨드를 이용해서 유닉스 코맨드 환경을 설치하는 것입니다. \n",
    "- 먼저 관리자 모드로 윈도우의 파워쉘(Powershell) 이나 코멘드(cmd)창을 시작하여 다음 코맨드를 실행합니다. (몇 분의 시간이 걸립니다)\n",
    "\n",
    "`conda install posix` "
   ]
  },
  {
   "cell_type": "code",
   "execution_count": 1,
   "metadata": {},
   "outputs": [
    {
     "name": "stdout",
     "output_type": "stream",
     "text": [
      "-1.72\t-3.12\t1\n",
      "0.31\t1.85\t1\n",
      "1.56\t2.85\t1\n",
      "2.64\t2.41\t1\n",
      "1.23\t2.54\t1\n",
      "1.33\t2.03\t1\n",
      "1.26\t2.68\t1\n",
      "2.58\t1.79\t1\n",
      "2.40\t0.91\t1\n",
      "0.51\t2.44\t1\n",
      "2.17\t2.64\t1\n",
      "3.38\t2.94\t1\n",
      "1.09\t3.12\t1\n",
      "0.68\t1.43\t1\n",
      "3.76\t0.64\t1\n",
      "0.73\t2.97\t1\n",
      "0.53\t2.94\t1\n",
      "1.49\t1.25\t1\n",
      "3.92\t3.48\t1\n",
      "3.87\t2.91\t1\n",
      "1.14\t3.01\t1\n",
      "1.73\t2.80\t1\n",
      "2.96\t1.84\t1\n",
      "2.61\t2.92\t1\n",
      "2.28\t0.90\t1\n",
      "1.93\t3.71\t1\n",
      "1.26\t1.17\t1\n",
      "1.90\t1.34\t1\n",
      "3.13\t0.92\t1\n",
      "0.85\t1.46\t1\n",
      "1.50\t3.93\t1\n",
      "2.95\t2.09\t1\n",
      "0.76\t2.84\t1\n",
      "1.00\t0.46\t1\n",
      "3.19\t2.32\t1\n",
      "2.82\t2.32\t1\n",
      "2.86\t1.35\t1\n",
      "0.97\t2.68\t1\n",
      "1.20\t1.31\t1\n",
      "1.54\t2.02\t1\n",
      "1.74\t0.63\t1\n",
      "1.36\t-0.22\t1\n",
      "2.63\t0.40\t1\n",
      "0.90\t2.05\t1\n",
      "1.26\t2.54\t1\n",
      "0.71\t2.27\t1\n",
      "1.96\t0.83\t1\n",
      "2.52\t1.83\t1\n",
      "2.76\t2.82\t1\n",
      "3.16\t3.34\t1\n",
      "1.10\t-1.14\t0\n",
      "-1.33\t0.34\t0\n",
      "0.76\t-3.07\t0\n",
      "-0.37\t-1.91\t0\n",
      "-1.84\t-1.11\t0\n",
      "-1.50\t0.24\t0\n",
      "-0.63\t-1.53\t0\n",
      "-1.08\t-1.23\t0\n",
      "0.29\t-1.99\t0\n",
      "-1.26\t-2.90\t0\n",
      "-5.27\t-1.78\t0\n",
      "-0.49\t-2.64\t0\n",
      "1.28\t-3.64\t0\n",
      "-1.64\t-1.96\t0\n",
      "0.25\t-1.26\t0\n",
      "-1.48\t-1.17\t0\n",
      "-2.94\t-3.47\t0\n",
      "-2.19\t-1.48\t0\n",
      "0.52\t-0.02\t0\n",
      "-2.24\t-2.12\t0\n",
      "-3.07\t-2.09\t0\n",
      "-3.99\t0.73\t0\n",
      "-2.41\t-2.21\t0\n",
      "-3.45\t-0.62\t0\n",
      "-3.96\t-2.00\t0\n",
      "-2.95\t-1.16\t0\n",
      "-2.42\t-3.35\t0\n",
      "-1.64\t-1.11\t0\n",
      "-1.61\t-1.28\t0\n",
      "-2.59\t-2.21\t0\n",
      "-2.64\t-2.20\t0\n",
      "-2.84\t-3.22\t0\n",
      "-1.45\t-2.26\t0\n",
      "-3.08\t-1.05\t0\n",
      "-2.97\t-1.53\t0\n",
      "-0.68\t-1.52\t0\n",
      "-0.11\t-3.43\t0\n",
      "-1.14\t-2.66\t0\n",
      "-2.92\t-2.51\t0\n",
      "-2.14\t-1.52\t0\n",
      "-3.02\t-0.44\t0\n",
      "-1.05\t-3.85\t0\n",
      "0.28\t-1.25\t0\n",
      "-0.05\t-1.95\t0\n",
      "-3.20\t-0.22\t0\n",
      "-2.26\t0.01\t0\n",
      "-1.41\t-0.23\t0\n",
      "-1.20\t-0.71\t0\n",
      "-1.69\t0.70\t0\n",
      "-1.52\t-1.14\t0\n"
     ]
    }
   ],
   "source": [
    "!cat data/joydata.txt"
   ]
  },
  {
   "cell_type": "markdown",
   "metadata": {},
   "source": [
    "## 2.1 학습 자료 전처리: 자료의 편향성"
   ]
  },
  {
   "cell_type": "code",
   "execution_count": 9,
   "metadata": {},
   "outputs": [
    {
     "name": "stdout",
     "output_type": "stream",
     "text": [
      "[[-1.72 -3.12]\n",
      " [ 0.31  1.85]\n",
      " [ 1.56  2.85]\n",
      " [ 2.64  2.41]\n",
      " [ 1.23  2.54]] [1 1 1 1 1]\n",
      "[[-2.26  0.01]\n",
      " [-1.41 -0.23]\n",
      " [-1.2  -0.71]\n",
      " [-1.69  0.7 ]\n",
      " [-1.52 -1.14]] [0 0 0 0 0]\n"
     ]
    }
   ],
   "source": [
    "import numpy as np\n",
    "data = np.genfromtxt('data/joydata.txt')\n",
    "x, y = data[:, :2], data[:, 2]\n",
    "y = y.astype(int)\n",
    "print(x[:5], y[:5])\n",
    "print(x[-5:], y[-5:])"
   ]
  },
  {
   "cell_type": "markdown",
   "metadata": {},
   "source": [
    "## 2.2 Shuffling"
   ]
  },
  {
   "cell_type": "code",
   "execution_count": 12,
   "metadata": {},
   "outputs": [
    {
     "name": "stdout",
     "output_type": "stream",
     "text": [
      "[[ 0.52 -0.02]\n",
      " [ 1.54  2.02]\n",
      " [ 1.9   1.34]\n",
      " [-1.33  0.34]\n",
      " [ 0.28 -1.25]] [0 0 0 0 1]\n",
      "[[-0.37 -1.91]\n",
      " [-1.5   0.24]\n",
      " [ 0.76  2.84]\n",
      " [ 0.68  1.43]\n",
      " [-1.64 -1.11]] [0 1 1 0 0]\n"
     ]
    }
   ],
   "source": [
    "data = np.genfromtxt('data/joydata.txt')\n",
    "x, y = data[:, :2], data[:, 2]\n",
    "y = y.astype(int)\n",
    "np.random.shuffle(x)\n",
    "np.random.shuffle(y)\n",
    "print(x[:5], y[:5])\n",
    "print(x[-5:], y[-5:])"
   ]
  },
  {
   "cell_type": "markdown",
   "metadata": {},
   "source": [
    "올바른 코드"
   ]
  },
  {
   "cell_type": "code",
   "execution_count": 14,
   "metadata": {},
   "outputs": [
    {
     "name": "stdout",
     "output_type": "stream",
     "text": [
      "[[-1.52 -1.14]\n",
      " [-1.45 -2.26]\n",
      " [ 0.73  2.97]\n",
      " [ 0.76  2.84]\n",
      " [-1.61 -1.28]] [0 0 1 1 0]\n",
      "[[-2.26  0.01]\n",
      " [ 2.82  2.32]\n",
      " [-2.59 -2.21]\n",
      " [ 2.58  1.79]\n",
      " [ 1.73  2.8 ]] [0 1 0 1 1]\n"
     ]
    }
   ],
   "source": [
    "import numpy as np\n",
    "data = np.genfromtxt('data/joydata.txt')\n",
    "np.random.shuffle(data)\n",
    "x, y = data[:, :2], data[:, 2]\n",
    "y = y.astype(int)\n",
    "print(x[:5], y[:5])\n",
    "print(x[-5:], y[-5:])"
   ]
  },
  {
   "cell_type": "markdown",
   "metadata": {},
   "source": [
    "## 2.3 정규화 코드"
   ]
  },
  {
   "cell_type": "code",
   "execution_count": 15,
   "metadata": {},
   "outputs": [],
   "source": [
    "xmax = np.max(x)\n",
    "xmin = np.min(x)\n",
    "x = (x - xmin) / (xmax - xmin)"
   ]
  },
  {
   "cell_type": "markdown",
   "metadata": {},
   "source": [
    "## 2.4 표준화 코드"
   ]
  },
  {
   "cell_type": "code",
   "execution_count": 16,
   "metadata": {},
   "outputs": [],
   "source": [
    "mu = x.mean(axis = 0)\n",
    "sigma = x.std(axis = 0)\n",
    "x = (x - mu) / sigma"
   ]
  },
  {
   "cell_type": "markdown",
   "metadata": {},
   "source": [
    "## 2.5 자료 분리 (train, test)"
   ]
  },
  {
   "cell_type": "code",
   "execution_count": 18,
   "metadata": {},
   "outputs": [],
   "source": [
    "import numpy as np\n",
    "data = np.genfromtxt('data/joydata.txt')\n",
    "np.random.seed(1)\n",
    "np.random.shuffle(data)\n",
    "x, y = data[:, :2], data[:, 2]\n",
    "y = y.astype(int)\n",
    "\n",
    "num = int(x.shape[0] * 0.8) ##percentage\n",
    "x_train, x_test = x[:num], x[num:]\n",
    "y_train, y_test = y[:num], y[num:]"
   ]
  },
  {
   "cell_type": "code",
   "execution_count": 21,
   "metadata": {},
   "outputs": [
    {
     "data": {
      "image/png": "[encoded data removed]",
      "text/plain": [
       "<Figure size 720x288 with 2 Axes>"
      ]
     },
     "metadata": {
      "needs_background": "light"
     },
     "output_type": "display_data"
    }
   ],
   "source": [
    "## remove 1st column before plotting; change shape(mx3) into shape(mx2) or use x_train, x_test\n",
    "## x_train = X_train[ : , 1:]     \n",
    "import matplotlib.pyplot as plt\n",
    "fig, ax = plt.subplots(1, 2, sharex=True, sharey=True, figsize=(10, 4))\n",
    "ax[0].scatter(x_train[y_train==1, 0], x_train[y_train==1, 1], label='class 1', marker='s')\n",
    "ax[0].scatter(x_train[y_train==0, 0], x_train[y_train==0, 1], label='class 2', marker='o')\n",
    "ax[1].scatter(x_test[y_test==1, 0], x_test[y_test==1, 1], label='class 1', marker='s')\n",
    "ax[1].scatter(x_test[y_test==0, 0], x_test[y_test==0, 1], label='class 2', marker='o')\n",
    "ax[0].set_title('Training dataset')\n",
    "ax[1].set_title('Test dataset')\n",
    "ax[0].set_xlabel('x1')\n",
    "ax[0].set_ylabel('x2')\n",
    "ax[0].legend()\n",
    "plt.show()"
   ]
  },
  {
   "cell_type": "markdown",
   "metadata": {},
   "source": [
    "## 2.6 편향을 포함하기 위한 특성 벡터 X의 자료 구조\n",
    "\n",
    "- 훈련자료와 검증자료에 존재할 수 있는 편향$^{bias}$을 다루기 위하여 자료의 모든 각 특성에$x^{(i)}_0 = 1$추가합니다. 특성 $x^{(i)}_0 = 1$이 추가된 자료에 대해 대문자($X$)사용하여 다른 자료와 구별하도록 합니다.  \n",
    "- np.c 와 np.r 은 넘피 배열에 행과 열을 추가하는데 사용하는 방법이며, 구체적인 것은 넘피 자료를 참고하십시오.  "
   ]
  },
  {
   "cell_type": "code",
   "execution_count": 24,
   "metadata": {},
   "outputs": [
    {
     "name": "stdout",
     "output_type": "stream",
     "text": [
      "[[ 1.   -2.64 -2.2 ]\n",
      " [ 1.   -2.97 -1.53]\n",
      " [ 1.    1.    0.46]\n",
      " [ 1.   -2.84 -3.22]\n",
      " [ 1.   -0.05 -1.95]]\n"
     ]
    }
   ],
   "source": [
    "X_train = np.c_[ np.ones(len(x_train)), x_train ]\n",
    "X_test  = np.c_[ np.ones(len(x_test)), x_test ]\n",
    "print(X_train[:5])"
   ]
  },
  {
   "cell_type": "markdown",
   "metadata": {},
   "source": [
    "## 3.1 학습(훈련/예측) 단계: 퍼셉트론 코딩\n",
    "\n",
    "앞에서 구현한 perceptron() 함수를 활용하여 다음과 일반적인 percetron_train() 함수를 어렵지 않게 만들 수 있습니다. 특히 이 함수는 다양한 인자를 받아서 학습 알고리즘을 수행함으로 산출되는 퍼셉트론의 가중치를 반환합니다.\n",
    "\n",
    "앞 장에서 사용한 perceptron 함수와 다른 점은 가중치 w를 더 이상 매개변수롤 사용하지 않았으며, 대신에 입력 특성벡터에 X0 원소가 포함되어 있는지 여부를 알리는 매개변수가 새로 포함되었습니다. "
   ]
  },
  {
   "cell_type": "code",
   "execution_count": 22,
   "metadata": {},
   "outputs": [],
   "source": [
    "def perceptron_train(X, y, X0=False, eta=0.1, epochs=1, random_seed=1):\n",
    "    \"\"\"  Perceptron training function for binary class labels\n",
    "    Input Parameters\n",
    "        X : numpy.ndarray, shape=(n_samples, m_features), by default X0=False\n",
    "            A 2D NumPy array containing the training examples\n",
    "            or \n",
    "            If X0=True, X's shape=(n_samples, m_features+1) \n",
    "            It includes the bias or x0 = 1 for all samples \n",
    "        \n",
    "        y : numpy.ndarray, shape=(n_samples,)\n",
    "            A 1D NumPy array containing the true class labels\n",
    "        \n",
    "        X0: If True, then X must have X_0 = 1 in all samples.\n",
    "             Set it Faslse, if X does not have X_0 \n",
    "        \n",
    "        eta : float (default: 0.1) \n",
    "            A learning rate for the parameter updates. Note that a learning\n",
    "            rate has no effect on the direction of the decision boundary\n",
    "            if the model weights are initialized to all zeros.\n",
    "        \n",
    "        epochs : int (default: 1), Number of passes over the training dataset.\n",
    "        \n",
    "        random_seed : int or None (default: 1)\n",
    "            Seed for the pseudo-random number generator that initializes the\n",
    "            weights w if w is None.\n",
    "    \n",
    "    Returns \n",
    "        w : numpy.ndarray, shape=(m_features, )\n",
    "    \n",
    "        If you wants W : numpy.ndarray, shape=(epochs, m_features) to use \n",
    "        when calling , then invoke this function with epochs = 1 multiple times \n",
    "        and save the result in the form of W = np.vstack([W, w]). \n",
    "        You may initialize the W = np.array([w]), where w is an initial weights.\n",
    "    \"\"\"\n",
    "    if X0 == False:\n",
    "        X = np.c_[ np.ones(len(X)), X ]\n",
    "    \n",
    "    randnum = np.random.RandomState(random_seed) \n",
    "    w = randnum.normal(loc=0.0, scale=0.01, size=X.shape[1])\n",
    "           \n",
    "    maxlabel, minlabel = y.max(), y.min()                 # for use of bipolar or unit step function\n",
    "    for _ in range(epochs):\n",
    "        for xi, yi in zip(X, y):\n",
    "            z = np.dot(xi, w)                             # Compute net input, same as np.dot(w.T, x)\n",
    "            yhat = np.where(z > 0.0, maxlabel, minlabel)  # Apply unit step func and get output\n",
    "            #print('xi{}, \\t (yi,yhat)=({},{})'.format(np.round(xi,2), yi, yhat))\n",
    "            if yi != yhat:\n",
    "                delta = eta * (yi - yhat) * xi                # Compute delta    \n",
    "                w += delta                                    # Adjust weight\n",
    "                #print('xi{}, \\t (yi,yhat)=({},{}), delta{}, w{}'.format\n",
    "                #         (np.round(xi,2), yi, yhat, np.round(delta,2), np.round(w,2)))\n",
    "        \n",
    "    return w"
   ]
  },
  {
   "cell_type": "markdown",
   "metadata": {},
   "source": [
    "## 3.2 학습(훈련/예측) 단계: 퍼셉트론 호출"
   ]
  },
  {
   "cell_type": "code",
   "execution_count": 25,
   "metadata": {},
   "outputs": [
    {
     "name": "stdout",
     "output_type": "stream",
     "text": [
      "[[ 1.   -2.64 -2.2 ]\n",
      " [ 1.   -2.97 -1.53]\n",
      " [ 1.    1.    0.46]\n",
      " [ 1.   -2.84 -3.22]\n",
      " [ 1.   -0.05 -1.95]]\n",
      "[0 0 1 0 0]\n",
      "w =  [-0.02416758  0.04263733  0.01383804]\n"
     ]
    }
   ],
   "source": [
    "print(X_train[:5])\n",
    "print(y_train[:5])\n",
    "w = perceptron_train(X_train, y_train, X0=True, eta=0.02, epochs=1, random_seed=2)\n",
    "print('w = ', w)"
   ]
  },
  {
   "cell_type": "markdown",
   "metadata": {},
   "source": [
    "## 3.3 예측 및 평가 단계: 이진 페셉트론 "
   ]
  },
  {
   "cell_type": "code",
   "execution_count": 26,
   "metadata": {},
   "outputs": [],
   "source": [
    "def perceptron_predict(X, w):\n",
    "    z = np.dot(X, w)\n",
    "    yhat = np.where(z > 0., 1, 0)\n",
    "    return yhat"
   ]
  },
  {
   "cell_type": "markdown",
   "metadata": {},
   "source": [
    "## 3.4 예측 및 평가 단계:  이진 페셉트론 "
   ]
  },
  {
   "cell_type": "code",
   "execution_count": 27,
   "metadata": {},
   "outputs": [
    {
     "name": "stdout",
     "output_type": "stream",
     "text": [
      "w =  [-0.02416758  0.04263733  0.01383804]\n",
      "Misclassified:1/80\n"
     ]
    }
   ],
   "source": [
    "#version 0.1\n",
    "print('w = ', w)\n",
    "yhat = perceptron_predict(X_train, w) \n",
    "missed = 0 # misclassified count\n",
    "m_samples = len(y_train)\n",
    "for m in range(m_samples):\n",
    "    if yhat[m] != y_train[m]:\n",
    "        missed += 1\n",
    "print('Misclassified:{}/{}'.format(missed, m_samples))"
   ]
  },
  {
   "cell_type": "code",
   "execution_count": 28,
   "metadata": {},
   "outputs": [
    {
     "name": "stdout",
     "output_type": "stream",
     "text": [
      "Misclassified:1/20\n"
     ]
    }
   ],
   "source": [
    "#version 0.1\n",
    "yhat = perceptron_predict(X_test, w) \n",
    "missed = 0 # misclassified count\n",
    "m_samples = len(y_test)\n",
    "for m in range(m_samples):\n",
    "    if yhat[m] != y_test[m]:\n",
    "        missed += 1\n",
    "print('Misclassified:{}/{}'.format(missed, m_samples))"
   ]
  },
  {
   "cell_type": "code",
   "execution_count": 29,
   "metadata": {},
   "outputs": [
    {
     "name": "stdout",
     "output_type": "stream",
     "text": [
      "Misclassified:1/20\n"
     ]
    }
   ],
   "source": [
    "#version 0.2\n",
    "yhat = perceptron_predict(X_test, w)\n",
    "missed = np.sum(yhat.flatten() != y_test)\n",
    "print('Misclassified:{}/{}'.format(missed, m_samples))"
   ]
  },
  {
   "cell_type": "markdown",
   "metadata": {},
   "source": [
    "## 3.1 예측 및 평가 단계: 시각화"
   ]
  },
  {
   "cell_type": "code",
   "execution_count": 33,
   "metadata": {},
   "outputs": [
    {
     "data": {
      "image/png": "[encoded data removed]",
      "text/plain": [
       "<Figure size 432x288 with 1 Axes>"
      ]
     },
     "metadata": {
      "needs_background": "light"
     },
     "output_type": "display_data"
    }
   ],
   "source": [
    "#%run code/plot_xyw.py\n",
    "import joy\n",
    "joy.plot_xyw(X_train, y_train, w.flatten(), X0=True)"
   ]
  },
  {
   "cell_type": "code",
   "execution_count": 35,
   "metadata": {},
   "outputs": [
    {
     "data": {
      "image/png": "[encoded data removed]",
      "text/plain": [
       "<Figure size 432x288 with 1 Axes>"
      ]
     },
     "metadata": {
      "needs_background": "light"
     },
     "output_type": "display_data"
    }
   ],
   "source": [
    "joy.plot_xyw(X_test, y_test, w.flatten(), X0=True)"
   ]
  },
  {
   "cell_type": "markdown",
   "metadata": {},
   "source": [
    "------------\n",
    "_In the beginning God created the heavens and the earth. Genesis1:1_"
   ]
  }
 ],
 "metadata": {
  "kernelspec": {
   "display_name": "Python 3 (ipykernel)",
   "language": "python",
   "name": "python3"
  },
  "language_info": {
   "codemirror_mode": {
    "name": "ipython",
    "version": 3
   },
   "file_extension": ".py",
   "mimetype": "text/x-python",
   "name": "python",
   "nbconvert_exporter": "python",
   "pygments_lexer": "ipython3",
   "version": "3.9.7"
  }
 },
 "nbformat": 4,
 "nbformat_minor": 4
}
