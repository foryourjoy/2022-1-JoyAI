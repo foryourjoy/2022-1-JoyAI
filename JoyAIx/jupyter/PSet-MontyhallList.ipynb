{
 "cells": [
  {
   "cell_type": "markdown",
   "metadata": {},
   "source": [
    "그런즉 너희는 먼저 그의 나라와 그의 의를 구하라 그리하면 이 모든 것을 너희에게 더하시리라\n",
    "그러므로 내일 일을 위하여 염려하지 말라 내일 일은 내일이 염려할 것이요 한 날의 괴로움은 그 날로 족하니라 (마6:33-34)\n",
    "\n",
    "-------\n",
    "\n",
    "<center><img src=\"https://github.com/idebtor/KMOOC-ML/blob/master/ipynb/images/joyai/pythonML.png?raw=true\" width=1000></center>\n",
    "\n",
    "__NOTE:__ The following materials have been compiled and adapted from the numerous sources including my own. Please help me to keep this tutorial up-to-date by reporting any issues or questions. Send any comments or criticisms to `idebtor@gmail.com` Your assistances and comments will be appreciated.\n",
    "\n",
    "----------"
   ]
  },
  {
   "cell_type": "markdown",
   "metadata": {},
   "source": [
    "On my honour, I pledge that I have neither received nor provided improper assistance  \n",
    "in the completion of this assignment.  \n",
    "Signed: 최윤영 Student Number: 22100748   "
   ]
  },
  {
   "cell_type": "markdown",
   "metadata": {},
   "source": [
    "<b style=\"font-size:30px\">Excellent Machine Learning Lectures Recommended\"! </b>\n",
    "\n",
    "1. [Neural Networks](https://www.youtube.com/watch?v=aircAruvnKk&list=PLZHQObOWTQDNU6R1_67000Dx_ZCJB-3pi)\n",
    "    - link: [YouTube](https://www.youtube.com/watch?v=aircAruvnKk&list=PLZHQObOWTQDNU6R1_67000Dx_ZCJB-3pi)\n",
    "    - length: 19:13\n",
    "    - lecturer: 3Blue1Brown\n",
    "    - contents: One of the best lecture series about neural networks.\n",
    "    \n",
    "1. [Gradient descent](https://www.youtube.com/watch?v=IHZwWFHWa-w&list=PLZHQObOWTQDNU6R1_67000Dx_ZCJB-3pi&index=3&t=0s)\n",
    "    - link: [YouTube](https://www.youtube.com/watch?v=IHZwWFHWa-w&list=PLZHQObOWTQDNU6R1_67000Dx_ZCJB-3pi&index=3&t=0s)\n",
    "    - length: 21:00\n",
    "    - lecturer: 3Blue1Brown\n",
    "    - contents: One of the best lecture series about neural networks.\n",
    "    \n",
    "1. [What is backpropagation really doing?](https://www.youtube.com/watch?v=Ilg3gGewQ5U&list=PLZHQObOWTQDNU6R1_67000Dx_ZCJB-3pi&index=3)\n",
    "    - link: [YouTube](https://www.youtube.com/watch?v=Ilg3gGewQ5U&list=PLZHQObOWTQDNU6R1_67000Dx_ZCJB-3pi&index=3)\n",
    "    - length: 13:53\n",
    "    - lecturer: 3Blue1Brown\n",
    "    - contents: One of the best lecture series about neural networks.\n",
    "    \n",
    "1. [Backpropagation calculus](https://www.youtube.com/watch?v=Ilg3gGewQ5U&list=PLZHQObOWTQDNU6R1_67000Dx_ZCJB-3pi&index=3)\n",
    "    - link: [YouTube](https://www.youtube.com/watch?v=Ilg3gGewQ5U&list=PLZHQObOWTQDNU6R1_67000Dx_ZCJB-3pi&index=3)\n",
    "    - length: 10:18\n",
    "    - lecturer: 3Blue1Brown\n",
    "    - contents: One of the best lecture series about neural networks.\n"
   ]
  },
  {
   "cell_type": "markdown",
   "metadata": {},
   "source": [
    "<b style=\"font-size:30px\"> [The Monty Hall Problem](http://en.wikipedia.org/wiki/Monty_Hall_problem) Using List </b>\n",
    "\n",
    "Here's a fun and perhaps surprising statistical riddle, and a good way to get some practice writing python functions.\n",
    "\n",
    "In a gameshow, contestants try to guess which of 3 closed doors contain a cash prize (goats are behind the other two doors). Of course, the odds of choosing the correct door are 1 in 3. As a twist, the host of the show occasionally opens a door after a contestant makes his or her choice. This door is always one of the two the contestant did not pick, and is also always one of the goat doors (note that it is always possible to do this, since there are two goat doors). At this point, the contestant has the option of keeping his or her original choice, or swtiching to the other unopened door. The question is: is there any benefit to switching doors? The answer surprises many people who haven't heard the question before.\n",
    "\n",
    "We can answer the problem by running simulations in Python. We'll do it in several parts.\n"
   ]
  },
  {
   "cell_type": "code",
   "execution_count": 1,
   "metadata": {
    "scrolled": true
   },
   "outputs": [
    {
     "data": {
      "image/jpeg": "[encoded data removed]",
      "text/html": [
       "\n",
       "        <iframe\n",
       "            width=\"400\"\n",
       "            height=\"300\"\n",
       "            src=\"https://www.youtube.com/embed/mhlc7peGlGg\"\n",
       "            frameborder=\"0\"\n",
       "            allowfullscreen\n",
       "            \n",
       "        ></iframe>\n",
       "        "
      ],
      "text/plain": [
       "<IPython.lib.display.YouTubeVideo at 0x7fc389897550>"
      ]
     },
     "execution_count": 1,
     "metadata": {},
     "output_type": "execute_result"
    }
   ],
   "source": [
    "from IPython.display import YouTubeVideo\n",
    "YouTubeVideo('mhlc7peGlGg') "
   ]
  },
  {
   "cell_type": "markdown",
   "metadata": {},
   "source": [
    "__Refer to another good explanations of Monty Hall Problem in Korean__\n",
    "- [위키피디아](https://ko.wikipedia.org/wiki/%EB%AA%AC%ED%8B%B0_%ED%99%80_%EB%AC%B8%EC%A0%9C)\n",
    "- [나무위키](https://namu.wiki/w/%EB%AA%AC%ED%8B%B0%20%ED%99%80%20%EB%AC%B8%EC%A0%9C)\n",
    "\n",
    "--------"
   ]
  },
  {
   "cell_type": "markdown",
   "metadata": {},
   "source": [
    "__무감독 양심 시험으로 실시합니다. Open Book 그리고 인터넷 검색이 가능합니다. 다른 사람들의 도움을 받는 것은 Cheating에 해당합니다. 한동의 학우들이 \"정직하고 성실하게\" 코딩할 수 있는 충분히 시간이 제공됩니다.__    \n",
    "God is good all the time~    \n",
    "(a debtor)<><\n",
    "\n",
    "\"The Monty Hall Problem Using the Python List\" created by idebtor@gmail.com   \n",
    "\n",
    "------"
   ]
  },
  {
   "cell_type": "markdown",
   "metadata": {},
   "source": [
    "# Step 1: simulate_prizedoor() \n",
    "\n",
    "First, write a function called `simulate_prizedoor()`. This function will simulate the location of the prize in many games -- see the detailed specification below:"
   ]
  },
  {
   "cell_type": "markdown",
   "metadata": {},
   "source": [
    "__Sample Run:__\n",
    "```\n",
    "if __name__ == '__main__':\n",
    "    print(simulate_prizedoor(5))\n",
    "```\n",
    "__Expected Output:__\n",
    "```\n",
    "[0 0 1 0 1]          # one of these kinds: your output may be different\n",
    "[0 0 0 0 2]          \n",
    "[2 0 2 0 1]\n",
    "```"
   ]
  },
  {
   "cell_type": "code",
   "execution_count": 2,
   "metadata": {},
   "outputs": [
    {
     "name": "stdout",
     "output_type": "stream",
     "text": [
      "[1, 0, 1, 0, 2]\n"
     ]
    }
   ],
   "source": [
    "#%%file simulate_prizedoor.py\n",
    "# simulate_prizedoor.py\n",
    "# CrushPython - MontyHall\n",
    "import random                    # to use random.randint(......)\n",
    "\n",
    "def simulate_prizedoor(nsim):\n",
    "    \"\"\"    \n",
    "    Return a random array or list of 0s, 1s, and 2s. \n",
    "    The length of the array or list is the parameter nsim - a positive integer. \n",
    "    nsim represents the number of simulation. \n",
    "    \n",
    "    This function generates a random array of 0s, 1s, and 2s, representing \n",
    "    hiding a prize between door 0, door 1, and door. \n",
    "    \n",
    "    Use random.randint(0,2) to generate the numbers of 0, 1, and 2 randomly.\n",
    "\n",
    "    For example, \n",
    "    >>> print(simulate_prizedoor(3))\n",
    "    [0, 0, 2]\n",
    "    >>> print(simulate_prizedoor(7))\n",
    "    [2, 1, 0, 1, 1, 0, 2]\n",
    "    >>> print(simulate_prizedoor(10))\n",
    "    [0, 2, 1, 0, 1, 1, 0, 2, 0, 2]\n",
    "    \n",
    "    # sample cases when using np.array instead of using list.\n",
    "    >>> print(simulate_prizedoor(3))    \n",
    "    array([0, 0, 2])\n",
    "    \"\"\"\n",
    "    \n",
    "    assert nsim >= 1\n",
    "    prizedoors=[random.randint(0,2) for i in range(nsim)]\n",
    "\n",
    "    return prizedoors\n",
    "\n",
    "if __name__ == '__main__':\n",
    "    print(simulate_prizedoor(5))"
   ]
  },
  {
   "cell_type": "markdown",
   "metadata": {},
   "source": [
    "#### 질문 1: \n",
    "함수 `simulate_prizedoor(5)`을 실행했을 때, 함수가 `[0, 1, 1, 2, 0]`를 반환한다면,\n",
    "\n",
    "(1) 리스트 안에 있는 숫자들의 의미는 무엇입니까?  \n",
    "(2) 여기서 함수를 호출할 때, 사용한 5의 의미는 무엇입니까?  \n",
    "(3) 이 함수가 `[1, 1, 1, 1, 1]`를 반환할 수도 있나요? yes/no로 답하십시오. "
   ]
  },
  {
   "cell_type": "markdown",
   "metadata": {},
   "source": [
    "#### 답:\n",
    "1. 자동차가 있는 문의 번호이다.  \n",
    "1. 5번 시뮬레이션 한다는 의미이다. \n",
    "1. yes    "
   ]
  },
  {
   "cell_type": "markdown",
   "metadata": {},
   "source": [
    "#### 질문 2: \n",
    "(1) 위의 코드에서 `assert nsim >= 1` 이 있을 때와 없을 때, 각각 __어떤 일들이__ 일어날 수 있을지 기술하십시오.  \n",
    "(2) assert nsim >= 1 같은 구문이 왜 필요한 것일까요?"
   ]
  },
  {
   "cell_type": "markdown",
   "metadata": {},
   "source": [
    "#### 답:\n",
    "1.  assert nsim>=1 이 있을 때는 nsim<1이라면 AssertionError를 발생시키고, 없을 때는 아무 에러도 발생하지 않는다.\n",
    "1.  시뮬레이션 횟수가 최소 한번은 발생해야 하기 때문에, nsim<1이면 아예 실행되지 못하게 막아야 하기 때문이다."
   ]
  },
  {
   "cell_type": "markdown",
   "metadata": {},
   "source": [
    "__질문 3:__ \n",
    "\n",
    "Simplify the code part of the function defined above by using list comprehension. "
   ]
  },
  {
   "cell_type": "code",
   "execution_count": 3,
   "metadata": {},
   "outputs": [
    {
     "name": "stdout",
     "output_type": "stream",
     "text": [
      "[2, 1, 0, 0, 0]\n"
     ]
    }
   ],
   "source": [
    "def simulate_prizedoor(nsim):    # rewrite the code part only here\n",
    "    assert nsim >= 1\n",
    "    prizedoors=[random.randint(0,2) for i in range(nsim)]\n",
    "    return prizedoors\n",
    "\n",
    "if __name__ == '__main__':\n",
    "    print(simulate_prizedoor(5))"
   ]
  },
  {
   "cell_type": "markdown",
   "metadata": {},
   "source": [
    "# Step 2: simulate_guess()\n",
    "Next, write a function `simulate_guess()` that simulates the contestant's guesses for `nsim` simulations. Call this function `simulate_guess`. The specs:\n",
    "\n",
    "__Sample Run:__\n",
    "```\n",
    "if __name__ == '__main__':\n",
    "    print(simulate_guess(5))\n",
    "```\n",
    "__Expected Output:__\n",
    "```\n",
    "[1 1 1 1 1]          # one of these kinds: your output may be different\n",
    "[0 0 0 0 0]          \n",
    "[2 2 2 2 2]\n",
    "```"
   ]
  },
  {
   "cell_type": "code",
   "execution_count": 4,
   "metadata": {},
   "outputs": [
    {
     "name": "stdout",
     "output_type": "stream",
     "text": [
      "[1, 1, 1, 2, 1]\n"
     ]
    }
   ],
   "source": [
    "#%%file simulate_guess.py\n",
    "# simulate_guess.py\n",
    "# CrushPython - MontyHall\n",
    "\n",
    "import random\n",
    "def simulate_guess(nsim):\n",
    "    \"\"\"\n",
    "    Return a random array or a list that is  a strategy for guessing which door \n",
    "    a prize is behind. This could be a random strategy, one that always \n",
    "    guesses 2, whatever. \n",
    "    \n",
    "    You may use randint() as well here\n",
    "\n",
    "    nsim is the number of simulations to generate guesses for. \n",
    "    \n",
    "    >>> print(simulate_guess(5))\n",
    "    [0, 0, 0, 0, 0]\n",
    "    \n",
    "    # sample cases when using np.array instead of using list.\n",
    "    >>> print(simulate_guess(5))\n",
    "    array([0, 0, 0, 0, 0])\n",
    "    \"\"\"\n",
    "\n",
    "    assert nsim >= 1\n",
    "    guesses=[random.randint(0,2) for i in range(nsim)]\n",
    "    return guesses\n",
    "\n",
    "\n",
    "if __name__ == '__main__':\n",
    "    print(simulate_guess(5))"
   ]
  },
  {
   "cell_type": "markdown",
   "metadata": {},
   "source": [
    "__질문 1:__\n",
    "`simulate_guess()`함수는 누구(Show Host or Contestant)의 역할을 감당하는 것을 시뮬레이션 하는 것인가요? \n"
   ]
  },
  {
   "cell_type": "markdown",
   "metadata": {},
   "source": [
    "#### 답: Contestant"
   ]
  },
  {
   "cell_type": "markdown",
   "metadata": {},
   "source": [
    "__질문 2:__\n",
    "`simulate_guess()` 함수를 정의할 때, \"This could be a random strategy, one that always guesses 2, whatever.\"라고 설명합니다. 전략에 따라 이 함수의 값이 다르게 나올 수 있다는 이야기입니다. 이러한 전략에 따른 __다른 종류의 반환 값들__  예를 들어 4 개를 나열하십시오. 단 `nsim = 5`이라고 가정하십시오. "
   ]
  },
  {
   "cell_type": "markdown",
   "metadata": {},
   "source": [
    "아래에 답을 기록할 때 괄호(`[  ]`)를 사용하려면, 양 끝에 back quotes를 사용하면 쉽습니다. \n",
    "\n",
    "예: `[1, 2, 0]`   \n",
    "\n",
    "__답:__\n",
    "\n",
    "- `[1,1,2,1,1]`\n",
    "- `[1,0,2,2,0]`\n",
    "- `[0,2,1,0,2]`\n",
    "- `[0,0,2,1,1]`\n"
   ]
  },
  {
   "cell_type": "markdown",
   "metadata": {},
   "source": [
    "__질문 3:__\n",
    "\n",
    "- Simplify the code part of the function defined above by using list comprehension. "
   ]
  },
  {
   "cell_type": "code",
   "execution_count": 5,
   "metadata": {},
   "outputs": [
    {
     "name": "stdout",
     "output_type": "stream",
     "text": [
      "[0, 0, 1, 0, 1]\n"
     ]
    }
   ],
   "source": [
    "def simulate_guess(nsim):    # rewrite the code part only here\n",
    "    assert nsim >= 1\n",
    "    guesses=[random.randint(0,2) for i in range(nsim)]\n",
    "    return guesses\n",
    "\n",
    "if __name__ == '__main__':\n",
    "    print(simulate_guess(5))"
   ]
  },
  {
   "cell_type": "markdown",
   "metadata": {},
   "source": [
    "# Step 3: goat_door()\n",
    "Next, write a function, `goat_door`, to simulate randomly revealing one of the goat doors that a contestant didn't pick.\n",
    "\n",
    "__Sample Run:__\n",
    "```\n",
    "if __name__ == '__main__':\n",
    "    print(goat_door([0, 1, 2, 0, 2], [1, 1, 1, 1, 1]))\n",
    "```\n",
    "__Expected Output:__\n",
    "```      \n",
    "[2 0 0 0 0]    # one of these kinds: your output may be different\n",
    "[2 2 0 2 0]\n",
    "```"
   ]
  },
  {
   "cell_type": "code",
   "execution_count": 41,
   "metadata": {},
   "outputs": [
    {
     "name": "stdout",
     "output_type": "stream",
     "text": [
      "[2, 2, 0, 2, 0]\n"
     ]
    }
   ],
   "source": [
    "#%%file goat_door.py\n",
    "# goat_door.py\n",
    "# CrushPython - MontyHall\n",
    "\n",
    "import random\n",
    "\n",
    "def goat_door(prizedoors, guesses):\n",
    "    \"\"\" Return the goat door that is opened for each simulation. \n",
    "    Each item is 0, 1, or 2, and is different from both prizedoors and guesses.\n",
    "    \n",
    "    It simulates the opening of a \"goat door\" that doesn't contain the prize,\n",
    "        and is different from the contestants guess\n",
    "    The prizedoors array or list is the door that the prize is behind \n",
    "        in each simulation\n",
    "    The guesses array or list is the door that the contestant guessed \n",
    "        in each simulation\n",
    "        \n",
    "    remove(element) removes the first matching element from the list.\n",
    "    pop() removes the last element from the list.\n",
    "  \n",
    "    >>> print(goat_door([0, 1, 2], [1, 1, 1]))\n",
    "    array([2, 2, 0])              # array([2, 0, 0]) is valid too.\n",
    "    \n",
    "    # sample cases when using np.array instead of using list.\n",
    "    >>> print(goat_door(np.array([0, 1, 2]), np.array([1, 1, 1])))\n",
    "    array([2, 2, 0])              # array([2, 0, 0]) is valid too.\n",
    "    \"\"\"\n",
    "    \n",
    "    goat_door = []\n",
    "    for i in range(len(prizedoors)):\n",
    "        door=[0,1,2]\n",
    "        if prizedoors[i]==guesses[i]:\n",
    "            door.remove(guesses[i])\n",
    "        else:\n",
    "            door.remove(prizedoors[i])\n",
    "            door.remove(guesses[i])\n",
    "        goat_door.append(door.pop())\n",
    "    return goat_door\n",
    "\n",
    "if __name__ == '__main__':\n",
    "    print(goat_door([0, 1, 2, 0, 2], [1, 1, 1, 1, 1]))"
   ]
  },
  {
   "cell_type": "code",
   "execution_count": null,
   "metadata": {},
   "outputs": [],
   "source": []
  },
  {
   "cell_type": "markdown",
   "metadata": {},
   "source": [
    "__질문 1:__\n",
    "\n",
    "만약 `prizedoors = [0, 1, 2, 1, 2], )`이며, \n",
    "\n",
    "(1) `guesses = [0, 2, 0, 1, 1]`이라면, `goat_door()`가 반환하는 값은 무엇입니까?   \n",
    "(2) `guesses = [0, 0, 0, 0, 0]`이라면, `goat_door()`가 반환하는 값은 무엇입니까? \n",
    "\n",
    "답이 여러 개라면, 모든 경우를 나열하십시오. "
   ]
  },
  {
   "cell_type": "markdown",
   "metadata": {},
   "source": [
    "아래에 답을 기록할 때 괄호(`[  ]`)를 사용하려면, 양 끝에 back quotes를 사용하면 쉽습니다. 예: `[1, 2, 0]`    \n",
    "\n",
    "__답:__\n",
    "1.  `[1,0,1,0,0]`\n",
    "    `[2,0,1,0,0]`\n",
    "    `[1,0,1,2,0]`\n",
    "    `[2,0,1,2,0]`\n",
    "1.  `[1,2,1,2,1]`\n",
    "    `[2,2,1,2,1]`\n"
   ]
  },
  {
   "cell_type": "markdown",
   "metadata": {},
   "source": [
    "# Step 4:  win_rate()\n",
    "\n",
    "Let us compute a winning rate when the contestant does not switch his/her choices. Then, all things you need to know to compute the winning rate are `guesses` and `prizedoors` only.   \n",
    "For example, the winning rate is 0.4 when `guesses = [0, 0, 0, 0, 0]` and `prizedoors = [1, 1, 2, 0, 0]`. \n",
    "\n",
    "Write a simulation code with nsim = 100 to compute a winning rate. \n",
    "\n",
    "__Sample Run:__\n",
    "```\n",
    "if __name__ == '__main__':\n",
    "    print(\"Winning Rate without the switched guess:\", win_rate(100))\n",
    "```\n",
    "__Expected Output:__\n",
    "```     \n",
    "0.31            # one of these kinds: your output may be different\n",
    "0.29\n",
    "0.34\n",
    "```"
   ]
  },
  {
   "cell_type": "code",
   "execution_count": 7,
   "metadata": {},
   "outputs": [
    {
     "name": "stdout",
     "output_type": "stream",
     "text": [
      "Winning Rate without the switched guess: 0.3\n"
     ]
    }
   ],
   "source": [
    "def win_rate(nsim):\n",
    "    # invokke simulate_prizedoor() and simulate_guess() and save the results \n",
    "    # in prizedoors and guesses, respectively. \n",
    "    s_prizedoor=simulate_prizedoor(nsim)\n",
    "    s_guess=simulate_guess(nsim)\n",
    "    count=0\n",
    "    # now compare two lists, and count how many elements are matched.\n",
    "    for i in range(nsim):\n",
    "        if s_prizedoor[i]==s_guess[i]:\n",
    "            count+=1\n",
    "\n",
    "    # compute the winning rate and return it\n",
    "    w_rate=count/nsim\n",
    "    return w_rate\n",
    "\n",
    "if __name__ == '__main__':\n",
    "    print(\"Winning Rate without the switched guess:\", win_rate(100))"
   ]
  },
  {
   "cell_type": "markdown",
   "metadata": {},
   "source": [
    "__질문 1:__\n",
    "\n",
    "- Simplify the code part of the function defined above by using list comprehension. \n",
    "- Remember that you may use `sum()` function to add up the list elements.   \n",
    "    For example, `sum([ 0, 1, 1, 0, 1, 0, 0, 0 ])` returns 3."
   ]
  },
  {
   "cell_type": "code",
   "execution_count": 8,
   "metadata": {},
   "outputs": [
    {
     "name": "stdout",
     "output_type": "stream",
     "text": [
      "Winning Rate without the switched guess: 0.31\n"
     ]
    }
   ],
   "source": [
    "def win_rate(nsim):\n",
    "    # invokke simulate_prizedoor() and simulate_guess() and save the results \n",
    "    # in prizedoors and guesses, respectively. \n",
    "    s_prizedoor=simulate_prizedoor(nsim)\n",
    "    s_guess=simulate_guess(nsim)\n",
    "\n",
    "    # now compare two lists, and count how many elements are matched.\n",
    "    # use list comprehension \n",
    "    w_list=[0]\n",
    "    w_list=[1 if s_prizedoor[i]==s_guess[i] else 0 for i in range(nsim)]\n",
    "    # compute the winning rate and return it\n",
    "    return sum(w_list)/nsim\n",
    "\n",
    "if __name__ == '__main__':\n",
    "    print(\"Winning Rate without the switched guess:\", win_rate(100))"
   ]
  },
  {
   "cell_type": "markdown",
   "metadata": {},
   "source": [
    "# Step 5: switch_guess()\n",
    "Write a function, `switch_guess`, that represents the strategy of always switching a guess after the goat door is opened.\n",
    "\n",
    "__Sample Run:__\n",
    "```\n",
    "if __name__ == '__main__':\n",
    "    print(switch_guess([0, 1, 2]), [1, 2, 1]))\n",
    "    print(switch_guess([2, 1, 0]), [0, 2, 1]))\n",
    "```\n",
    "__Expected Output:__\n",
    "```    \n",
    "[2 0 0]\n",
    "[1 0 2]\n",
    "```"
   ]
  },
  {
   "cell_type": "code",
   "execution_count": 9,
   "metadata": {},
   "outputs": [
    {
     "name": "stdout",
     "output_type": "stream",
     "text": [
      "[2, 0, 0]\n",
      "[1, 0, 2]\n"
     ]
    }
   ],
   "source": [
    "# %load switch_guess.py\n",
    "#%%file switch_guess.py\n",
    "# CrushPython - MontyHall\n",
    "\n",
    "def switch_guess(guesses, goatdoors):\n",
    "    \"\"\" Return the new door after switching. Should be different from \n",
    "    both guesses and goatdoors.\n",
    "    The parameter guesses is an array or list of original guesses for \n",
    "        each simulation \n",
    "    The parameter goatdoors is an array or list of revealed goat doors for \n",
    "        each simulation\n",
    "    The strategy that always switches a guess after the goat door is opened\n",
    "    \n",
    "    remove(element) removes the first matching element from the list.\n",
    "    pop() removes the last element from the list.\n",
    "    \n",
    "    >>> print(switch_guess([0, 1, 2], [1, 2, 1]))\n",
    "    [2, 0, 0]                      # [2, 0, 0] is valid\n",
    "    >>> print(switch_guess([2, 1, 0], [0, 2, 1]))\n",
    "    [1, 0, 2]\n",
    "    \n",
    "    # sample cases when using np.array instead of using list.\n",
    "    >>> print(switch_guess(np.array([0, 1, 2]), np.array([1, 2, 1])))\n",
    "    [2, 0, 0]                      # [2, 0, 0] is valid\n",
    "    \"\"\"\n",
    "    \n",
    "    switchguess = []\n",
    "    for i in range(len(guesses)):\n",
    "        door=[0,1,2]\n",
    "        door.remove(guesses[i])\n",
    "        door.remove(goatdoors[i])\n",
    "        switchguess.append(door[0])\n",
    "    \n",
    "    return switchguess\n",
    "\n",
    "if __name__ == '__main__':\n",
    "    print(switch_guess([0, 1, 2], [1, 2, 1]))\n",
    "    print(switch_guess([2, 1, 0], [0, 2, 1]))"
   ]
  },
  {
   "cell_type": "markdown",
   "metadata": {},
   "source": [
    "__질문 1:__  __A Challenge Problem^^__ \n",
    "\n",
    "- Simplify the code part of the function defined above by using list comprehension. In this case, you may need two for loops inside the list comprehension. \n",
    "\n",
    "__Hint:__   \n",
    "To see how to use two for loops, you may refer to the Pythagorean triplet example in `py7listcomp.ipynb`. "
   ]
  },
  {
   "cell_type": "code",
   "execution_count": 18,
   "metadata": {},
   "outputs": [
    {
     "name": "stdout",
     "output_type": "stream",
     "text": [
      "[2, 0, 0]\n",
      "[1, 0, 2]\n"
     ]
    }
   ],
   "source": [
    "def switch_guess(guesses, goatdoors):\n",
    "    return [sum([0,1,2])-sum([guesses[i],goatdoors[i]]) for i in range(len(guesses))]\n",
    "\n",
    "if __name__ == '__main__':\n",
    "    print(switch_guess([0, 1, 2], [1, 2, 1]))\n",
    "    print(switch_guess([2, 1, 0], [0, 2, 1]))"
   ]
  },
  {
   "cell_type": "markdown",
   "metadata": {},
   "source": [
    "__질문 2:__\n",
    "\n",
    "만약, `switch_guess(guesses = [0, 1, 2, 1, 0], ________ )` 함수에 `goatdoors = [2, 1, 0, 2, 1]`를 인자로 호출한다면, 함수는 작동하지 않을 것입니다. `goatdoors` 인자 값에서 잘못된 부분의 의미(이유)를 설명하고, 작동할 수 있는 `goatdoors` 값을 2개 이상 제시하십시오. "
   ]
  },
  {
   "cell_type": "markdown",
   "metadata": {},
   "source": [
    "아래에 답을 기록할 때 괄호(`[  ]`)를 사용하려면, 양 끝에 back quotes를 사용하면 쉽습니다. 예: `[1, 2, 0]`\n",
    "\n",
    "__답:__\n",
    "- `[1, 2, 0, 2, 1]`,  `[2, 2, 0, 2, 1]`, `[2, 0, 0, 2, 1]` and many more...  \n",
    "- goatdoors 인자 값이 잘못된 이유는 같은 index의 guesses의 인자와 같은 인자가 있기 때문이다. guesses는 contestant가 고른 문의 번호인데, host가 contestant가 고른 문을 열어서 보여주는 것은 게임 룰에 어긋난다.  \n",
    "  host는 사용자가 고르지 않은 2개의 문 중 염소가 있는 문을 열어주어야 하므로 같은 index에서 guesses와 goatdoor의 인자는 겹칠 수가 없다.  \n",
    "- 작동가능한 goatdoors값은 `[1,0,0,0,1]`, `[2,2,1,2,1]` 등이 있다."
   ]
  },
  {
   "cell_type": "markdown",
   "metadata": {},
   "source": [
    "# Step 6: win_percentage()\n",
    "\n",
    "- Almost finished...: \n",
    "\n",
    "Last function: write a `win_percentage` function that takes an array or list of `guesses` and `prizedoors`, and returns the percent of correct guesses. This function also returns the result which limits to two decimal points. \n",
    "\n",
    "__Sample Run:__\n",
    "```\n",
    "if __name__ == '__main__':\n",
    "    print(win_percentage([0, 1, 2], [0, 0, 0]))\n",
    "    print(win_percentage([0, 1, 2], [0, 1, 2]))\n",
    "    print(win_percentage([1, 2, 1], [1, 1, 1]))\n",
    "```\n",
    "__Expected Output:__\n",
    "```    \n",
    "0.33\n",
    "1.0\n",
    "0.67\n",
    "```"
   ]
  },
  {
   "cell_type": "code",
   "execution_count": 11,
   "metadata": {},
   "outputs": [
    {
     "name": "stdout",
     "output_type": "stream",
     "text": [
      "0.33\n",
      "1.0\n",
      "0.67\n"
     ]
    }
   ],
   "source": [
    "#%%file win_percentage.py\n",
    "# win_percentage.py\n",
    "# CrushPython - MontyHall\n",
    "\n",
    "def win_percentage(guesses, prizedoors):\n",
    "    \"\"\" Return the win percentage between 0 and 100. \n",
    "    win_percentage is calculated by the percent of times that a simulation of \n",
    "        guesses is correct\n",
    "    The parameters: \n",
    "    guesses is an array or list of guesses for each simulation\n",
    "    prizedoors is an array or list of the location of prize for each simulation\n",
    " \n",
    "    >>> print(win_percentage([0, 1, 2], [0, 0, 0]))\n",
    "    0.33\n",
    "    \n",
    "    # sample cases when using np.array instead of using list.\n",
    "    >>> print(win_percentage(np.array([0, 1, 2]), np.array([0, 0, 0])))\n",
    "    0.33\n",
    "    \"\"\"\n",
    "    \n",
    "    wins = []\n",
    "    winpercentage = []\n",
    "    for i in range(len(guesses)):\n",
    "        if guesses[i]==prizedoors[i]:\n",
    "            wins.append(1)\n",
    "        else:\n",
    "            wins.append(0)\n",
    "    winpercentage=round(sum(wins)/len(guesses),2)\n",
    "    return winpercentage\n",
    "\n",
    "if __name__ == '__main__':\n",
    "    print(win_percentage([0, 1, 2], [0, 0, 0]))\n",
    "    print(win_percentage([0, 1, 2], [0, 1, 2]))\n",
    "    print(win_percentage([1, 2, 1], [1, 1, 1]))"
   ]
  },
  {
   "cell_type": "markdown",
   "metadata": {},
   "source": [
    "__질문 1:__\n",
    "\n",
    "- Simplify the code part of the function defined above by using list comprehension. \n",
    "- Remember that you may use sum() function to add up the list elements. For example, `sum([ 0, 1, 1, 0, 1, 0, 0, 0 ])` returns 3."
   ]
  },
  {
   "cell_type": "code",
   "execution_count": 12,
   "metadata": {},
   "outputs": [
    {
     "name": "stdout",
     "output_type": "stream",
     "text": [
      "0.33\n",
      "1.0\n",
      "0.67\n"
     ]
    }
   ],
   "source": [
    "def win_percentage(guesses, prizedoors):\n",
    "    return round(sum([1 if guesses[i]==prizedoors[i] else 0  for i in range(len(guesses)) ])/len(guesses),2)\n",
    "    \n",
    "if __name__ == '__main__':\n",
    "    print(win_percentage([0, 1, 2], [0, 0, 0]))\n",
    "    print(win_percentage([0, 1, 2], [0, 1, 2]))\n",
    "    print(win_percentage([1, 2, 1], [1, 1, 1]))    "
   ]
  },
  {
   "cell_type": "markdown",
   "metadata": {},
   "source": [
    "# Step 7 - The final step: \n",
    "Now, put it together. Simulate (nsim=1000) games where contestant keeps his original guess versus where the contestant switches his door after a  goat door is revealed. \n",
    "\n",
    "Compute the percentage of time the contestant wins under either strategy. Is one strategy better than the other?\n",
    "\n",
    "__A sample run:__\n",
    "```\n",
    "Winning Rate with the original guess: 0.324\n",
    "Winning Rate with the switched guess: 0.647\n",
    "```"
   ]
  },
  {
   "cell_type": "code",
   "execution_count": 13,
   "metadata": {},
   "outputs": [
    {
     "name": "stdout",
     "output_type": "stream",
     "text": [
      "Winning Rate with the original guess: 0.33\n",
      "Winning Rate with the switched guess: 0.67\n"
     ]
    }
   ],
   "source": [
    "#%%file MontyHall.py\n",
    "# MontyFall.py\n",
    "# CrushPython - MontyHall\n",
    "def win_percentage(guesses, prizedoors):\n",
    "    return sum([1 if guesses[i]==prizedoors[i] else 0  for i in range(len(guesses)) ])/len(guesses)\n",
    "nsim = 1000\n",
    "#keep original guess each time for nsim times\n",
    "prizedoor=simulate_prizedoor(nsim)\n",
    "guess=simulate_guess(nsim)\n",
    "\n",
    "\n",
    "print(\"Winning Rate with the original guess:\", win_percentage(guess, prizedoor))\n",
    "\n",
    "#switch everytime for nsim\n",
    "goatdoor=goat_door(prizedoor, guess)\n",
    "switchguess=switch_guess(guess, goatdoor)\n",
    "\n",
    "print(\"Winning Rate with the switched guess:\", win_percentage(switchguess, prizedoor))"
   ]
  },
  {
   "cell_type": "markdown",
   "metadata": {},
   "source": [
    "# Step Challenge: Plot the simulation process. \n",
    "\n",
    "(1) As the number of simulation increases, the winning rate converges as we computed above. In the plot, the x-axis is the number of simulation, and the y-axis the winning rate.\n",
    "\n",
    "__A sample run:__   \n",
    "<center><img src=\"https://github.com/idebtor/KMOOC-ML/blob/master/ipynb/images/joyai/montyhall_plot.png?raw=true\" width=\"400\">\n",
    "<center>Monty Hall problem winning rate simulation</center>"
   ]
  },
  {
   "cell_type": "code",
   "execution_count": 14,
   "metadata": {},
   "outputs": [
    {
     "data": {
      "text/plain": [
       "<matplotlib.legend.Legend at 0x7fc3b845b8b0>"
      ]
     },
     "execution_count": 14,
     "metadata": {},
     "output_type": "execute_result"
    },
    {
     "data": {
      "image/png": "[encoded data removed]",
      "text/plain": [
       "<Figure size 432x288 with 1 Axes>"
      ]
     },
     "metadata": {
      "needs_background": "light"
     },
     "output_type": "display_data"
    }
   ],
   "source": [
    "#%%file MontyHallPlot.py\n",
    "# MontyFallPlot.py\n",
    "# CrushPython - MontyHall\n",
    "\n",
    "%matplotlib inline\n",
    "import matplotlib.pyplot as plot\n",
    "\n",
    "nsim = 1000    \n",
    "win_rate_keep = []\n",
    "win_rate_swap = []\n",
    "for i in range(1,nsim+1):\n",
    "    prizedoor=simulate_prizedoor(i)\n",
    "    guess=simulate_guess(i)\n",
    "    goatdoor=goat_door(prizedoor, guess)\n",
    "    switchguess=switch_guess(guess, goatdoor)\n",
    "    win_rate_keep.append(win_percentage(guess, prizedoor))\n",
    "    win_rate_swap.append(win_percentage(switchguess, prizedoor))\n",
    "\n",
    "\n",
    "plot.plot([x for x in range(1, nsim + 1)], win_rate_keep, label='Original Guess')   \n",
    "plot.plot([x for x in range(1, nsim + 1)], win_rate_swap, label='Switched Guess')   \n",
    "plot.title(\"Winning Rate Plot\")\n",
    "plot.xlabel(\"Number of Simulation\")\n",
    "plot.ylabel(\"Winning Percentage\")\n",
    "plot.legend() "
   ]
  },
  {
   "cell_type": "markdown",
   "metadata": {},
   "source": [
    "(2) Another way of plotting is to plot the sorted list of the results as shown below. As we observe the plot, the winning rates are pretty much stable (or consistant) during the most of the time. \n",
    "\n",
    "__A sample run:__\n",
    "<center><img src=\"https://github.com/idebtor/KMOOC-ML/blob/master/ipynb/images/joyai/montyhall_plot2.png?raw=true\" width=\"400\">\n",
    "<center>Monty Hall problem winning rate simulation</center>"
   ]
  },
  {
   "cell_type": "code",
   "execution_count": 15,
   "metadata": {},
   "outputs": [
    {
     "data": {
      "text/plain": [
       "<matplotlib.legend.Legend at 0x7fc3985fc5b0>"
      ]
     },
     "execution_count": 15,
     "metadata": {},
     "output_type": "execute_result"
    },
    {
     "data": {
      "image/png": "[encoded data removed]",
      "text/plain": [
       "<Figure size 432x288 with 1 Axes>"
      ]
     },
     "metadata": {
      "needs_background": "light"
     },
     "output_type": "display_data"
    }
   ],
   "source": [
    "# your code here\n",
    "win_rate_keep.sort()\n",
    "win_rate_swap.sort()\n",
    "plot.plot([x for x in range(1, nsim + 1)], win_rate_keep, label='Original Guess')   \n",
    "plot.plot([x for x in range(1, nsim + 1)], win_rate_swap, label='Switched Guess')\n",
    "\n",
    "plot.title(\"Winning Rate Plot\")\n",
    "plot.xlabel(\"Number of Simulation\")\n",
    "plot.ylabel(\"Winning Percentage\")\n",
    "plot.legend() "
   ]
  },
  {
   "cell_type": "markdown",
   "metadata": {},
   "source": [
    "# Congratulations!\n",
    "\n",
    "# Fianl Note:\n",
    "Many people find this answer counter-intuitive (famously, PhD mathematicians have incorrectly claimed the result must be wrong. Clearly, none of them knew Python). \n",
    "\n",
    "One of the best ways to build intuition about why opening a Goat door affects the odds is to re-run the experiment with 100 doors and one prize. If the game show host opens 98 goat doors after you make your initial selection, would you want to keep your first pick or switch? Can you generalize your simulation code to handle the case of `n` doors?"
   ]
  },
  {
   "cell_type": "markdown",
   "metadata": {},
   "source": [
    "# 참고자료\n",
    "\n",
    "- [위키피디아](https://ko.wikipedia.org/wiki/%EB%AA%AC%ED%8B%B0_%ED%99%80_%EB%AC%B8%EC%A0%9C)\n",
    "- [나무위키](https://namu.wiki/w/%EB%AA%AC%ED%8B%B0%20%ED%99%80%20%EB%AC%B8%EC%A0%9C)"
   ]
  },
  {
   "cell_type": "markdown",
   "metadata": {},
   "source": [
    "-----\n",
    "God has saved us and called us to a holy life - not because of anythin we have done but because of his own purpose and grace. This grace was given us in Christ Jesus before the beginning of time. (1Tim1:9)\n",
    "\n",
    "하나님이 우리를 구원하사 거룩하신 소명으로 부르심은 우리의 행위대로 하심이 아니요 오직 자기 뜻과 영원 전부터 그리스도 예수 안에서 우리에게 주신 은혜대로 하심이라. (딤후1:9)"
   ]
  }
 ],
 "metadata": {
  "kernelspec": {
   "display_name": "Python 3 (ipykernel)",
   "language": "python",
   "name": "python3"
  },
  "language_info": {
   "codemirror_mode": {
    "name": "ipython",
    "version": 3
   },
   "file_extension": ".py",
   "mimetype": "text/x-python",
   "name": "python",
   "nbconvert_exporter": "python",
   "pygments_lexer": "ipython3",
   "version": "3.9.12"
  }
 },
 "nbformat": 4,
 "nbformat_minor": 4
}
