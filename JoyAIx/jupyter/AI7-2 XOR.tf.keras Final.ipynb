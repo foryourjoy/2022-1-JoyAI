{
 "cells": [
  {
   "cell_type": "markdown",
   "metadata": {
    "id": "rcAcnQUW1yXp"
   },
   "source": [
    "보혜사 곧 아버지께서 내 이름으로 보내실 성령 그가 너희에게 모든 것을 가르치고 내가 너희에게 말한 모든 것을 생각나게 하리라\n",
    "평안을 너희에게 끼치노니 곧 나의 평안을 너희에게 주노라 내가 너희에게 주는 것은 세상이 주는 것과 같지 아니하니라 너희는 마음에 근심하지도 말고 두려워하지도 말라 (요14:26-27)\n",
    "\n",
    "-------\n",
    "\n",
    "\n",
    "<center><img src=\"https://github.com/idebtor/KMOOC-ML/blob/master/ipynb/images/joyai/LectureNotes_ML.png?raw=true\" width=1000></center>\n",
    "\n",
    "__NOTE:__ The following materials have been compiled and adapted from the numerous sources including my own. Please help me to keep this tutorial up-to-date by reporting any issues or questions. Send any comments or criticisms to `idebtor@gmail.com` Your assistances and comments will be appreciated."
   ]
  },
  {
   "cell_type": "markdown",
   "metadata": {
    "id": "vULE2fZtMl4A"
   },
   "source": [
    "On my honour, I pledge that I have neither received nor provided improper assistance  \n",
    "in the completion of this assignment.  \n",
    "Signed: 최윤영 Student Number: 22100748   "
   ]
  },
  {
   "cell_type": "markdown",
   "metadata": {
    "id": "h5JnqIOQ1yXr"
   },
   "source": [
    "<b style=\"font-size:30px\"> 신경망을 내 손으로 만져보기 </b>   \n",
    "<b style=\"font-size:24px\"> 제 2 강 XOR 인공신경망(tf.keras)</b>"
   ]
  },
  {
   "cell_type": "markdown",
   "metadata": {
    "id": "6v3m1mcz1yXs"
   },
   "source": [
    "2000년대에 들어서면서 인공 신경망은 2012년 ILSVRC2012 대회에서 인공 신경망을 깊게 쌓은 딥러닝 모델인 AlexNet이 압도적인 성적으로 우승하면서 다시금 주목받게 되었습니다. 이렇게 인공 신경망에 기반을 둔 딥러닝이 다시 주목받게 된 계기가 되었습니다. \n",
    "\n",
    "인공 지능의 발전사에서 약간의 의미가 있었던 XOR 문제는 이제 어렵지 않게 풀어볼 수 있게 되었습니다. 여기서는 텐서플로를 이용하여 이 문제에 접근하도록 하겠습니다. \n",
    "\n",
    "__텐서플로__   \n",
    "텐서플로는 구글이 만든 딥러닝 라이브러리로 매우 인기가 좋습니다. CPU와 GPU를 사용해 인공신경망 모델을 ㅎ율적으로 훈련하며 모델 구축가 서비스에 필요한 다양한 도구를 제공합니다. \n",
    "\n",
    "텐서플로 2.0부터는 신경망 모델을 빠르게 구성할 수 있는 케라스(Keras)를 핵심 API로 제공합니다. 케라스를 사용하면 간단한 모델에서 아주 복잡한 모델까지 손쉽게 만들 수 있습니다. "
   ]
  },
  {
   "cell_type": "markdown",
   "metadata": {
    "id": "0hQfOnXF1yXs"
   },
   "source": [
    "# XOR 연산 다층 신경망을 텐서플로로 다루기\n",
    "\n",
    "\n",
    "<center><img src=\"https://github.com/idebtor/KMOOC-ML/blob/master/ipynb/images/joyai/ai4all-xor.png?raw=true\" width=\"500\"></center>\n",
    "<center>그림 1:  XOR 연산을 위한 다층 인공 신경망</center>\n"
   ]
  },
  {
   "cell_type": "markdown",
   "metadata": {
    "id": "fTVXuttB1yXs"
   },
   "source": [
    "텐서플로를 주피터 노트북 내에서 사용하려면, 텐서플로 라이브러리를 import해야 합니다. \n",
    "- tensorflow을 import하면, __tensorflow__라는 긴 이름을 대신 짧은 이름 __tf__를 사용할 수 있도록 다음과 같이 import하고, version도 체크할 수 있습니다. tensorflow는 2.x 버전을 사용합니다. "
   ]
  },
  {
   "cell_type": "code",
   "execution_count": 2,
   "metadata": {
    "colab": {
     "base_uri": "https://localhost:8080/"
    },
    "executionInfo": {
     "elapsed": 5767,
     "status": "ok",
     "timestamp": 1652843677550,
     "user": {
      "displayName": "학부생최윤영",
      "userId": "02158530607889890659"
     },
     "user_tz": -540
    },
    "id": "njO_BEZ91yXt",
    "outputId": "7366586c-ec86-4cb9-b7a5-5fb2942adac5"
   },
   "outputs": [
    {
     "name": "stdout",
     "output_type": "stream",
     "text": [
      "2.8.0\n"
     ]
    }
   ],
   "source": [
    "import tensorflow as tf\n",
    "print(tf.__version__)"
   ]
  },
  {
   "cell_type": "markdown",
   "metadata": {
    "id": "vmzNsCrU1yXu"
   },
   "source": [
    "XOR 연산을 위한 2단의 Dense Layer로 구성하였습니다. Dense는 기본적인 레이어로, 입력과 출력 사이에 있는 모든 뉴런이 서로 연결되어 있는 레이어입니다. Dense Layer는 아래와 같이 선언이 가능합니다.\n",
    "\n",
    "```\n",
    "tf.keras.layers.Dense()\n",
    "```\n",
    "\n",
    "__Dense(밀집층):__  \n",
    "밀집층은 가장 간단한 인공신경망 층(layer)입니다. 인공신경망에는 여러 종류의 층이 있습니다. 밀집층에서는 뉴론들이 모두 연결되어 있기 때문에 __완전 연결 층__ (fully connected layer)이라고도 부릅니다. 특별히 밀집층을 사용할 때는 분류하려는 클래스와 동일한 개수의 뉴론을 사용합니다. \n",
    "\n",
    "각각의 Layer는 순차적으로 배치되어있습니다. 이를 Sequential 신경망이라고 합니다. 이것은 아래와 같이 선언합니다.\n",
    "```\n",
    "tf.keras.Sequential()\n",
    "```\n",
    "\n",
    "__Sequential:__    \n",
    "씨퀜셜은 케라스에서 신경망을 만드는 모델입니다.   \n",
    "이 클래스의 객채를 생성할 때, 신경망 모델에 추가할 층을 지정할 수 있습니다. 추가할 층이 한 개이상일 경우 파이썬 리스트로 전달합니다. \n",
    "\n",
    "여기서는 Sequential() Dense Layer를 2층으로 쌓도록 합니다."
   ]
  },
  {
   "cell_type": "code",
   "execution_count": 13,
   "metadata": {
    "executionInfo": {
     "elapsed": 265,
     "status": "ok",
     "timestamp": 1652841732810,
     "user": {
      "displayName": "학부생최윤영",
      "userId": "02158530607889890659"
     },
     "user_tz": -540
    },
    "id": "fv6B3nZn-8Un"
   },
   "outputs": [],
   "source": [
    "from keras.layers import LeakyReLU\n",
    "act = LeakyReLU(alpha = 0.3)"
   ]
  },
  {
   "cell_type": "code",
   "execution_count": 16,
   "metadata": {
    "executionInfo": {
     "elapsed": 356,
     "status": "ok",
     "timestamp": 1652841780057,
     "user": {
      "displayName": "학부생최윤영",
      "userId": "02158530607889890659"
     },
     "user_tz": -540
    },
    "id": "yfq7g9Ad1yXu"
   },
   "outputs": [],
   "source": [
    "model = tf.keras.Sequential([ \n",
    "    #tf.keras.layers.Dense(4, activation='sigmoid',input_shape=(2,)), \n",
    "    tf.keras.layers.Dense(units=4, activation=act,input_dim=2),\n",
    "    tf.keras.layers.Dense(1, activation='sigmoid') \n",
    "])\n"
   ]
  },
  {
   "cell_type": "markdown",
   "metadata": {
    "id": "YD-BuwU_1yXv"
   },
   "source": [
    "순차적인 신경망안에 두개의 Dense Layer를 배치하고, 첫번째 Dense Layer는 2개의 뉴런을 선언하였고, 각 뉴런은 sigmoid를 활성화 함수로 사용하도록 설정합니다. 입력 값은 두개이므로 모양이 (2,) 모양입니다. 두번째 Dense Layer는 1개의 뉴런을 선언합니다. "
   ]
  },
  {
   "cell_type": "markdown",
   "metadata": {
    "id": "c1tv3XEy1yXv"
   },
   "source": [
    "sigmoid 함수는 실수 입력을 받아 0와 1사이의 출력으로 변환하며, tanh는 삼각함수 중 탄젠트 함수와 연관이 있으며 실수 입력을 받아 -1과 1 사이의 출력을 반환합니다.\n",
    "\n",
    "다음과 같은 다양한 활성화 함수를 참조하십시오.\n",
    "\n",
    "<center><img src=\"https://github.com/idebtor/KMOOC-ML/blob/master/ipynb/images/joyai/activation_functions.png?raw=true\" width=\"600\"></center>\n",
    "<center>그림 2: 다양한 활성화 함수들</center>"
   ]
  },
  {
   "cell_type": "markdown",
   "metadata": {
    "id": "F31jgDKy1yXv"
   },
   "source": [
    "XOR연산이므로, 입력 x와 출력(레이블, 타깃) y값은 다음과 같습니다."
   ]
  },
  {
   "cell_type": "code",
   "execution_count": 4,
   "metadata": {
    "executionInfo": {
     "elapsed": 289,
     "status": "ok",
     "timestamp": 1652843696540,
     "user": {
      "displayName": "학부생최윤영",
      "userId": "02158530607889890659"
     },
     "user_tz": -540
    },
    "id": "fIhQk_Sn1yXw"
   },
   "outputs": [],
   "source": [
    "import numpy as np\n",
    "\n",
    "x = np.array([[1, 1], [1, 0], [0, 1], [0, 0]]) \n",
    "y = np.array([[0], [1], [1], [0]])"
   ]
  },
  {
   "cell_type": "markdown",
   "metadata": {
    "id": "1TbVkSZj1yXw"
   },
   "source": [
    "__compile()__  \n",
    "\n",
    "compile()은 모델 객체를 만든 후 훈련하기 전에 사용할 최적화 함수(optimizaer) 곧 손실 함수와 측정 지표 등을 지정하는 메소드입니다. loss 매개변수에 손실 함수를 지정하는 방식입니다.   \n",
    "\n",
    "분류 문제에는 크로스 엔트로피(Cross Entropy)를 사용하며, 선형 회귀에서는 제곱오차(mse: Mean Squared Error)를 사용합니다. \n",
    "\n",
    "- 이진 분류를 위한 손실함수로는 `binary_crossentropy`를 사용하며, \n",
    "- 다중 분류를 위해서는 `categorical_crossentropy`를 사용하며, \n",
    "- 클래스 레이블이 정수일 경우 `sparse_categorical_crossentropy`로 지정합니다. \n",
    "\n",
    "회귀 모델일 경우, `mse`, `mean_squared_error` 등을 지정할 수 있습니다. \n",
    "여기 예제는, `mse`, `mean_squared_error` 혹은 `binary_corssentropy` 모두 사용 가능합니다. \n",
    "\n",
    "`metrics` 매개변수에 훈련 과정에서 측정하고 싶은 지표를 지정할 수 있습니다. 측정 지표가 한 개 이상일 경우 리스트로 전달합니다. "
   ]
  },
  {
   "cell_type": "code",
   "execution_count": 11,
   "metadata": {
    "executionInfo": {
     "elapsed": 370,
     "status": "ok",
     "timestamp": 1652843934399,
     "user": {
      "displayName": "학부생최윤영",
      "userId": "02158530607889890659"
     },
     "user_tz": -540
    },
    "id": "7g20oZF01yXw"
   },
   "outputs": [],
   "source": [
    "model.compile(\n",
    "    optimizer = tf.keras.optimizers.SGD(learning_rate=0.1), # 'adam', 'sgd', ...\n",
    "    loss = 'mse',                                           # 'mean_squared_error' 'binary_crossentropy'\n",
    "    metrics = ['accuracy'])"
   ]
  },
  {
   "cell_type": "markdown",
   "metadata": {
    "id": "iYNULVg51yXw"
   },
   "source": [
    "tf.keras에서는 다양한 최적화 함수와 손실 함수를 제공합니다. \n",
    "\n",
    "그 중에서도 SGD(Stochastic Gradient Descent)는 확률적 경사 하강법이라고 합니다. 경사 하강법은 앞선 포스팅에서 설명하였고, 이 경사 하강법을 한번에 계산(전체 데이터세트를 사용)하지 않고 확률을 이용하여 부분적으로 나눠서 계산을 한다는 의미입니다. Keras는 디폴트로  옵티마이저로 `adam`을 사용합니다. "
   ]
  },
  {
   "cell_type": "markdown",
   "metadata": {
    "id": "JUnDLSJV1yXw"
   },
   "source": [
    "__SGD(Stochastic Gradient Descent):__ 확률적 경사하강법\n",
    "\n",
    "- 기존의 경사 하강법은 데이터세트의 크기가 너무 커지면 계산이 오래 걸리는 단점이 있었습니다.\n",
    "- SGD는 반복당 하나의 데이터(Batch=1)만을 사용하여 적은 계산으로 기울기를 얻어내는 방식입니다.\n",
    "- 단점: 반복이 충분하면 효과는 좋지만, 노이즈가 심합니다. 최저점을 찾는다는 보장이 없습니다. 가능성만 높을 뿐입니다.\n",
    "- 위의 단점을 극복하기 위해서 __미니 배치 SGD__ 가 있습니다. 배치를 너무 크게도 너무 작게도 잡지 않고 SGD보다 노이즈는 적게, 일반 경사 하강법보다는 효율적으로 찾는 방식입니다. "
   ]
  },
  {
   "cell_type": "markdown",
   "metadata": {
    "id": "Wnz4r-BN1yXx"
   },
   "source": [
    "최적화 함수 SGD(확률적 경사하강법)외에 다음과 같은 다양한 최적화 함수들도 참고하십시오. \n",
    "\n",
    "<center><img src=\"https://github.com/idebtor/KMOOC-ML/blob/master/ipynb/images/joyai/optimizers.png?raw=true\" width=\"500\"></center>\n",
    "<center>그림 3: 다양한 최적화 함수들(출처: 하용호, \"자습해도 모르겠던 딥러닝\"</center>"
   ]
  },
  {
   "cell_type": "markdown",
   "metadata": {
    "id": "D19ZYVe71yXx"
   },
   "source": [
    "손실 함수(Loss Function)은 RMSE의 제곱인 MSE를 사용하기로 합니다.\n",
    "\n",
    "아래와 같이, summary() 메소드를 사용하여 형성된 신경망의 구조를 살펴볼 수 있습니다."
   ]
  },
  {
   "cell_type": "code",
   "execution_count": 12,
   "metadata": {
    "colab": {
     "base_uri": "https://localhost:8080/"
    },
    "executionInfo": {
     "elapsed": 278,
     "status": "ok",
     "timestamp": 1652843937219,
     "user": {
      "displayName": "학부생최윤영",
      "userId": "02158530607889890659"
     },
     "user_tz": -540
    },
    "id": "tIa_49h61yXx",
    "outputId": "2438ea11-90fe-4cd1-be4f-c21dfc82fb14"
   },
   "outputs": [
    {
     "name": "stdout",
     "output_type": "stream",
     "text": [
      "Model: \"sequential_1\"\n",
      "_________________________________________________________________\n",
      " Layer (type)                Output Shape              Param #   \n",
      "=================================================================\n",
      " dense_2 (Dense)             (None, 64)                192       \n",
      "                                                                 \n",
      " dense_3 (Dense)             (None, 64)                4160      \n",
      "                                                                 \n",
      " dense_4 (Dense)             (None, 1)                 65        \n",
      "                                                                 \n",
      "=================================================================\n",
      "Total params: 4,417\n",
      "Trainable params: 4,417\n",
      "Non-trainable params: 0\n",
      "_________________________________________________________________\n"
     ]
    }
   ],
   "source": [
    "model.summary()"
   ]
  },
  {
   "cell_type": "markdown",
   "metadata": {
    "id": "5tY3oBil1yXx"
   },
   "source": [
    "파라미터는 첫번째 Layer에서 입력값에 가중치가 곱해지고 편향이 더해져서 은닉층의 각 노드에 3개의 파라미터가 전달되어 총 6개입니다. 두번째 Layer에서는 첫 Layer에서 나온 출력 값 두개와 편향을 합쳐서 총 3개의 값이 두번째 층에 전달되어 결과적으로 하나의 출력(예측) 값이 나오게 됩니다."
   ]
  },
  {
   "cell_type": "markdown",
   "metadata": {
    "id": "Y6CwrNIS1yXx"
   },
   "source": [
    "__model.fit()__\n",
    "\n",
    "model.fit은 모델을 실제로 학습하는 단계입니다.\n",
    "\n",
    "첫 번째에 입력 데이터(x), 두번 째 매개변수에 레이블(타겟 데이터), 기대 출력(y)을 넣고 epoch(전체 데이터셋에 대한 학습 반복 횟수)와 batch_size(훈련 데이터의 수)를 정합니다."
   ]
  },
  {
   "cell_type": "code",
   "execution_count": 13,
   "metadata": {
    "colab": {
     "base_uri": "https://localhost:8080/"
    },
    "executionInfo": {
     "elapsed": 3218,
     "status": "ok",
     "timestamp": 1652843945399,
     "user": {
      "displayName": "학부생최윤영",
      "userId": "02158530607889890659"
     },
     "user_tz": -540
    },
    "id": "RT9c3kRz1yXx",
    "outputId": "7c1f4cdb-c682-4d1f-eccb-ec021d942b16"
   },
   "outputs": [
    {
     "name": "stdout",
     "output_type": "stream",
     "text": [
      "1/1 [==============================] - 0s 106ms/step - loss: 0.2500 - accuracy: 0.2500\n",
      "[0.25, 0.25]\n"
     ]
    }
   ],
   "source": [
    "history = model.fit(x, y, epochs = 1000, batch_size = 4, verbose = 0)\n",
    "print(model.evaluate(x, y))"
   ]
  },
  {
   "cell_type": "markdown",
   "metadata": {
    "id": "oip5QFpE1yXx"
   },
   "source": [
    "학습을 진행하면 위와 같은 출력이 나오며, 손실 값을 알려줍니다. 손실 값은 학습을 진행할수록 0에 가까워지는 것을 확인할 수 있습니다.\n",
    "\n",
    "__model.predict()__  \n",
    "\n",
    "이제 제대로 학습이 되었는지 확인해봅니다. 아래의 코드를 통해서 x에 대한 예측 값을 출력 받을 수 있습니다."
   ]
  },
  {
   "cell_type": "code",
   "execution_count": 8,
   "metadata": {
    "colab": {
     "base_uri": "https://localhost:8080/",
     "height": 259
    },
    "executionInfo": {
     "elapsed": 692,
     "status": "error",
     "timestamp": 1652843713592,
     "user": {
      "displayName": "학부생최윤영",
      "userId": "02158530607889890659"
     },
     "user_tz": -540
    },
    "id": "0JxxiAVm1yXy",
    "outputId": "69537c40-8b1e-4915-b31b-40c0a3e5322b"
   },
   "outputs": [
    {
     "name": "stdout",
     "output_type": "stream",
     "text": [
      "[[0.5000424 ]\n",
      " [0.4999888 ]\n",
      " [0.49998936]\n",
      " [0.49993578]]\n"
     ]
    },
    {
     "ename": "AttributeError",
     "evalue": "ignored",
     "output_type": "error",
     "traceback": [
      "\u001b[0;31m---------------------------------------------------------------------------\u001b[0m",
      "\u001b[0;31mAttributeError\u001b[0m                            Traceback (most recent call last)",
      "\u001b[0;32m<ipython-input-8-104bcbf48f8e>\u001b[0m in \u001b[0;36m<module>\u001b[0;34m()\u001b[0m\n\u001b[1;32m      1\u001b[0m \u001b[0mprint\u001b[0m\u001b[0;34m(\u001b[0m\u001b[0mmodel\u001b[0m\u001b[0;34m.\u001b[0m\u001b[0mpredict\u001b[0m\u001b[0;34m(\u001b[0m\u001b[0mx\u001b[0m\u001b[0;34m)\u001b[0m\u001b[0;34m)\u001b[0m\u001b[0;34m\u001b[0m\u001b[0;34m\u001b[0m\u001b[0m\n\u001b[0;32m----> 2\u001b[0;31m \u001b[0mprint\u001b[0m\u001b[0;34m(\u001b[0m\u001b[0mmodel\u001b[0m\u001b[0;34m.\u001b[0m\u001b[0mpredict_classes\u001b[0m\u001b[0;34m(\u001b[0m\u001b[0mx\u001b[0m\u001b[0;34m)\u001b[0m\u001b[0;34m)\u001b[0m\u001b[0;34m\u001b[0m\u001b[0;34m\u001b[0m\u001b[0m\n\u001b[0m",
      "\u001b[0;31mAttributeError\u001b[0m: 'Sequential' object has no attribute 'predict_classes'"
     ]
    }
   ],
   "source": [
    "print(model.predict(x))\n",
    "print(model.predict_classes(x))"
   ]
  },
  {
   "cell_type": "code",
   "execution_count": 9,
   "metadata": {
    "colab": {
     "base_uri": "https://localhost:8080/"
    },
    "executionInfo": {
     "elapsed": 263,
     "status": "ok",
     "timestamp": 1652843715712,
     "user": {
      "displayName": "학부생최윤영",
      "userId": "02158530607889890659"
     },
     "user_tz": -540
    },
    "id": "4T-XR8sE1yXy",
    "outputId": "5fdf6e1f-40c3-4731-ee77-5f964c775139"
   },
   "outputs": [
    {
     "name": "stdout",
     "output_type": "stream",
     "text": [
      "[[0.5000424 ]\n",
      " [0.4999888 ]\n",
      " [0.49998936]\n",
      " [0.49993578]]\n",
      "[[1]\n",
      " [0]\n",
      " [0]\n",
      " [0]]\n"
     ]
    }
   ],
   "source": [
    "# 다음과 같은 코드를 사용하면 경고(predict_classes) 메시지를 피할 수 있습니다. \n",
    "print(model.predict(x))    \n",
    "print((model.predict(x) > 0.5).astype(\"int32\"))"
   ]
  },
  {
   "cell_type": "markdown",
   "metadata": {
    "id": "7EERxHvW1yXy"
   },
   "source": [
    "정답은 0, 1, 1, 0 순서입니다. 각각 0과 1에 해당하는 수에 가깝게 나오고 있는것을 확인 할 수 있습니다. 이는 학습을 더 많이 할수록 더 정답에 해당하는 수치로 갈것 입니다."
   ]
  },
  {
   "cell_type": "markdown",
   "metadata": {
    "id": "wwD-PS5K1yXy"
   },
   "source": [
    "이제는 `model.weights`에 저장되어 있는 가중치와 편향 값을 확인해봅니다. \n",
    "\n",
    "입력과 레이어 또는 레이어 사이의 뉴런을 연결할 때 사용되는 가중치는 kernel이고, 편향과 연결된 가중치는 bias로 표시됩니다. 보통 네트워크의 가중치 숫자가 많기 때문에 구분을 위해 편의상 가중치에 첨자를 붙여서 표시합니다. 레이어의 순서대로 위첨자를 붙이고, 아래첨자는 각 뉴런의 순서에 맞게 차례로 붙입니다. \n",
    "\n",
    "그런데, 여기서, 뉴런의 개수가 3개, 레이어 개수가 2개뿐이지만, 이 가중치들이 무슨 일을 하는지 한눈에 잘 들어오지 않습니다. 뉴런과 레이어가 많아지면 이 문제는 더욱 커집니다."
   ]
  },
  {
   "cell_type": "code",
   "execution_count": 35,
   "metadata": {
    "colab": {
     "base_uri": "https://localhost:8080/"
    },
    "executionInfo": {
     "elapsed": 265,
     "status": "ok",
     "timestamp": 1652841556163,
     "user": {
      "displayName": "학부생최윤영",
      "userId": "02158530607889890659"
     },
     "user_tz": -540
    },
    "id": "ngkDVTI_1yXy",
    "outputId": "5d21ec56-7c55-4993-9f87-f4e1e708c20d"
   },
   "outputs": [
    {
     "name": "stdout",
     "output_type": "stream",
     "text": [
      "<tf.Variable 'dense_6/kernel:0' shape=(2, 4) dtype=float32, numpy=\n",
      "array([[-0.03344126,  1.2592262 ,  0.93156624, -2.2956104 ],\n",
      "       [-0.42725986, -0.80177873, -1.8870233 , -2.5697982 ]],\n",
      "      dtype=float32)>\n",
      "<tf.Variable 'dense_6/bias:0' shape=(4,) dtype=float32, numpy=array([-0.26188406,  0.32899752, -0.77571934,  0.02398918], dtype=float32)>\n",
      "<tf.Variable 'dense_7/kernel:0' shape=(4, 1) dtype=float32, numpy=\n",
      "array([[ 0.8375127],\n",
      "       [-0.698787 ],\n",
      "       [ 1.4815865],\n",
      "       [-2.517477 ]], dtype=float32)>\n",
      "<tf.Variable 'dense_7/bias:0' shape=(1,) dtype=float32, numpy=array([0.12854311], dtype=float32)>\n"
     ]
    }
   ],
   "source": [
    "for weight in model.weights: \n",
    "    print(weight)"
   ]
  },
  {
   "cell_type": "markdown",
   "metadata": {
    "id": "xvq00vNn1yXy"
   },
   "source": [
    "네트워크의 학습 상황을 더 잘 파악할 수 있는 방법으로 가중치를 살펴보는 것보다는 다음과 같이 손실이나 정확도를 시각화하는 것이 바람직합니다. "
   ]
  },
  {
   "cell_type": "code",
   "execution_count": 27,
   "metadata": {
    "colab": {
     "base_uri": "https://localhost:8080/",
     "height": 295
    },
    "executionInfo": {
     "elapsed": 323,
     "status": "ok",
     "timestamp": 1652842722414,
     "user": {
      "displayName": "학부생최윤영",
      "userId": "02158530607889890659"
     },
     "user_tz": -540
    },
    "id": "cyJdU2fH1yXy",
    "outputId": "85ba228a-2af8-4ba0-bddf-14aad777c87d"
   },
   "outputs": [
    {
     "data": {
      "image/png": "[encoded data removed]",
      "text/plain": [
       "<Figure size 432x288 with 1 Axes>"
      ]
     },
     "metadata": {
      "needs_background": "light"
     },
     "output_type": "display_data"
    }
   ],
   "source": [
    "import matplotlib.pyplot as plt\n",
    "\n",
    "plt.plot(history.history['loss'])\n",
    "plt.title('Model Loss')\n",
    "plt.xlabel('Epoch')\n",
    "plt.ylabel('Loss')\n",
    "plt.show()"
   ]
  },
  {
   "cell_type": "code",
   "execution_count": 28,
   "metadata": {
    "colab": {
     "base_uri": "https://localhost:8080/",
     "height": 295
    },
    "executionInfo": {
     "elapsed": 278,
     "status": "ok",
     "timestamp": 1652842724555,
     "user": {
      "displayName": "학부생최윤영",
      "userId": "02158530607889890659"
     },
     "user_tz": -540
    },
    "id": "mM70loCV1yXy",
    "outputId": "cff7b418-4722-4f51-aa9c-26309fbab5a1"
   },
   "outputs": [
    {
     "data": {
      "image/png": "[encoded data removed]",
      "text/plain": [
       "<Figure size 432x288 with 1 Axes>"
      ]
     },
     "metadata": {
      "needs_background": "light"
     },
     "output_type": "display_data"
    }
   ],
   "source": [
    "plt.plot(history.history['accuracy'])\n",
    "plt.title('Model Accuracy')\n",
    "plt.xlabel('Epoch')\n",
    "plt.ylabel('Model Accuracy')\n",
    "plt.show()"
   ]
  },
  {
   "cell_type": "markdown",
   "metadata": {
    "id": "f858Eo3B1yXy"
   },
   "source": [
    "# Your final exam begins here"
   ]
  },
  {
   "cell_type": "markdown",
   "metadata": {
    "id": "8Lb-nr9N1yXy"
   },
   "source": [
    "## Tweaking the model and describe your observation\n",
    "\n",
    "    - Observe the training performance of the model, accuracies and time (speed) of the convergence and so on.\n",
    "    - 아래와 같은 실험을 하고, 위의 모델과 비교하거나 관찰한 것들을 각 문제당 최소 3개부터 최대 6개까지 각 항목을 개조식으로 작성하십시오.\n",
    "    \n",
    "### Increase the number of hidden layers and/or nodes "
   ]
  },
  {
   "cell_type": "markdown",
   "metadata": {
    "id": "2DUErsv18cDr"
   },
   "source": [
    "- layer수만 늘리니까 오히려 정확도가 떨어진다.  \n",
    "- node수를 늘리니까 정확도가 올라간다.  \n",
    "- layer와 node수를 동시에 늘리면 정확도가 떨어진다.   \n",
    "- layer수만 증가, layer와 node수 동시 증가 << node수만 증가 (정확도)  "
   ]
  },
  {
   "cell_type": "markdown",
   "metadata": {
    "id": "W0-UXoTH1yXy"
   },
   "source": [
    "### Use two different activation functions for hidden layer\n",
    "\n",
    "Replace the existing with`sigmoid` with either `relu` or`LeakyReLu`. \n",
    "It can be done in keras as follows:\n",
    "```\n",
    "from keras.layers import LeakyReLU\n",
    "act = LeakyReLU(alpha = 0.3)\n",
    "```\n",
    "and modify hidden layer as follows:\n",
    "\n",
    "```\n",
    "model.add(Dense(units=2,activation=act,input_dim=2))\n",
    "```\n",
    "    "
   ]
  },
  {
   "cell_type": "markdown",
   "metadata": {
    "id": "cco0GyHf_3F2"
   },
   "source": [
    "- LeakyReLu 함수의 loss보다 relu함수의 loss가 더 급격하게 떨어진다.   \n",
    "- sigmoid < relu < LeakyReLu (정확도)  \n",
    "- node의 수를 늘려도 정확도는 sigmoid함수가 가장 낮다.  "
   ]
  },
  {
   "cell_type": "markdown",
   "metadata": {
    "id": "n0yYzk2M1yXz"
   },
   "source": [
    "### Use two different optimizers (adam, adagrad) and different batch sizes, 1, 2 or 4\n",
    "\n",
    "\n",
    "Some sample code below are provided for your convenience."
   ]
  },
  {
   "cell_type": "code",
   "execution_count": 13,
   "metadata": {
    "executionInfo": {
     "elapsed": 288,
     "status": "ok",
     "timestamp": 1652842623267,
     "user": {
      "displayName": "학부생최윤영",
      "userId": "02158530607889890659"
     },
     "user_tz": -540
    },
    "id": "iYr07rFF1yXz"
   },
   "outputs": [],
   "source": [
    "model = tf.keras.Sequential([ \n",
    "    tf.keras.layers.Dense(2, activation='relu', input_shape=(2,)), \n",
    "    #tf.keras.layers.Dense(4, activation='relu'), \n",
    "    tf.keras.layers.Dense(1, activation='sigmoid') \n",
    "])"
   ]
  },
  {
   "cell_type": "code",
   "execution_count": 25,
   "metadata": {
    "executionInfo": {
     "elapsed": 347,
     "status": "ok",
     "timestamp": 1652841926197,
     "user": {
      "displayName": "학부생최윤영",
      "userId": "02158530607889890659"
     },
     "user_tz": -540
    },
    "id": "anz6UG4f1yXz"
   },
   "outputs": [],
   "source": [
    "model = tf.keras.Sequential([ \n",
    "    tf.keras.layers.Dense(12, activation='relu', input_shape=(3,)), \n",
    "    tf.keras.layers.Dense(1, activation='sigmoid') \n",
    "])"
   ]
  },
  {
   "cell_type": "code",
   "execution_count": 14,
   "metadata": {
    "executionInfo": {
     "elapsed": 307,
     "status": "ok",
     "timestamp": 1652842626244,
     "user": {
      "displayName": "학부생최윤영",
      "userId": "02158530607889890659"
     },
     "user_tz": -540
    },
    "id": "TeqqwHVa1yXz"
   },
   "outputs": [],
   "source": [
    "model.compile(loss='mean_squared_error',\n",
    "              optimizer='adagrad',\n",
    "              metrics=['accuracy'])"
   ]
  },
  {
   "cell_type": "markdown",
   "metadata": {
    "id": "cBTQJqghFD6n"
   },
   "source": [
    "- batch size가 높아질수록 loss가 일정하게(linear) 감소하고 정확도도 일정하다.  \n",
    "- batch size가 높아지더라도 정확도는 크게 증가하지 않는다.\n",
    "- adam optimizer를 사용했을때가 adagrad optimizer를 사용했을때보다 정확도가 더 높다."
   ]
  },
  {
   "cell_type": "markdown",
   "metadata": {
    "id": "uELtWoC_1yXz"
   },
   "source": [
    "## Is it possible to solve XOR with no activation function at all, using more neurons or layers? \n",
    "\n",
    "- 실험적이거나 이론적인 답의 근거와 이유를 작성하십시오. "
   ]
  },
  {
   "cell_type": "code",
   "execution_count": 10,
   "metadata": {
    "executionInfo": {
     "elapsed": 292,
     "status": "ok",
     "timestamp": 1652843925448,
     "user": {
      "displayName": "학부생최윤영",
      "userId": "02158530607889890659"
     },
     "user_tz": -540
    },
    "id": "o9Isjuch1yXz"
   },
   "outputs": [],
   "source": [
    "model = tf.keras.Sequential([ \n",
    "    tf.keras.layers.Dense(64, activation='linear', input_shape=(2,)), \n",
    "    tf.keras.layers.Dense(64, activation='linear', input_shape=(2,)), \n",
    "    tf.keras.layers.Dense(1, activation='sigmoid') \n",
    "])"
   ]
  },
  {
   "cell_type": "code",
   "execution_count": 1,
   "metadata": {
    "executionInfo": {
     "elapsed": 3,
     "status": "ok",
     "timestamp": 1652843665254,
     "user": {
      "displayName": "학부생최윤영",
      "userId": "02158530607889890659"
     },
     "user_tz": -540
    },
    "id": "5gKSfApO1yXz"
   },
   "outputs": [],
   "source": [
    "def linear(x):\n",
    "    '''\n",
    "    The function returns the variable that is passed in, so all types work.\n",
    "    '''\n",
    "    return x"
   ]
  },
  {
   "cell_type": "markdown",
   "metadata": {
    "id": "BwzMjeNhLUDS"
   },
   "source": [
    "- layer를 추가하거나 node를 늘렸을 때, 실험적으로 정확도가 전혀 올라가지 않았다.  \n",
    "- activation function의 역할 자체가 linear하던 값들을 linear하지 않게 만들어 주는 것인데, XOR은 linear하게 풀 수 없기 때문에 활성화함수가 꼭 있어야 한다.  \n",
    "- activation function이 없을 때는 neuron이나 layer의 수를 늘려도 학습을 제대로 하지 못한다.  "
   ]
  },
  {
   "cell_type": "markdown",
   "metadata": {
    "id": "ZiNnkGe41yXz"
   },
   "source": [
    "-------\n",
    "__Be joyful always!__ 1 Thes.5:16"
   ]
  }
 ],
 "metadata": {
  "colab": {
   "collapsed_sections": [],
   "name": "AI7-2 XOR.tf.keras Final.ipynb",
   "provenance": []
  },
  "kernelspec": {
   "display_name": "Python 3 (ipykernel)",
   "language": "python",
   "name": "python3"
  },
  "language_info": {
   "codemirror_mode": {
    "name": "ipython",
    "version": 3
   },
   "file_extension": ".py",
   "mimetype": "text/x-python",
   "name": "python",
   "nbconvert_exporter": "python",
   "pygments_lexer": "ipython3",
   "version": "3.9.7"
  }
 },
 "nbformat": 4,
 "nbformat_minor": 4
}
